{
 "cells": [
  {
   "cell_type": "markdown",
   "metadata": {
    "heading_collapsed": true
   },
   "source": [
    "### Word2Vec using Gensim"
   ]
  },
  {
   "cell_type": "code",
   "execution_count": 1,
   "metadata": {
    "hidden": true
   },
   "outputs": [
    {
     "name": "stderr",
     "output_type": "stream",
     "text": [
      "2018-11-23 23:42:34,891 : INFO : collecting all words and their counts\n",
      "2018-11-23 23:42:34,901 : INFO : PROGRESS: at sentence #0, processed 0 words, keeping 0 word types\n",
      "2018-11-23 23:42:34,903 : INFO : collected 3 word types from a corpus of 4 raw words and 2 sentences\n",
      "2018-11-23 23:42:34,911 : INFO : Loading a fresh vocabulary\n",
      "2018-11-23 23:42:34,915 : INFO : effective_min_count=1 retains 3 unique words (100% of original 3, drops 0)\n",
      "2018-11-23 23:42:34,921 : INFO : effective_min_count=1 leaves 4 word corpus (100% of original 4, drops 0)\n",
      "2018-11-23 23:42:34,925 : INFO : deleting the raw counts dictionary of 3 items\n",
      "2018-11-23 23:42:34,932 : INFO : sample=0.001 downsamples 3 most-common words\n",
      "2018-11-23 23:42:34,938 : INFO : downsampling leaves estimated 0 word corpus (5.7% of prior 4)\n",
      "2018-11-23 23:42:34,940 : INFO : estimated required memory for 3 words and 100 dimensions: 3900 bytes\n",
      "2018-11-23 23:42:34,948 : INFO : resetting layer weights\n",
      "2018-11-23 23:42:34,972 : INFO : training model with 3 workers on 3 vocabulary and 100 features, using sg=0 hs=0 sample=0.001 negative=5 window=5\n",
      "2018-11-23 23:42:35,024 : INFO : worker thread finished; awaiting finish of 2 more threads\n",
      "2018-11-23 23:42:35,031 : INFO : worker thread finished; awaiting finish of 1 more threads\n",
      "2018-11-23 23:42:35,034 : INFO : worker thread finished; awaiting finish of 0 more threads\n",
      "2018-11-23 23:42:35,035 : INFO : EPOCH - 1 : training on 4 raw words (0 effective words) took 0.0s, 0 effective words/s\n",
      "2018-11-23 23:42:35,046 : INFO : worker thread finished; awaiting finish of 2 more threads\n",
      "2018-11-23 23:42:35,049 : INFO : worker thread finished; awaiting finish of 1 more threads\n",
      "2018-11-23 23:42:35,052 : INFO : worker thread finished; awaiting finish of 0 more threads\n",
      "2018-11-23 23:42:35,054 : INFO : EPOCH - 2 : training on 4 raw words (0 effective words) took 0.0s, 0 effective words/s\n",
      "2018-11-23 23:42:35,061 : INFO : worker thread finished; awaiting finish of 2 more threads\n",
      "2018-11-23 23:42:35,065 : INFO : worker thread finished; awaiting finish of 1 more threads\n",
      "2018-11-23 23:42:35,068 : INFO : worker thread finished; awaiting finish of 0 more threads\n",
      "2018-11-23 23:42:35,070 : INFO : EPOCH - 3 : training on 4 raw words (1 effective words) took 0.0s, 99 effective words/s\n",
      "2018-11-23 23:42:35,080 : INFO : worker thread finished; awaiting finish of 2 more threads\n",
      "2018-11-23 23:42:35,083 : INFO : worker thread finished; awaiting finish of 1 more threads\n",
      "2018-11-23 23:42:35,085 : INFO : worker thread finished; awaiting finish of 0 more threads\n",
      "2018-11-23 23:42:35,088 : INFO : EPOCH - 4 : training on 4 raw words (0 effective words) took 0.0s, 0 effective words/s\n",
      "2018-11-23 23:42:35,113 : INFO : worker thread finished; awaiting finish of 2 more threads\n",
      "2018-11-23 23:42:35,116 : INFO : worker thread finished; awaiting finish of 1 more threads\n",
      "2018-11-23 23:42:35,120 : INFO : worker thread finished; awaiting finish of 0 more threads\n",
      "2018-11-23 23:42:35,125 : INFO : EPOCH - 5 : training on 4 raw words (0 effective words) took 0.0s, 0 effective words/s\n",
      "2018-11-23 23:42:35,127 : INFO : training on a 20 raw words (1 effective words) took 0.1s, 7 effective words/s\n",
      "2018-11-23 23:42:35,130 : WARNING : under 10 jobs per worker: consider setting a smaller `batch_words' for smoother alpha decay\n"
     ]
    }
   ],
   "source": [
    "import gensim, logging\n",
    "logging.basicConfig(format='%(asctime)s : %(levelname)s : %(message)s', level=logging.INFO)\n",
    " \n",
    "sentences = [['first', 'sentence'], ['second', 'sentence']]\n",
    "# train word2vec on the two sentences\n",
    "# Gensim only requires that the input must provide sentences sequentially, \n",
    "# when iterated over. No need to keep everything in RAM: provide one sentence, process it, forget it, load another sentence\n",
    "model = gensim.models.Word2Vec(sentences, min_count=1)"
   ]
  },
  {
   "cell_type": "code",
   "execution_count": 45,
   "metadata": {
    "hidden": true,
    "scrolled": true
   },
   "outputs": [
    {
     "name": "stderr",
     "output_type": "stream",
     "text": [
      "2018-11-24 00:24:28,072 : INFO : loading projection weights from /home/karen/Downloads/data/glove.6B/glove.6B.100d.tmp.txt\n",
      "2018-11-24 00:26:45,137 : INFO : loaded (399999, 100) matrix from /home/karen/Downloads/data/glove.6B/glove.6B.100d.tmp.txt\n"
     ]
    },
    {
     "data": {
      "text/plain": [
       "<gensim.models.keyedvectors.Word2VecKeyedVectors at 0x7f770ca3cd30>"
      ]
     },
     "execution_count": 45,
     "metadata": {},
     "output_type": "execute_result"
    }
   ],
   "source": [
    "import os\n",
    "word2vec = gensim.models.KeyedVectors.load_word2vec_format(fname='/home/karen/Downloads/data/glove.6B/glove.6B.100d.tmp.txt', binary=False)\n",
    "word2vec"
   ]
  },
  {
   "cell_type": "code",
   "execution_count": 44,
   "metadata": {
    "hidden": true
   },
   "outputs": [],
   "source": [
    "with open('/home/karen/Downloads/data/glove.6B/glove.6B.100d.txt', 'r') as fread:\n",
    "    with open('/home/karen/Downloads/data/glove.6B/glove.6B.100d.tmp.txt', 'w') as fwrite:\n",
    "        fwrite.write('399999 100\\n')\n",
    "        for idx, line in enumerate(fread):\n",
    "            fwrite.write(line)"
   ]
  },
  {
   "cell_type": "code",
   "execution_count": 43,
   "metadata": {
    "hidden": true
   },
   "outputs": [],
   "source": [
    "!rm /home/karen/Downloads/data/glove.6B/glove.6B.100d.tmp.txt"
   ]
  },
  {
   "cell_type": "code",
   "execution_count": 46,
   "metadata": {
    "hidden": true
   },
   "outputs": [
    {
     "name": "stderr",
     "output_type": "stream",
     "text": [
      "2018-11-24 00:28:08,244 : INFO : precomputing L2-norms of word weight vectors\n"
     ]
    }
   ],
   "source": [
    "word2vec.init_sims(replace=True)"
   ]
  },
  {
   "cell_type": "code",
   "execution_count": 47,
   "metadata": {
    "hidden": true
   },
   "outputs": [
    {
     "data": {
      "text/plain": [
       "399999"
      ]
     },
     "execution_count": 47,
     "metadata": {},
     "output_type": "execute_result"
    }
   ],
   "source": [
    "len(word2vec.vocab)"
   ]
  },
  {
   "cell_type": "code",
   "execution_count": 56,
   "metadata": {
    "hidden": true,
    "scrolled": true
   },
   "outputs": [
    {
     "data": {
      "text/plain": [
       "array([ 0.14084136,  0.10044176, -0.17062186, -0.03504317, -0.03259846,\n",
       "        0.16226351,  0.00164017,  0.02982827, -0.04554551,  0.19863695,\n",
       "       -0.08848356, -0.03040672,  0.06940352,  0.03717477, -0.05495993,\n",
       "        0.05361199, -0.01390229, -0.01308273, -0.07149444,  0.08059222,\n",
       "       -0.16011068, -0.03823438,  0.07592923, -0.01951167, -0.00767571,\n",
       "       -0.14076705, -0.04336968, -0.19582428,  0.01398277,  0.07748415,\n",
       "       -0.11785013,  0.21659192, -0.01383613,  0.07638032, -0.10138992,\n",
       "       -0.1082482 , -0.03673607,  0.08005092, -0.05872075, -0.01275246,\n",
       "       -0.147268  ,  0.00342861, -0.00873196,  0.02516351,  0.06088596,\n",
       "       -0.05161836, -0.0100394 ,  0.03327952,  0.04757451,  0.04673779,\n",
       "       -0.04099397, -0.11782714, -0.05391094,  0.07558075,  0.00579424,\n",
       "       -0.30187368,  0.01918441, -0.0895591 ,  0.29233897,  0.04310788,\n",
       "       -0.00594   ,  0.01523573, -0.04347936, -0.01092671,  0.11162515,\n",
       "        0.01602999,  0.13726982,  0.06173506,  0.18407837,  0.16519998,\n",
       "        0.03331666, -0.04278062, -0.02724027, -0.04862705, -0.09478815,\n",
       "        0.13880351,  0.11250433, -0.09805897, -0.09296789, -0.17817003,\n",
       "        0.055572  ,  0.04316802, -0.00249795, -0.22557826, -0.25593367,\n",
       "       -0.04909405, -0.02562875, -0.08425928,  0.07797062, -0.1113262 ,\n",
       "        0.04604082,  0.04001042,  0.06554011,  0.08327927, -0.09876832,\n",
       "        0.07073379,  0.02987957, -0.05065782,  0.0969799 , -0.05943188],\n",
       "      dtype=float32)"
      ]
     },
     "execution_count": 56,
     "metadata": {},
     "output_type": "execute_result"
    }
   ],
   "source": [
    "word2vec.vectors_norm[word2vec.vocab['student'].index]"
   ]
  },
  {
   "cell_type": "markdown",
   "metadata": {
    "heading_collapsed": true,
    "hidden": true
   },
   "source": [
    "#### Sentence2Vec by word2vec"
   ]
  },
  {
   "cell_type": "code",
   "execution_count": 59,
   "metadata": {
    "hidden": true
   },
   "outputs": [],
   "source": [
    "def create_word2vec_matrix(text, word2vec):\n",
    "    word2vec_matrix=[]\n",
    "    count=0\n",
    "    for line in text:\n",
    "        word_lst=line.split()\n",
    "        current_word2vec=[]\n",
    "        for word in word_lst:\n",
    "            if word in word2vec.vocab:\n",
    "                # word2vec = token2idx\n",
    "                vec = word2vec.vectors_norm[word2vec.vocab[word].index]\n",
    "                if vec is not None:\n",
    "                    current_word2vec.append(vec)\n",
    "            else:\n",
    "                print(word)\n",
    "                count+=1\n",
    "                continue\n",
    "        # add up all the vector of each word to get the vector of a sentence \n",
    "        if np.array(current_word2vec).shape[0]!=0:\n",
    "            sentence_word2vec = list(np.array(current_word2vec).mean(axis=0))\n",
    "            word2vec_matrix.append(sentence_word2vec)\n",
    "        current_word2vec=[]\n",
    "    return word2vec_matrix, count"
   ]
  },
  {
   "cell_type": "code",
   "execution_count": 62,
   "metadata": {
    "hidden": true
   },
   "outputs": [],
   "source": [
    "text = ['fantastic beasts and where to find them', \n",
    "        'fantastic beasts the crimes of grindelwald']\n",
    "word2vec_matrix, count = create_word2vec_matrix(text, word2vec)"
   ]
  },
  {
   "cell_type": "code",
   "execution_count": 67,
   "metadata": {
    "hidden": true
   },
   "outputs": [
    {
     "data": {
      "text/plain": [
       "array([[-0.01363225,  0.0632612 ,  0.0532789 , -0.06067752, -0.03203793,\n",
       "         0.0573948 , -0.05758385,  0.02891669, -0.01005686, -0.04475319,\n",
       "         0.03142466, -0.00525038,  0.03889203, -0.01838762,  0.04951621,\n",
       "        -0.0357757 ,  0.04723538,  0.06406571, -0.110898  ,  0.08045464,\n",
       "         0.06799715, -0.03494107,  0.05513481, -0.04234928,  0.04503259,\n",
       "        -0.0038799 , -0.02963971, -0.0674924 ,  0.0407795 , -0.05591179,\n",
       "        -0.03720056,  0.01724851, -0.06198395, -0.00394624,  0.01963765,\n",
       "         0.04357598, -0.03199228,  0.04052764,  0.01646447, -0.06384147,\n",
       "        -0.06349035, -0.01205016, -0.03160828, -0.10188204, -0.02248716,\n",
       "         0.05475311, -0.00057904, -0.00529261,  0.00310575, -0.06026373,\n",
       "        -0.03455113,  0.0093182 ,  0.04103724,  0.22216587, -0.00798338,\n",
       "        -0.37076157,  0.0060763 , -0.02901358,  0.19122097,  0.05265542,\n",
       "        -0.0445339 ,  0.15990758, -0.07531472,  0.02351545,  0.13658723,\n",
       "        -0.00910989,  0.08402754,  0.06993966,  0.04774452, -0.07440751,\n",
       "         0.00432026, -0.1105385 ,  0.01313347, -0.07487839,  0.02296722,\n",
       "         0.0301899 , -0.0280746 , -0.01931024, -0.08416656,  0.03807382,\n",
       "         0.1088913 ,  0.05673665, -0.07269619,  0.04082172, -0.2123229 ,\n",
       "        -0.03421097,  0.00801395, -0.01705644, -0.07357238, -0.03133134,\n",
       "        -0.01436853, -0.05166963,  0.02597543, -0.01765687, -0.12825742,\n",
       "        -0.05672801, -0.09524342, -0.05342931,  0.0833168 ,  0.04327292],\n",
       "       [ 0.00253851, -0.00877398,  0.0734567 , -0.00424336,  0.00065437,\n",
       "         0.05516574, -0.07829381,  0.01089091, -0.05188168, -0.02742841,\n",
       "         0.02640177,  0.01450567, -0.00968969, -0.03183353,  0.04959001,\n",
       "         0.02107229,  0.01465111,  0.03763356, -0.07321229,  0.02437557,\n",
       "         0.0532227 , -0.02813247, -0.01158483, -0.04175212,  0.03454379,\n",
       "        -0.02026052,  0.03413947, -0.00275082, -0.01641666, -0.04765847,\n",
       "         0.02100672, -0.03880749, -0.03762351, -0.04919778,  0.00471069,\n",
       "        -0.00720015, -0.01010328,  0.0680422 ,  0.0268242 , -0.07889139,\n",
       "        -0.05303546,  0.02562189,  0.00818047, -0.0245726 ,  0.00355374,\n",
       "         0.08366998,  0.06239701, -0.02762469, -0.01287852, -0.00160172,\n",
       "        -0.00158122,  0.01933938,  0.03472779,  0.13059537, -0.0444909 ,\n",
       "        -0.20608287,  0.01566952,  0.01300212,  0.10512716,  0.02248251,\n",
       "        -0.01267021,  0.11147016, -0.04865355, -0.00529323,  0.08803131,\n",
       "         0.01013602,  0.01064846,  0.01560272,  0.03319718, -0.03983454,\n",
       "         0.04644413, -0.10616875, -0.00987621,  0.05064338,  0.01425096,\n",
       "         0.02025635, -0.02772122, -0.01244517, -0.07074878,  0.04453899,\n",
       "         0.09321102,  0.10945683, -0.02349626,  0.04435547, -0.16061288,\n",
       "        -0.00520629, -0.0616868 , -0.02149554,  0.00955985, -0.01845567,\n",
       "        -0.02264366, -0.02768158,  0.03380519,  0.06865028, -0.03667846,\n",
       "        -0.05988262, -0.10793936, -0.03674577,  0.06783447,  0.01057718]],\n",
       "      dtype=float32)"
      ]
     },
     "execution_count": 67,
     "metadata": {},
     "output_type": "execute_result"
    }
   ],
   "source": [
    "np.array(word2vec_matrix)"
   ]
  },
  {
   "cell_type": "code",
   "execution_count": 70,
   "metadata": {
    "hidden": true
   },
   "outputs": [
    {
     "data": {
      "text/plain": [
       "0"
      ]
     },
     "execution_count": 70,
     "metadata": {},
     "output_type": "execute_result"
    }
   ],
   "source": [
    "count # so all words are in vocab"
   ]
  },
  {
   "cell_type": "code",
   "execution_count": 72,
   "metadata": {
    "hidden": true
   },
   "outputs": [
    {
     "data": {
      "text/plain": [
       "0.8124398589134216"
      ]
     },
     "execution_count": 72,
     "metadata": {},
     "output_type": "execute_result"
    }
   ],
   "source": [
    "sentence1 = word2vec_matrix[0]\n",
    "sentence2 = word2vec_matrix[1]\n",
    "from scipy import spatial\n",
    "\n",
    "# calculate the cosine similarity\n",
    "1 - spatial.distance.cosine(sentence1, sentence2)"
   ]
  },
  {
   "cell_type": "markdown",
   "metadata": {
    "heading_collapsed": true,
    "hidden": true
   },
   "source": [
    "#### Most similar words"
   ]
  },
  {
   "cell_type": "code",
   "execution_count": 95,
   "metadata": {
    "hidden": true
   },
   "outputs": [
    {
     "name": "stderr",
     "output_type": "stream",
     "text": [
      "/usr/local/lib/python3.6/dist-packages/gensim/matutils.py:737: FutureWarning: Conversion of the second argument of issubdtype from `int` to `np.signedinteger` is deprecated. In future, it will be treated as `np.int64 == np.dtype(int).type`.\n",
      "  if np.issubdtype(vec.dtype, np.int):\n"
     ]
    },
    {
     "data": {
      "text/plain": [
       "[('school', 0.7116979360580444),\n",
       " ('elementary', 0.7066525220870972),\n",
       " ('grades', 0.7055771350860596),\n",
       " ('schools', 0.6759970188140869),\n",
       " ('preschool', 0.6746401786804199),\n",
       " ('pupils', 0.6707763075828552),\n",
       " ('classes', 0.646867036819458),\n",
       " ('schooling', 0.6365389227867126),\n",
       " ('vocational', 0.6250067949295044),\n",
       " ('enrollment', 0.6218675374984741)]"
      ]
     },
     "execution_count": 95,
     "metadata": {},
     "output_type": "execute_result"
    }
   ],
   "source": [
    "word2vec.most_similar(positive=['kindergarten', 'college'], negative=['scientist'], topn=10)"
   ]
  },
  {
   "cell_type": "markdown",
   "metadata": {
    "heading_collapsed": true,
    "hidden": true
   },
   "source": [
    "#### Find the different word in a sentence"
   ]
  },
  {
   "cell_type": "code",
   "execution_count": 76,
   "metadata": {
    "hidden": true
   },
   "outputs": [
    {
     "name": "stderr",
     "output_type": "stream",
     "text": [
      "/usr/local/lib/python3.6/dist-packages/gensim/matutils.py:737: FutureWarning: Conversion of the second argument of issubdtype from `int` to `np.signedinteger` is deprecated. In future, it will be treated as `np.int64 == np.dtype(int).type`.\n",
      "  if np.issubdtype(vec.dtype, np.int):\n"
     ]
    },
    {
     "data": {
      "text/plain": [
       "'cereal'"
      ]
     },
     "execution_count": 76,
     "metadata": {},
     "output_type": "execute_result"
    }
   ],
   "source": [
    "word2vec.doesnt_match(\"breakfast cereal dinner lunch\".split())"
   ]
  },
  {
   "cell_type": "markdown",
   "metadata": {
    "hidden": true
   },
   "source": [
    "#### calculate the similarity between two words"
   ]
  },
  {
   "cell_type": "code",
   "execution_count": 100,
   "metadata": {
    "hidden": true
   },
   "outputs": [
    {
     "name": "stderr",
     "output_type": "stream",
     "text": [
      "/usr/local/lib/python3.6/dist-packages/gensim/matutils.py:737: FutureWarning: Conversion of the second argument of issubdtype from `int` to `np.signedinteger` is deprecated. In future, it will be treated as `np.int64 == np.dtype(int).type`.\n",
      "  if np.issubdtype(vec.dtype, np.int):\n"
     ]
    },
    {
     "data": {
      "text/plain": [
       "0.1993172"
      ]
     },
     "execution_count": 100,
     "metadata": {},
     "output_type": "execute_result"
    }
   ],
   "source": [
    "word2vec.similarity('apocalypse', 'disaster')"
   ]
  },
  {
   "cell_type": "markdown",
   "metadata": {},
   "source": [
    "### [Word2Vec using Fasttext](https://pypi.org/project/fasttext/)"
   ]
  },
  {
   "cell_type": "code",
   "execution_count": null,
   "metadata": {},
   "outputs": [],
   "source": [
    "import io\n",
    "\n",
    "def load_vectors(fname):\n",
    "    fin = io.open(fname, 'r', encoding='utf-8', newline='\\n', errors='ignore')\n",
    "    n, d = map(int, fin.readline().split())\n",
    "    data = {}\n",
    "    for line in fin:\n",
    "        tokens = line.rstrip().split(' ')\n",
    "        data[tokens[0]] = map(float, tokens[1:])\n",
    "    return data\n",
    "\n",
    "load_vectors('/home/karen/Downloads/data/wiki-news-300d-1M.vec')"
   ]
  },
  {
   "cell_type": "code",
   "execution_count": 104,
   "metadata": {},
   "outputs": [
    {
     "data": {
      "text/plain": [
       "[-0.000991184264421463,\n",
       " -0.001029246486723423,\n",
       " 0.0006811252678744495,\n",
       " 0.00011803481174865738,\n",
       " -0.0006219972274266183,\n",
       " 0.001100853318348527,\n",
       " 0.00014544253644999117,\n",
       " -0.0008069276809692383,\n",
       " 0.0008861601236276329,\n",
       " 0.0005640610470436513,\n",
       " 0.00018239919154439121,\n",
       " 0.002081118058413267,\n",
       " 0.0011119148693978786,\n",
       " -8.017678737815004e-06,\n",
       " 0.0019191585015505552,\n",
       " 0.002273016609251499,\n",
       " 0.0004999999655410647,\n",
       " 0.0008727581007406116,\n",
       " 0.0017401062650606036,\n",
       " 0.00136960344389081,\n",
       " -0.00010665664740372449,\n",
       " 0.0006562909111380577,\n",
       " -0.0005103441653773189,\n",
       " 0.0006105859065428376,\n",
       " -0.001563229481689632,\n",
       " 0.0024708015844225883,\n",
       " -7.241084676934406e-05,\n",
       " 0.00035496175405569375,\n",
       " -0.0008005818235687912,\n",
       " 0.001430544420145452,\n",
       " 0.0005475004436448216,\n",
       " -0.000570164353121072,\n",
       " 0.00010769572691060603,\n",
       " -2.468213642714545e-05,\n",
       " 0.0015175550943240523,\n",
       " 0.0003394550003577024,\n",
       " -0.0006585742812603712,\n",
       " -0.0010379229206591845,\n",
       " 0.0002934975200332701,\n",
       " -0.0004705099854618311,\n",
       " -0.0005588103667832911,\n",
       " -0.0001224353618454188,\n",
       " 0.00018472163355909288,\n",
       " -0.0008804462268017232,\n",
       " -0.000540959823410958,\n",
       " 0.0007997071370482445,\n",
       " -0.000813662598375231,\n",
       " -0.0012080087326467037,\n",
       " 0.00136748724617064,\n",
       " 0.0007802385371178389,\n",
       " 0.0003648688143584877,\n",
       " -3.339976683491841e-05,\n",
       " -0.00031441979808732867,\n",
       " -0.0003039219882339239,\n",
       " -0.0005072257481515408,\n",
       " 0.0010179569944739342,\n",
       " -0.0009995679138228297,\n",
       " -0.0003505126223899424,\n",
       " 0.0003821019490715116,\n",
       " 0.0011511098127812147,\n",
       " -0.0005719128530472517,\n",
       " -0.0006986728403717279,\n",
       " 0.0005401912494562566,\n",
       " -0.0013313741656020284,\n",
       " 0.00041330300155095756,\n",
       " -0.0006128869135864079,\n",
       " 0.0012367976596578956,\n",
       " -0.001043042866513133,\n",
       " 0.000432994042057544,\n",
       " -0.0024143403861671686,\n",
       " -0.00034675822826102376,\n",
       " -0.00010233062494080514,\n",
       " 0.001215107273310423,\n",
       " 0.0012985324719920754,\n",
       " -6.912585376994684e-05,\n",
       " -2.201867027906701e-05,\n",
       " -0.0011087505845353007,\n",
       " -0.0006296449573710561,\n",
       " 0.0004131598980166018,\n",
       " 0.0010789132211357355,\n",
       " 0.001263558049686253,\n",
       " 0.00032109773019328713,\n",
       " 0.0006544655188918114,\n",
       " -0.0001419403706677258,\n",
       " -0.00021072222443763167,\n",
       " 0.00044179518590681255,\n",
       " 0.0007763911853544414,\n",
       " 0.0009751742472872138,\n",
       " -0.0004021052736788988,\n",
       " -0.0007130807498469949,\n",
       " -0.001583990640938282,\n",
       " -0.0005740714841522276,\n",
       " -0.0015615387819707394,\n",
       " -0.0025593223981559277,\n",
       " 0.00018674305465538055,\n",
       " 0.0009086879435926676,\n",
       " 0.0008893464109860361,\n",
       " 0.00039883964927867055,\n",
       " -0.0007123534451238811,\n",
       " 0.0025303619913756847]"
      ]
     },
     "execution_count": 104,
     "metadata": {},
     "output_type": "execute_result"
    }
   ],
   "source": [
    "import fasttext\n",
    "\n",
    "# Skipgram model\n",
    "model = fasttext.skipgram('toy_data/second.txt', 'model')\n",
    "model['fantastic']"
   ]
  },
  {
   "cell_type": "code",
   "execution_count": null,
   "metadata": {},
   "outputs": [],
   "source": [
    "# CBOW model\n",
    "model = fasttext.cbow('toy_data/second.txt', 'model')"
   ]
  },
  {
   "cell_type": "code",
   "execution_count": 103,
   "metadata": {},
   "outputs": [
    {
     "data": {
      "text/plain": [
       "[-0.000991184264421463,\n",
       " -0.001029246486723423,\n",
       " 0.0006811252678744495,\n",
       " 0.00011803481174865738,\n",
       " -0.0006219972274266183,\n",
       " 0.001100853318348527,\n",
       " 0.00014544253644999117,\n",
       " -0.0008069276809692383,\n",
       " 0.0008861601236276329,\n",
       " 0.0005640610470436513,\n",
       " 0.00018239919154439121,\n",
       " 0.002081118058413267,\n",
       " 0.0011119148693978786,\n",
       " -8.017678737815004e-06,\n",
       " 0.0019191585015505552,\n",
       " 0.002273016609251499,\n",
       " 0.0004999999655410647,\n",
       " 0.0008727581007406116,\n",
       " 0.0017401062650606036,\n",
       " 0.00136960344389081,\n",
       " -0.00010665664740372449,\n",
       " 0.0006562909111380577,\n",
       " -0.0005103441653773189,\n",
       " 0.0006105859065428376,\n",
       " -0.001563229481689632,\n",
       " 0.0024708015844225883,\n",
       " -7.241084676934406e-05,\n",
       " 0.00035496175405569375,\n",
       " -0.0008005818235687912,\n",
       " 0.001430544420145452,\n",
       " 0.0005475004436448216,\n",
       " -0.000570164353121072,\n",
       " 0.00010769572691060603,\n",
       " -2.468213642714545e-05,\n",
       " 0.0015175550943240523,\n",
       " 0.0003394550003577024,\n",
       " -0.0006585742812603712,\n",
       " -0.0010379229206591845,\n",
       " 0.0002934975200332701,\n",
       " -0.0004705099854618311,\n",
       " -0.0005588103667832911,\n",
       " -0.0001224353618454188,\n",
       " 0.00018472163355909288,\n",
       " -0.0008804462268017232,\n",
       " -0.000540959823410958,\n",
       " 0.0007997071370482445,\n",
       " -0.000813662598375231,\n",
       " -0.0012080087326467037,\n",
       " 0.00136748724617064,\n",
       " 0.0007802385371178389,\n",
       " 0.0003648688143584877,\n",
       " -3.339976683491841e-05,\n",
       " -0.00031441979808732867,\n",
       " -0.0003039219882339239,\n",
       " -0.0005072257481515408,\n",
       " 0.0010179569944739342,\n",
       " -0.0009995679138228297,\n",
       " -0.0003505126223899424,\n",
       " 0.0003821019490715116,\n",
       " 0.0011511098127812147,\n",
       " -0.0005719128530472517,\n",
       " -0.0006986728403717279,\n",
       " 0.0005401912494562566,\n",
       " -0.0013313741656020284,\n",
       " 0.00041330300155095756,\n",
       " -0.0006128869135864079,\n",
       " 0.0012367976596578956,\n",
       " -0.001043042866513133,\n",
       " 0.000432994042057544,\n",
       " -0.0024143403861671686,\n",
       " -0.00034675822826102376,\n",
       " -0.00010233062494080514,\n",
       " 0.001215107273310423,\n",
       " 0.0012985324719920754,\n",
       " -6.912585376994684e-05,\n",
       " -2.201867027906701e-05,\n",
       " -0.0011087505845353007,\n",
       " -0.0006296449573710561,\n",
       " 0.0004131598980166018,\n",
       " 0.0010789132211357355,\n",
       " 0.001263558049686253,\n",
       " 0.00032109773019328713,\n",
       " 0.0006544655188918114,\n",
       " -0.0001419403706677258,\n",
       " -0.00021072222443763167,\n",
       " 0.00044179518590681255,\n",
       " 0.0007763911853544414,\n",
       " 0.0009751742472872138,\n",
       " -0.0004021052736788988,\n",
       " -0.0007130807498469949,\n",
       " -0.001583990640938282,\n",
       " -0.0005740714841522276,\n",
       " -0.0015615387819707394,\n",
       " -0.0025593223981559277,\n",
       " 0.00018674305465538055,\n",
       " 0.0009086879435926676,\n",
       " 0.0008893464109860361,\n",
       " 0.00039883964927867055,\n",
       " -0.0007123534451238811,\n",
       " 0.0025303619913756847]"
      ]
     },
     "execution_count": 103,
     "metadata": {},
     "output_type": "execute_result"
    }
   ],
   "source": [
    "# CBOW model\n",
    "model = fasttext.cbow('toy_data/second.txt', 'model')\n",
    "model['fantastic']"
   ]
  },
  {
   "cell_type": "code",
   "execution_count": 106,
   "metadata": {},
   "outputs": [],
   "source": [
    "model = fasttext.load_model('model.bin')\n",
    "# model['fantastic']"
   ]
  },
  {
   "cell_type": "code",
   "execution_count": null,
   "metadata": {},
   "outputs": [],
   "source": []
  }
 ],
 "metadata": {
  "kernelspec": {
   "display_name": "Python 3",
   "language": "python",
   "name": "python3"
  },
  "language_info": {
   "codemirror_mode": {
    "name": "ipython",
    "version": 3
   },
   "file_extension": ".py",
   "mimetype": "text/x-python",
   "name": "python",
   "nbconvert_exporter": "python",
   "pygments_lexer": "ipython3",
   "version": "3.6.6"
  },
  "latex_envs": {
   "LaTeX_envs_menu_present": true,
   "autoclose": false,
   "autocomplete": true,
   "bibliofile": "biblio.bib",
   "cite_by": "apalike",
   "current_citInitial": 1,
   "eqLabelWithNumbers": true,
   "eqNumInitial": 1,
   "hotkeys": {
    "equation": "Ctrl-E",
    "itemize": "Ctrl-I"
   },
   "labels_anchors": false,
   "latex_user_defs": false,
   "report_style_numbering": false,
   "user_envs_cfg": false
  },
  "varInspector": {
   "cols": {
    "lenName": 16,
    "lenType": 16,
    "lenVar": 40
   },
   "kernels_config": {
    "python": {
     "delete_cmd_postfix": "",
     "delete_cmd_prefix": "del ",
     "library": "var_list.py",
     "varRefreshCmd": "print(var_dic_list())"
    },
    "r": {
     "delete_cmd_postfix": ") ",
     "delete_cmd_prefix": "rm(",
     "library": "var_list.r",
     "varRefreshCmd": "cat(var_dic_list()) "
    }
   },
   "types_to_exclude": [
    "module",
    "function",
    "builtin_function_or_method",
    "instance",
    "_Feature"
   ],
   "window_display": false
  }
 },
 "nbformat": 4,
 "nbformat_minor": 2
}
