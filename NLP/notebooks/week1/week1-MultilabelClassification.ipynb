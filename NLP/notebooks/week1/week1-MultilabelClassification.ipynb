{
 "cells": [
  {
   "cell_type": "markdown",
   "metadata": {},
   "source": [
    "# Predict tags on StackOverflow with linear models"
   ]
  },
  {
   "cell_type": "markdown",
   "metadata": {},
   "source": [
    "In this assignment you will learn how to predict tags for posts from [StackOverflow](https://stackoverflow.com). To solve this task you will use multilabel classification approach.\n",
    "\n",
    "### Libraries\n",
    "\n",
    "In this task you will need the following libraries:\n",
    "- [Numpy](http://www.numpy.org) — a package for scientific computing.\n",
    "- [Pandas](https://pandas.pydata.org) — a library providing high-performance, easy-to-use data structures and data analysis tools for the Python\n",
    "- [scikit-learn](http://scikit-learn.org/stable/index.html) — a tool for data mining and data analysis.\n",
    "- [NLTK](http://www.nltk.org) — a platform to work with natural language."
   ]
  },
  {
   "cell_type": "markdown",
   "metadata": {},
   "source": [
    "### Data\n",
    "\n",
    "The following cell will download all data required for this assignment into the folder `week1/data`."
   ]
  },
  {
   "cell_type": "code",
   "execution_count": 1,
   "metadata": {},
   "outputs": [],
   "source": [
    "import sys\n",
    "sys.path.append(\"..\")"
   ]
  },
  {
   "cell_type": "code",
   "execution_count": 2,
   "metadata": {},
   "outputs": [],
   "source": [
    "import os\n",
    "import shutil\n",
    "import requests\n",
    "from common import tqdm_utils\n",
    "\n",
    "\n",
    "REPOSITORY_PATH = \"https://github.com/hse-aml/natural-language-processing\"\n",
    "\n",
    "\n",
    "def download_file(url, file_path):\n",
    "    r = requests.get(url, stream=True)\n",
    "    print(r)\n",
    "    total_size = int(r.headers.get('content-length'))\n",
    "    print(total_size)\n",
    "    try:\n",
    "        with open(file_path, 'wb', buffering=16*1024*1024) as f:\n",
    "            bar = tqdm_utils.tqdm_notebook_failsafe(total=total_size, unit='B', unit_scale=True)\n",
    "            print(bar)\n",
    "            bar.set_description(os.path.split(file_path)[-1])\n",
    "            for chunk in r.iter_content(32 * 1024):\n",
    "                print(chunk[:10])\n",
    "                f.write(chunk)\n",
    "                bar.update(len(chunk))\n",
    "            bar.close()\n",
    "    except Exception:\n",
    "        print(\"Download failed\")\n",
    "    finally:\n",
    "        if os.path.getsize(file_path) != total_size:\n",
    "            os.remove(file_path)\n",
    "            print(\"Removed incomplete download\")\n",
    "\n",
    "\n",
    "def download_from_github(version, fn, target_dir, force=False):\n",
    "    url = REPOSITORY_PATH + \"/releases/download/{0}/{1}\".format(version, fn)\n",
    "    file_path = os.path.join(target_dir, fn)\n",
    "    if os.path.exists(file_path) and not force:\n",
    "        print(\"File {} is already downloaded.\".format(file_path))\n",
    "        return\n",
    "    download_file(url, file_path)\n",
    "\n",
    "\n",
    "def sequential_downloader(version, fns, target_dir, force=False):\n",
    "    os.makedirs(target_dir, exist_ok=True)\n",
    "    for fn in fns:\n",
    "        download_from_github(version, fn, target_dir, force=force)\n",
    "\n",
    "\n",
    "def download_resources(force=False):\n",
    "    sequential_downloader(\n",
    "        \"week1\",\n",
    "        [\n",
    "            \"train.tsv\",\n",
    "            \"validation.tsv\",\n",
    "            \"test.tsv\",\n",
    "            \"text_prepare_tests.tsv\",\n",
    "        ],\n",
    "        \"data\",\n",
    "        force=force\n",
    "    )\n"
   ]
  },
  {
   "cell_type": "code",
   "execution_count": 3,
   "metadata": {},
   "outputs": [
    {
     "name": "stdout",
     "output_type": "stream",
     "text": [
      "File data/train.tsv is already downloaded.\n",
      "File data/validation.tsv is already downloaded.\n",
      "File data/test.tsv is already downloaded.\n",
      "File data/text_prepare_tests.tsv is already downloaded.\n"
     ]
    }
   ],
   "source": [
    "download_resources()"
   ]
  },
  {
   "cell_type": "markdown",
   "metadata": {},
   "source": [
    "### Grading\n",
    "We will create a grader instance below and use it to collect your answers. Note that these outputs will be stored locally inside grader and will be uploaded to platform only after running submitting function in the last part of this assignment. If you want to make partial submission, you can run that cell any time you want."
   ]
  },
  {
   "cell_type": "code",
   "execution_count": 4,
   "metadata": {},
   "outputs": [],
   "source": [
    "from grader import Grader"
   ]
  },
  {
   "cell_type": "code",
   "execution_count": 5,
   "metadata": {},
   "outputs": [],
   "source": [
    "grader = Grader()"
   ]
  },
  {
   "cell_type": "markdown",
   "metadata": {},
   "source": [
    "### Text preprocessing"
   ]
  },
  {
   "cell_type": "markdown",
   "metadata": {},
   "source": [
    "For this and most of the following assignments you will need to use a list of stop words. It can be downloaded from *nltk*:"
   ]
  },
  {
   "cell_type": "code",
   "execution_count": 6,
   "metadata": {},
   "outputs": [
    {
     "name": "stdout",
     "output_type": "stream",
     "text": [
      "[nltk_data] Downloading package stopwords to /home/karen/nltk_data...\n",
      "[nltk_data]   Package stopwords is already up-to-date!\n"
     ]
    }
   ],
   "source": [
    "import nltk\n",
    "nltk.download('stopwords')\n",
    "from nltk.corpus import stopwords"
   ]
  },
  {
   "cell_type": "markdown",
   "metadata": {},
   "source": [
    "In this task you will deal with a dataset of post titles from StackOverflow. You are provided a split to 3 sets: *train*, *validation* and *test*. All corpora (except for *test*) contain titles of the posts and corresponding tags (100 tags are available). The *test* set is provided for Coursera's grading and doesn't contain answers. Upload the corpora using *pandas* and look at the data:"
   ]
  },
  {
   "cell_type": "code",
   "execution_count": 7,
   "metadata": {},
   "outputs": [],
   "source": [
    "from ast import literal_eval\n",
    "import pandas as pd\n",
    "import numpy as np"
   ]
  },
  {
   "cell_type": "code",
   "execution_count": 8,
   "metadata": {},
   "outputs": [
    {
     "data": {
      "text/html": [
       "<div>\n",
       "<style scoped>\n",
       "    .dataframe tbody tr th:only-of-type {\n",
       "        vertical-align: middle;\n",
       "    }\n",
       "\n",
       "    .dataframe tbody tr th {\n",
       "        vertical-align: top;\n",
       "    }\n",
       "\n",
       "    .dataframe thead th {\n",
       "        text-align: right;\n",
       "    }\n",
       "</style>\n",
       "<table border=\"1\" class=\"dataframe\">\n",
       "  <thead>\n",
       "    <tr style=\"text-align: right;\">\n",
       "      <th></th>\n",
       "      <th>title</th>\n",
       "      <th>tags</th>\n",
       "    </tr>\n",
       "  </thead>\n",
       "  <tbody>\n",
       "    <tr>\n",
       "      <th>0</th>\n",
       "      <td>How to draw a stacked dotplot in R?</td>\n",
       "      <td>['r']</td>\n",
       "    </tr>\n",
       "    <tr>\n",
       "      <th>1</th>\n",
       "      <td>mysql select all records where a datetime fiel...</td>\n",
       "      <td>['php', 'mysql']</td>\n",
       "    </tr>\n",
       "    <tr>\n",
       "      <th>2</th>\n",
       "      <td>How to terminate windows phone 8.1 app</td>\n",
       "      <td>['c#']</td>\n",
       "    </tr>\n",
       "    <tr>\n",
       "      <th>3</th>\n",
       "      <td>get current time in a specific country via jquery</td>\n",
       "      <td>['javascript', 'jquery']</td>\n",
       "    </tr>\n",
       "    <tr>\n",
       "      <th>4</th>\n",
       "      <td>Configuring Tomcat to Use SSL</td>\n",
       "      <td>['java']</td>\n",
       "    </tr>\n",
       "  </tbody>\n",
       "</table>\n",
       "</div>"
      ],
      "text/plain": [
       "                                               title                      tags\n",
       "0                How to draw a stacked dotplot in R?                     ['r']\n",
       "1  mysql select all records where a datetime fiel...          ['php', 'mysql']\n",
       "2             How to terminate windows phone 8.1 app                    ['c#']\n",
       "3  get current time in a specific country via jquery  ['javascript', 'jquery']\n",
       "4                      Configuring Tomcat to Use SSL                  ['java']"
      ]
     },
     "execution_count": 8,
     "metadata": {},
     "output_type": "execute_result"
    }
   ],
   "source": [
    "pd.read_csv('data/train.tsv', sep='\\t').head()"
   ]
  },
  {
   "cell_type": "code",
   "execution_count": 9,
   "metadata": {},
   "outputs": [],
   "source": [
    "def read_data(filename):\n",
    "    data = pd.read_csv(filename, sep='\\t')\n",
    "    data['tags'] = data['tags'].apply(literal_eval)\n",
    "    return data"
   ]
  },
  {
   "cell_type": "code",
   "execution_count": 10,
   "metadata": {},
   "outputs": [],
   "source": [
    "train = read_data('data/train.tsv')\n",
    "validation = read_data('data/validation.tsv')\n",
    "test = pd.read_csv('data/test.tsv', sep='\\t')"
   ]
  },
  {
   "cell_type": "code",
   "execution_count": 11,
   "metadata": {},
   "outputs": [
    {
     "data": {
      "text/html": [
       "<div>\n",
       "<style scoped>\n",
       "    .dataframe tbody tr th:only-of-type {\n",
       "        vertical-align: middle;\n",
       "    }\n",
       "\n",
       "    .dataframe tbody tr th {\n",
       "        vertical-align: top;\n",
       "    }\n",
       "\n",
       "    .dataframe thead th {\n",
       "        text-align: right;\n",
       "    }\n",
       "</style>\n",
       "<table border=\"1\" class=\"dataframe\">\n",
       "  <thead>\n",
       "    <tr style=\"text-align: right;\">\n",
       "      <th></th>\n",
       "      <th>title</th>\n",
       "      <th>tags</th>\n",
       "    </tr>\n",
       "  </thead>\n",
       "  <tbody>\n",
       "    <tr>\n",
       "      <th>0</th>\n",
       "      <td>How to draw a stacked dotplot in R?</td>\n",
       "      <td>[r]</td>\n",
       "    </tr>\n",
       "    <tr>\n",
       "      <th>1</th>\n",
       "      <td>mysql select all records where a datetime fiel...</td>\n",
       "      <td>[php, mysql]</td>\n",
       "    </tr>\n",
       "    <tr>\n",
       "      <th>2</th>\n",
       "      <td>How to terminate windows phone 8.1 app</td>\n",
       "      <td>[c#]</td>\n",
       "    </tr>\n",
       "    <tr>\n",
       "      <th>3</th>\n",
       "      <td>get current time in a specific country via jquery</td>\n",
       "      <td>[javascript, jquery]</td>\n",
       "    </tr>\n",
       "    <tr>\n",
       "      <th>4</th>\n",
       "      <td>Configuring Tomcat to Use SSL</td>\n",
       "      <td>[java]</td>\n",
       "    </tr>\n",
       "  </tbody>\n",
       "</table>\n",
       "</div>"
      ],
      "text/plain": [
       "                                               title                  tags\n",
       "0                How to draw a stacked dotplot in R?                   [r]\n",
       "1  mysql select all records where a datetime fiel...          [php, mysql]\n",
       "2             How to terminate windows phone 8.1 app                  [c#]\n",
       "3  get current time in a specific country via jquery  [javascript, jquery]\n",
       "4                      Configuring Tomcat to Use SSL                [java]"
      ]
     },
     "execution_count": 11,
     "metadata": {},
     "output_type": "execute_result"
    }
   ],
   "source": [
    "train.head()"
   ]
  },
  {
   "cell_type": "markdown",
   "metadata": {},
   "source": [
    "As you can see, *title* column contains titles of the posts and *tags* column contains the tags. It could be noticed that the number of tags for a post is not fixed and could be as many as necessary."
   ]
  },
  {
   "cell_type": "markdown",
   "metadata": {},
   "source": [
    "For a more comfortable usage, initialize *X_train*, *X_val*, *X_test*, *y_train*, *y_val*."
   ]
  },
  {
   "cell_type": "code",
   "execution_count": 12,
   "metadata": {},
   "outputs": [],
   "source": [
    "X_train, y_train = train['title'].values, train['tags'].values\n",
    "X_val, y_val = validation['title'].values, validation['tags'].values\n",
    "X_test = test['title'].values"
   ]
  },
  {
   "cell_type": "code",
   "execution_count": 13,
   "metadata": {},
   "outputs": [
    {
     "data": {
      "text/plain": [
       "array(['How to draw a stacked dotplot in R?',\n",
       "       'mysql select all records where a datetime field is less than a specified value',\n",
       "       'How to terminate windows phone 8.1 app', ...,\n",
       "       'Python Pandas Series of Datetimes to Seconds Since the Epoch',\n",
       "       'jqGrid issue grouping - Duplicate rows get appended every time sort is changed',\n",
       "       'Create a List of primitive int?'], dtype=object)"
      ]
     },
     "execution_count": 13,
     "metadata": {},
     "output_type": "execute_result"
    }
   ],
   "source": [
    "X_train"
   ]
  },
  {
   "cell_type": "markdown",
   "metadata": {},
   "source": [
    "One of the most known difficulties when working with natural data is that it's unstructured. For example, if you use it \"as is\" and extract tokens just by splitting the titles by whitespaces, you will see that there are many \"weird\" tokens like *3.5?*, *\"Flip*, etc. To prevent the problems, it's usually useful to prepare the data somehow. In this task you'll write a function, which will be also used in the other assignments. \n",
    "\n",
    "**Task 1 (TextPrepare).** Implement the function *text_prepare* following the instructions. After that, run the function *test_test_prepare* to test it on tiny cases and submit it to Coursera."
   ]
  },
  {
   "cell_type": "code",
   "execution_count": 14,
   "metadata": {},
   "outputs": [],
   "source": [
    "import re"
   ]
  },
  {
   "cell_type": "code",
   "execution_count": 15,
   "metadata": {
    "scrolled": true
   },
   "outputs": [
    {
     "data": {
      "text/plain": [
       "'love'"
      ]
     },
     "execution_count": 15,
     "metadata": {},
     "output_type": "execute_result"
    }
   ],
   "source": [
    "s = set(stopwords.words('english'))\n",
    "tex='i love you'\n",
    "tex = np.array(tex.split())\n",
    "' '.join(tex[np.where(list(map(lambda x: x not in s, tex)))[0]])"
   ]
  },
  {
   "cell_type": "code",
   "execution_count": 16,
   "metadata": {},
   "outputs": [
    {
     "data": {
      "text/plain": [
       "{'a',\n",
       " 'about',\n",
       " 'above',\n",
       " 'after',\n",
       " 'again',\n",
       " 'against',\n",
       " 'ain',\n",
       " 'all',\n",
       " 'am',\n",
       " 'an',\n",
       " 'and',\n",
       " 'any',\n",
       " 'are',\n",
       " 'aren',\n",
       " \"aren't\",\n",
       " 'as',\n",
       " 'at',\n",
       " 'be',\n",
       " 'because',\n",
       " 'been',\n",
       " 'before',\n",
       " 'being',\n",
       " 'below',\n",
       " 'between',\n",
       " 'both',\n",
       " 'but',\n",
       " 'by',\n",
       " 'can',\n",
       " 'couldn',\n",
       " \"couldn't\",\n",
       " 'd',\n",
       " 'did',\n",
       " 'didn',\n",
       " \"didn't\",\n",
       " 'do',\n",
       " 'does',\n",
       " 'doesn',\n",
       " \"doesn't\",\n",
       " 'doing',\n",
       " 'don',\n",
       " \"don't\",\n",
       " 'down',\n",
       " 'during',\n",
       " 'each',\n",
       " 'few',\n",
       " 'for',\n",
       " 'from',\n",
       " 'further',\n",
       " 'had',\n",
       " 'hadn',\n",
       " \"hadn't\",\n",
       " 'has',\n",
       " 'hasn',\n",
       " \"hasn't\",\n",
       " 'have',\n",
       " 'haven',\n",
       " \"haven't\",\n",
       " 'having',\n",
       " 'he',\n",
       " 'her',\n",
       " 'here',\n",
       " 'hers',\n",
       " 'herself',\n",
       " 'him',\n",
       " 'himself',\n",
       " 'his',\n",
       " 'how',\n",
       " 'i',\n",
       " 'if',\n",
       " 'in',\n",
       " 'into',\n",
       " 'is',\n",
       " 'isn',\n",
       " \"isn't\",\n",
       " 'it',\n",
       " \"it's\",\n",
       " 'its',\n",
       " 'itself',\n",
       " 'just',\n",
       " 'll',\n",
       " 'm',\n",
       " 'ma',\n",
       " 'me',\n",
       " 'mightn',\n",
       " \"mightn't\",\n",
       " 'more',\n",
       " 'most',\n",
       " 'mustn',\n",
       " \"mustn't\",\n",
       " 'my',\n",
       " 'myself',\n",
       " 'needn',\n",
       " \"needn't\",\n",
       " 'no',\n",
       " 'nor',\n",
       " 'not',\n",
       " 'now',\n",
       " 'o',\n",
       " 'of',\n",
       " 'off',\n",
       " 'on',\n",
       " 'once',\n",
       " 'only',\n",
       " 'or',\n",
       " 'other',\n",
       " 'our',\n",
       " 'ours',\n",
       " 'ourselves',\n",
       " 'out',\n",
       " 'over',\n",
       " 'own',\n",
       " 're',\n",
       " 's',\n",
       " 'same',\n",
       " 'shan',\n",
       " \"shan't\",\n",
       " 'she',\n",
       " \"she's\",\n",
       " 'should',\n",
       " \"should've\",\n",
       " 'shouldn',\n",
       " \"shouldn't\",\n",
       " 'so',\n",
       " 'some',\n",
       " 'such',\n",
       " 't',\n",
       " 'than',\n",
       " 'that',\n",
       " \"that'll\",\n",
       " 'the',\n",
       " 'their',\n",
       " 'theirs',\n",
       " 'them',\n",
       " 'themselves',\n",
       " 'then',\n",
       " 'there',\n",
       " 'these',\n",
       " 'they',\n",
       " 'this',\n",
       " 'those',\n",
       " 'through',\n",
       " 'to',\n",
       " 'too',\n",
       " 'under',\n",
       " 'until',\n",
       " 'up',\n",
       " 've',\n",
       " 'very',\n",
       " 'was',\n",
       " 'wasn',\n",
       " \"wasn't\",\n",
       " 'we',\n",
       " 'were',\n",
       " 'weren',\n",
       " \"weren't\",\n",
       " 'what',\n",
       " 'when',\n",
       " 'where',\n",
       " 'which',\n",
       " 'while',\n",
       " 'who',\n",
       " 'whom',\n",
       " 'why',\n",
       " 'will',\n",
       " 'with',\n",
       " 'won',\n",
       " \"won't\",\n",
       " 'wouldn',\n",
       " \"wouldn't\",\n",
       " 'y',\n",
       " 'you',\n",
       " \"you'd\",\n",
       " \"you'll\",\n",
       " \"you're\",\n",
       " \"you've\",\n",
       " 'your',\n",
       " 'yours',\n",
       " 'yourself',\n",
       " 'yourselves'}"
      ]
     },
     "execution_count": 16,
     "metadata": {},
     "output_type": "execute_result"
    }
   ],
   "source": [
    "set(stopwords.words('english'))"
   ]
  },
  {
   "cell_type": "code",
   "execution_count": 17,
   "metadata": {},
   "outputs": [],
   "source": [
    "REPLACE_BY_SPACE_RE = re.compile('[/(){}\\[\\]\\|@,;]')\n",
    "BAD_SYMBOLS_RE = re.compile('[^0-9a-z #+_]')\n",
    "STOPWORDS = set(stopwords.words('english'))\n",
    "\n",
    "def text_prepare(text):\n",
    "    \"\"\"\n",
    "        text: a string\n",
    "        \n",
    "        return: modified initial string\n",
    "    \"\"\"\n",
    "    text = text.lower()\n",
    "    text = REPLACE_BY_SPACE_RE.sub(' ', text)\n",
    "    text = BAD_SYMBOLS_RE.sub('', text)\n",
    "    text = np.array(text.split())\n",
    "    text = ' '.join(text[np.where(list(map(lambda x: x not in s, text)))[0]])\n",
    "    return text"
   ]
  },
  {
   "cell_type": "code",
   "execution_count": 18,
   "metadata": {},
   "outputs": [],
   "source": [
    "def test_text_prepare():\n",
    "    examples = [\"SQL Server - any equivalent of Excel's CHOOSE function?\",\n",
    "                \"How to free c++ memory vector<int> * arr?\"]\n",
    "    answers = [\"sql server equivalent excels choose function\", \n",
    "               \"free c++ memory vectorint arr\"]\n",
    "    for ex, ans in zip(examples, answers):\n",
    "        if text_prepare(ex) != ans:\n",
    "            return \"Wrong answer for the case: '%s'\" % ex\n",
    "    return 'Basic tests are passed.'"
   ]
  },
  {
   "cell_type": "code",
   "execution_count": 19,
   "metadata": {},
   "outputs": [
    {
     "name": "stdout",
     "output_type": "stream",
     "text": [
      "Basic tests are passed.\n"
     ]
    }
   ],
   "source": [
    "print(test_text_prepare())"
   ]
  },
  {
   "cell_type": "markdown",
   "metadata": {},
   "source": [
    "Run your implementation for questions from file *text_prepare_tests.tsv* to earn the points."
   ]
  },
  {
   "cell_type": "code",
   "execution_count": 20,
   "metadata": {},
   "outputs": [
    {
     "name": "stdout",
     "output_type": "stream",
     "text": [
      "Current answer for task TextPrepare is:\n",
      " sqlite php readonly\n",
      "creating multiple textboxes dynamically\n",
      "self one prefer javascript\n",
      "save php date...\n"
     ]
    }
   ],
   "source": [
    "prepared_questions = []\n",
    "for line in open('data/text_prepare_tests.tsv', encoding='utf-8'):\n",
    "    line = text_prepare(line.strip())\n",
    "    prepared_questions.append(line)\n",
    "text_prepare_results = '\\n'.join(prepared_questions)\n",
    "\n",
    "grader.submit_tag('TextPrepare', text_prepare_results)"
   ]
  },
  {
   "cell_type": "markdown",
   "metadata": {},
   "source": [
    "Now we can preprocess the titles using function *text_prepare* and  making sure that the headers don't have bad symbols:"
   ]
  },
  {
   "cell_type": "code",
   "execution_count": 21,
   "metadata": {},
   "outputs": [],
   "source": [
    "X_train = [text_prepare(x) for x in X_train]\n",
    "X_val = [text_prepare(x) for x in X_val]\n",
    "X_test = [text_prepare(x) for x in X_test]"
   ]
  },
  {
   "cell_type": "code",
   "execution_count": 22,
   "metadata": {},
   "outputs": [
    {
     "data": {
      "text/plain": [
       "(['draw stacked dotplot r',\n",
       "  'mysql select records datetime field less specified value',\n",
       "  'terminate windows phone 81 app',\n",
       "  'get current time specific country via jquery',\n",
       "  'configuring tomcat use ssl',\n",
       "  'awesome nested set plugin add new children tree various levels',\n",
       "  'create map json response ruby rails 3',\n",
       "  'rspec test method called',\n",
       "  'springboot catalina lifecycle exception',\n",
       "  'import data excel mysql database using php'],\n",
       " array([list(['r']), list(['php', 'mysql']), list(['c#']),\n",
       "        list(['javascript', 'jquery']), list(['java']),\n",
       "        list(['ruby-on-rails']), list(['ruby', 'ruby-on-rails-3', 'json']),\n",
       "        list(['ruby']), list(['java', 'spring', 'spring-mvc']),\n",
       "        list(['php', 'codeigniter'])], dtype=object))"
      ]
     },
     "execution_count": 22,
     "metadata": {},
     "output_type": "execute_result"
    }
   ],
   "source": [
    "X_train[:10], y_train[:10]"
   ]
  },
  {
   "cell_type": "markdown",
   "metadata": {},
   "source": [
    "For each tag and for each word calculate how many times they occur in the train corpus. \n",
    "\n",
    "**Task 2 (WordsTagsCount).** Find 3 most popular tags and 3 most popular words in the train data and submit the results to earn the points."
   ]
  },
  {
   "cell_type": "code",
   "execution_count": 23,
   "metadata": {},
   "outputs": [],
   "source": [
    "# Dictionary of all tags from train corpus with their counts.\n",
    "tags_counts = {}\n",
    "# Dictionary of all words from train corpus with their counts.\n",
    "words_counts = {}\n",
    "\n",
    "for y in y_train.tolist():\n",
    "    for tag in y:\n",
    "        tags_counts[tag] = tags_counts.get(tag, 0)+1\n",
    "for sentence in X_train:\n",
    "    for word in sentence.split():\n",
    "        words_counts[word] = words_counts.get(word, 0)+1"
   ]
  },
  {
   "cell_type": "code",
   "execution_count": 24,
   "metadata": {},
   "outputs": [
    {
     "data": {
      "text/plain": [
       "(dict_items([('forms', 872), ('c#', 19077), ('ruby-on-rails', 3344), ('ruby-on-rails-3', 692), ('validation', 558), ('asp.net-mvc', 1244), ('jquery', 7510), ('performance', 512), ('database', 740), ('linq', 964), ('java', 18661), ('android', 2818), ('string', 1573), ('linux', 793), ('class', 509), ('visual-studio', 574), ('xcode', 900), ('sockets', 579), ('regex', 1442), ('servlets', 498), ('google-maps', 408), ('selenium', 431), ('xml', 1347), ('cocoa-touch', 507), ('uitableview', 460), ('dom', 400), ('apache', 441), ('django', 1835), ('wordpress', 478), ('ios', 3256), ('laravel', 525), ('sorting', 375), ('r', 1727), ('file', 582), ('angularjs', 1353), ('spring', 1346), ('datetime', 557), ('mysql', 3092), ('pandas', 479), ('codeigniter', 786), ('hibernate', 807), ('csv', 435), ('rest', 456), ('excel', 443), ('twitter-bootstrap', 501), ('algorithm', 419), ('asp.net', 3939), ('opencv', 401), ('node.js', 771), ('loops', 389), ('parsing', 403), ('c++', 6469), ('objective-c', 4338), ('css', 1769), ('arrays', 2277), ('winforms', 1468), ('.net', 3872), ('windows', 838), ('web-services', 633), ('entity-framework', 649), ('python', 8940), ('pointers', 350), ('c', 3119), ('spring-mvc', 618), ('oop', 425), ('wpf', 1289), ('html', 4668), ('python-2.7', 421), ('sql', 1272), ('swing', 759), ('sql-server', 585), ('multithreading', 1118), ('wcf', 389), ('function', 487), ('eclipse', 992), ('osx', 490), ('unit-testing', 449), ('visual-studio-2010', 588), ('xaml', 438), ('maven', 432), ('list', 693), ('ajax', 1767), ('generics', 420), ('jsp', 680), ('session', 415), ('facebook', 508), ('html5', 842), ('qt', 451), ('php', 13907), ('vb.net', 1918), ('iphone', 1909), ('date', 560), ('json', 2026), ('mongodb', 350), ('ruby', 2326), ('javascript', 19078), ('python-3.x', 379), ('numpy', 502), ('swift', 1465), ('image', 672)]),\n",
       " dict_items([('thisdbquery', 1), ('youtubephp', 1), ('seeding', 4), ('backbonejs', 74), ('send_confirmation_instructions', 1), ('keysrbutton', 1), ('bootstraping', 1), ('textbox1text', 1), ('mysqlconnectorpython', 1), ('10022', 1), ('collapsible', 7), ('compiles', 8), ('xsltransformtransform', 1), ('v232', 1), ('sethttpbody', 1), ('foreachelse', 1), ('dereferenceing', 1), ('native', 158), ('refreshing', 62), ('fields_for', 1), ('layoutcontrol', 1), ('nonwww', 1), ('serve', 26), ('rectangleswrite', 1), ('uitable', 1), ('updateview', 1), ('virtualizing', 1), ('consists', 2), ('nullable', 23), ('motion', 9), ('diceroll', 1), ('visiblity', 1), ('angularbootstrap', 2), ('moderate', 1), ('freases', 1), ('filetestexists', 1), ('waitkey', 2), ('pauses', 3), ('counter', 49), ('celleditending', 2), ('datatipformat', 1), ('comprehensionlike', 1), ('marks', 17), ('yposition', 1), ('heartbeats', 1), ('foundations', 1), ('phpinfo', 3), ('getimagetype', 1), ('jaxbcontext', 2), ('++myint', 1), ('threat', 1), ('aprovider', 1), ('readerwritelock', 1), ('naked', 1), ('webserviceexception', 1), ('bottomleft', 1), ('relates', 1), ('oraclejdbcdriver', 1), ('ajaxphp', 1), ('frustrated', 1), ('frozenset', 1), ('appxamlcs', 1), ('c0', 1), ('display_errors', 1), ('bundle', 92), ('betweeen', 2), ('inputstream', 41), ('webservice', 156), ('pieces', 9), ('sse', 2), ('cs5001', 1), ('comamazonawsauthawscredentials', 1), ('unauthenticated', 2), ('angularmodule', 1), ('arraylistobject', 4), ('propertygrid', 1), ('3gp', 3), ('getelementsbytagnamens', 1), ('2007+', 1), ('sym', 1), ('annotationbased', 3), ('neuralnet', 3), ('conjecture', 1), ('stackframe', 1), ('objloader', 1), ('definitely', 4), ('diagram', 6), ('md', 3), ('authuserfile', 1), ('cosine', 4), ('storedprocedure', 2), ('localhost1521xe', 1), ('node', 304), ('getedgelist', 1), ('##', 1), ('wxprogressdialog', 1), ('isprime', 1), ('choppy', 1), ('reloadsections', 1), ('communicate', 25), ('differences', 51), ('ciphersuite', 1), ('rtjar', 2), ('qlistwidgetitem', 1), ('listint32', 1), ('webviewdidfinishload', 2), ('rtmp', 1), ('decile', 1), ('queues', 19), ('healthy', 1), ('bbc', 2), ('possibility', 6), ('formating', 4), ('genexpr', 1), ('recursiveinclude', 1), ('iopopen', 1), ('flawed', 1), ('dev', 26), ('thisclose', 1), ('rowprepaint', 1), ('fbid', 1), ('1#ind', 1), ('replacement', 38), ('gtk+', 3), ('sqlalchemyextdeclarativedeclarativemeta', 1), ('plpgsql', 1), ('complicated', 8), ('exist', 236), ('sqlalchemydialectssqlite3', 1), ('overlap', 14), ('additem', 1), ('h264', 1), ('threejs', 59), ('picalibrate', 1), ('min', 53), ('electronic', 1), ('canbe', 1), ('refesh', 1), ('charge', 4), ('struts2', 59), ('media_handle_upload', 1), ('messageid', 1), ('stepbystep', 1), ('24hour', 1), ('stringintern', 1), ('sqldatasource', 7), ('correcly', 1), ('webxml', 9), ('spi', 1), ('monads', 2), ('webclientdownloaddataasync', 1), ('settranslatesautoresizingmaskintoconstraintsno', 1), ('occurs', 29), ('viewlist', 1), ('pitch', 5), ('callablestatement', 1), ('dictionarycontainskey', 1), ('jprogressbar', 1), ('xamarin', 61), ('uitextfieldtext', 1), ('newtonraphson', 2), ('refer', 26), ('switcher', 3), ('nodejs+socketio', 1), ('counts', 8), ('folks', 1), ('capslock', 1), ('money', 8), ('inheritance', 145), ('imgtype', 1), ('uniqid', 5), ('ttfb', 3), ('requesturlreferrertostring', 1), ('randomnext', 2), ('s32', 3), ('443', 1), ('nolock', 1), ('displayname', 1), ('circular', 41), ('0x00000100', 1), ('doom', 1), ('outlooks', 1), ('mod_deflate', 1), ('multiline', 42), ('dns_get_record', 2), ('t2', 1), ('regexr', 1), ('dragndrop', 4), ('casts', 5), ('builtin', 34), ('gantt', 1), ('widths', 6), ('performselectorinbackground', 4), ('jsonmappingexception', 1), ('committing', 2), ('embeded', 4), ('colorramppalette', 1), ('objectc', 1), ('groupbys', 1), ('nexus', 1), ('jsonvalue', 2), ('addattributetofilter', 1), ('swagger', 11), ('nodelist', 2), ('commysqljdbcpreparedstatement', 1), ('orghibernatesessionfactoryopensession', 1), ('msbuildexe', 2), ('forjson', 1), ('stdsetinsert', 2), ('glcapabilities', 1), ('d3csv', 1), ('md5hex', 1), ('month', 156), ('transferring', 4), ('sessionstatuscallback', 1), ('encrypting', 19), ('purchases', 2), ('mpmovieplayercontroller', 16), ('ambiguity', 4), ('c#search', 1), ('util_usbuirtdll', 1), ('labelframes', 1), ('authorityanonymous', 2), ('neterr_connection_refused', 2), ('cpphow', 1), ('doinbackground', 4), ('modelspy', 5), ('nonvisible', 1), ('spacing', 20), ('pointing', 19), ('fosrestbundle', 1), ('systemdrawingicon', 1), ('recorder', 1), ('commands', 73), ('shoudnt', 1), ('bugzilla', 1), ('djangomailer', 1), ('403', 31), ('twisted', 29), ('mjpeg', 1), ('xmlbeans', 1), ('uglify', 2), ('v60', 1), ('retries', 1), ('djangotinymce', 2), ('rowgateway', 1), ('jodreports', 1), ('std', 21), ('menustrip', 1), ('qqmlapplicationengine', 1), ('inital', 1), ('orghibernateunknownentitytypeexception', 1), ('htmlresponse', 1), ('metismenu', 1), ('xmlresourceparser', 1), ('gtkimage', 1), ('threadjoin', 4), ('setzorderontop', 1), ('iodirectorygetfiles', 1), ('currentvalue', 1), ('#pragma', 8), ('beep', 4), ('element', 1107), ('cmakeliststxt30', 1), ('pop_back', 1), ('treated', 4), ('autoupdate', 1), ('networkerror', 2), ('trace', 29), ('john', 3), ('writerows', 2), ('ssid', 1), ('unclick', 1), ('italic', 5), ('registrationids', 1), ('selfmethod', 2), ('presentviewcontroller', 3), ('clients_courses', 1), ('subcategory', 5), ('reciever', 1), ('javaxnetsslsslhandshakeexception', 1), ('multithreadings', 1), ('pushpin', 1), ('nsfilemanager', 1), ('argument', 304), ('dymo', 1), ('knockknockclient', 1), ('nonasync', 1), ('plugin', 270), ('xpathdocument', 1), ('jsapi', 3), ('breezedts', 1), ('shouldautorotateno', 1), ('plusone', 1), ('get_json', 1), ('orgapachetilesrequestapplicationcontext', 1), ('managedinstallerclass', 1), ('custon', 1), ('mask', 33), ('cut', 31), ('subwindow', 1), ('xml2assoc', 1), ('caused', 31), ('nonselectable', 1), ('cclayercolor', 1), ('e_unexpected', 1), ('lnk4217', 1), ('ontouchend', 1), ('canvastodataurl', 5), ('unveil', 1), ('print_notify_info_data', 1), ('ngattr', 1), ('cer', 1), ('vith', 1), ('unread', 6), ('whlie', 1), ('avsystemcontroller_systemvolumedidchangenotification', 1), ('island', 1), ('swoop', 1), ('hotspot', 1), ('svnkit', 1), ('parcelable', 4), ('php_eval', 1), ('createdesktop', 1), ('benchmark', 9), ('xcodeproj', 1), ('maxfev', 1), ('_splitpath_s', 1), ('gridcontrol', 3), ('1n', 1), ('selectonemenu', 4), ('streambuf', 1), ('cp', 4), ('branch', 8), ('comapplepassdinapppayment', 1), ('preemption', 1), ('uicontrol', 3), ('sqldatetime', 2), ('cedarsupported', 2), ('nonodeavailableexception', 1), ('senchatouch', 2), ('mmddyyyy', 1), ('packed', 4), ('elementcollection', 1), ('jalali', 2), ('pcolormesh', 4), ('context_instance', 1), ('cvarargtype', 1), ('inputverifier', 1), ('largeadressaware', 1), ('invokemember', 2), ('setattr', 1), ('jqxlistbox', 1), ('0x9d', 1), ('beginswith', 1), ('queuing', 1), ('shadedplugins', 1), ('wrapping', 37), ('foundation', 22), ('atm', 2), ('parametervalue', 1), ('blink', 5), ('qtguiqtextedit', 1), ('slideshow', 22), ('itext', 59), ('e', 32), ('xml', 1119), ('trimming', 4), ('read_sql', 2), ('coverting', 2), ('encription', 1), ('subprocess', 40), ('droolsnet', 1), ('systemstringcomparison', 1), ('rootfolderindexaspx', 1), ('httpresponseredirect', 3), ('notserializableexception', 1), ('virtualenvironment', 1), ('unweighted', 1), ('jsontool', 1), ('boostrapcss', 1), ('membershipcreateuser', 2), ('contextsavechanges', 1), ('employeemanager', 1), ('tracepoint', 1), ('onwebkitspeechchange', 1), ('mangled', 2), ('owner', 6), ('rails_bootstrap_forms', 1), ('httpclientconnecttimeouterror', 1), ('cloudstorageaccount', 1), ('_atl_free_threaded', 1), ('individual', 43), ('reallife', 1), ('address0x0', 1), ('datahref', 1), ('webinvoke', 1), ('tokenizing', 4), ('multiplevalue', 1), ('kannada', 1), ('phpsend', 1), ('xelementload', 1), ('lazyload', 2), ('controlinvoke', 1), ('rail3app', 1), ('syntactically', 2), ('__nsdictionaryi', 1), ('genfromtxt', 3), ('rubyoci8', 1), ('prerolling', 1), ('figured', 1), ('mutability', 1), ('workers', 8), ('"
      ]
     },
     "execution_count": 24,
     "metadata": {},
     "output_type": "execute_result"
    },
    {
     "data": {
      "text/html": [
       "<b>limit_output extension: Maximum message size of 10000 exceeded with 627298 characters</b>"
      ]
     },
     "metadata": {},
     "output_type": "display_data"
    }
   ],
   "source": [
    "tags_counts.items(), words_counts.items()"
   ]
  },
  {
   "cell_type": "markdown",
   "metadata": {},
   "source": [
    "We are assuming that *tags_counts* and *words_counts* are dictionaries like `{'some_word_or_tag': frequency}`. After applying the sorting procedure, results will be look like this: `[('most_popular_word_or_tag', frequency), ('less_popular_word_or_tag', frequency), ...]`. The grader gets the results in the following format (two comma-separated strings with line break):\n",
    "\n",
    "    tag1,tag2,tag3\n",
    "    word1,word2,word3\n",
    "\n",
    "Pay attention that in this assignment you should not submit frequencies or some additional information."
   ]
  },
  {
   "cell_type": "code",
   "execution_count": 25,
   "metadata": {},
   "outputs": [
    {
     "name": "stdout",
     "output_type": "stream",
     "text": [
      "Current answer for task WordsTagsCount is:\n",
      " javascript,c#,java\n",
      "using,php,java...\n"
     ]
    }
   ],
   "source": [
    "most_common_tags = sorted(tags_counts.items(), key=lambda x: x[1], reverse=True)[:3]\n",
    "most_common_words = sorted(words_counts.items(), key=lambda x: x[1], reverse=True)[:3]\n",
    "\n",
    "grader.submit_tag('WordsTagsCount', '%s\\n%s' % (','.join(tag for tag, _ in most_common_tags), \n",
    "                                                ','.join(word for word, _ in most_common_words)))"
   ]
  },
  {
   "cell_type": "code",
   "execution_count": 26,
   "metadata": {},
   "outputs": [
    {
     "data": {
      "text/plain": [
       "([('javascript', 19078), ('c#', 19077), ('java', 18661)],\n",
       " [('using', 8278), ('php', 5614), ('java', 5501)])"
      ]
     },
     "execution_count": 26,
     "metadata": {},
     "output_type": "execute_result"
    }
   ],
   "source": [
    "most_common_tags, most_common_words"
   ]
  },
  {
   "cell_type": "code",
   "execution_count": 27,
   "metadata": {},
   "outputs": [
    {
     "data": {
      "text/plain": [
       "(31497,\n",
       " [('using', 8278),\n",
       "  ('php', 5614),\n",
       "  ('java', 5501),\n",
       "  ('file', 5055),\n",
       "  ('javascript', 4746),\n",
       "  ('error', 4388),\n",
       "  ('get', 4301),\n",
       "  ('c#', 4188),\n",
       "  ('python', 4073),\n",
       "  ('string', 3652),\n",
       "  ('array', 3533),\n",
       "  ('data', 3298),\n",
       "  ('jquery', 3293),\n",
       "  ('value', 3175),\n",
       "  ('function', 2896),\n",
       "  ('object', 2646),\n",
       "  ('class', 2558),\n",
       "  ('use', 2422),\n",
       "  ('c++', 2312),\n",
       "  ('list', 2137),\n",
       "  ('method', 2123),\n",
       "  ('multiple', 2096),\n",
       "  ('text', 1929),\n",
       "  ('image', 1849),\n",
       "  ('page', 1847),\n",
       "  ('rails', 1778),\n",
       "  ('form', 1776),\n",
       "  ('create', 1757),\n",
       "  ('html', 1715),\n",
       "  ('type', 1699),\n",
       "  ('code', 1664),\n",
       "  ('set', 1640),\n",
       "  ('working', 1636),\n",
       "  ('database', 1631),\n",
       "  ('add', 1611),\n",
       "  ('convert', 1586),\n",
       "  ('mysql', 1572),\n",
       "  ('json', 1557),\n",
       "  ('c', 1550),\n",
       "  ('server', 1543),\n",
       "  ('variable', 1542),\n",
       "  ('android', 1530),\n",
       "  ('values', 1528),\n",
       "  ('aspnet', 1506),\n",
       "  ('way', 1454),\n",
       "  ('application', 1451),\n",
       "  ('change', 1441),\n",
       "  ('button', 1385),\n",
       "  ('find', 1383),\n",
       "  ('django', 1373),\n",
       "  ('one', 1370),\n",
       "  ('without', 1369),\n",
       "  ('windows', 1339),\n",
       "  ('cannot', 1314),\n",
       "  ('table', 1274),\n",
       "  ('call', 1261),\n",
       "  ('files', 1249),\n",
       "  ('ajax', 1248),\n",
       "  ('check', 1223),\n",
       "  ('time', 1213),\n",
       "  ('name', 1174),\n",
       "  ('two', 1169),\n",
       "  ('ruby', 1164),\n",
       "  ('getting', 1159),\n",
       "  ('date', 1137),\n",
       "  ('web', 1129),\n",
       "  ('make', 1127),\n",
       "  ('user', 1120),\n",
       "  ('input', 1120),\n",
       "  ('xml', 1119),\n",
       "  ('app', 1116),\n",
       "  ('another', 1115),\n",
       "  ('element', 1107),\n",
       "  ('custom', 1093),\n",
       "  ('event', 1088),\n",
       "  ('api', 1083),\n",
       "  ('access', 1074),\n",
       "  ('url', 1057),\n",
       "  ('number', 1052),\n",
       "  ('spring', 1019),\n",
       "  ('view', 1004),\n",
       "  ('sql', 1001),\n",
       "  ('return', 983),\n",
       "  ('mvc', 981),\n",
       "  ('select', 980),\n",
       "  ('google', 974),\n",
       "  ('query', 972),\n",
       "  ('inside', 947),\n",
       "  ('exception', 944),\n",
       "  ('display', 943),\n",
       "  ('column', 941),\n",
       "  ('loop', 940),\n",
       "  ('read', 940),\n",
       "  ('swift', 934),\n",
       "  ('remove', 931),\n",
       "  ('new', 931),\n",
       "  ('work', 931),\n",
       "  ('load', 912),\n",
       "  ('r', 896),\n",
       "  ('objects', 867),\n",
       "  ('property', 866),\n",
       "  ('line', 862),\n",
       "  ('cant', 859),\n",
       "  ('pass', 840),\n",
       "  ('click', 837),\n",
       "  ('framework', 822),\n",
       "  ('update', 821),\n",
       "  ('script', 819),\n",
       "  ('vs', 812),\n",
       "  ('post', 806),\n",
       "  ('null', 797),\n",
       "  ('2', 795),\n",
       "  ('creating', 794),\n",
       "  ('net', 791),\n",
       "  ('request', 787),\n",
       "  ('different', 785),\n",
       "  ('field', 778),\n",
       "  ('run', 776),\n",
       "  ('key', 776),\n",
       "  ('row', 769),\n",
       "  ('doesnt', 768),\n",
       "  ('ios', 763),\n",
       "  ('service', 751),\n",
       "  ('linq', 736),\n",
       "  ('div', 733),\n",
       "  ('open', 723),\n",
       "  ('window', 720),\n",
       "  ('project', 717),\n",
       "  ('wpf', 713),\n",
       "  ('format', 706),\n",
       "  ('best', 706),\n",
       "  ('show', 695),\n",
       "  ('variables', 694),\n",
       "  ('controller', 694),\n",
       "  ('undefined', 693),\n",
       "  ('dynamically', 691),\n",
       "  ('specific', 691),\n",
       "  ('adding', 675),\n",
       "  ('based', 657),\n",
       "  ('angularjs', 653),\n",
       "  ('control', 649),\n",
       "  ('parameter', 648),\n",
       "  ('send', 647),\n",
       "  ('model', 644),\n",
       "  ('3', 641),\n",
       "  ('difference', 639),\n",
       "  ('library', 639),\n",
       "  ('first', 636),\n",
       "  ('insert', 636),\n",
       "  ('vbnet', 635),\n",
       "  ('passing', 635),\n",
       "  ('js', 632),\n",
       "  ('regex', 628),\n",
       "  ('elements', 627),\n",
       "  ('codeigniter', 625),\n",
       "  ('eclipse', 624),\n",
       "  ('within', 624),\n",
       "  ('path', 623),\n",
       "  ('dynamic', 618),\n",
       "  ('visual', 611),\n",
       "  ('memory', 606),\n",
       "  ('connection', 604),\n",
       "  ('possible', 602),\n",
       "  ('id', 598),\n",
       "  ('thread', 597),\n",
       "  ('save', 592),\n",
       "  ('default', 591),\n",
       "  ('+', 590),\n",
       "  ('via', 590),\n",
       "  ('running', 587),\n",
       "  ('size', 585),\n",
       "  ('program', 584),\n",
       "  ('found', 584),\n",
       "  ('content', 582),\n",
       "  ('reference', 581),\n",
       "  ('issue', 576),\n",
       "  ('attribute', 571),\n",
       "  ('write', 571),\n",
       "  ('studio', 570),\n",
       "  ('laravel', 561),\n",
       "  ('search', 542),\n",
       "  ('test', 540),\n",
       "  ('excel', 540),\n",
       "  ('static', 539),\n",
       "  ('session', 537),\n",
       "  ('output', 535),\n",
       "  ('http', 530),\n",
       "  ('character', 529),\n",
       "  ('characters', 529),\n",
       "  ('entity', 525),\n",
       "  ('current', 523),\n",
       "  ('problem', 522),\n",
       "  ('calling', 520),\n",
       "  ('client', 520),\n",
       "  ('empty', 519),\n",
       "  ('int', 517),\n",
       "  ('simple', 517),\n",
       "  ('css', 516),\n",
       "  ('upload', 515),\n",
       "  ('parameters', 515),\n",
       "  ('command', 510),\n",
       "  ('reading', 508),\n",
       "  ('directory', 504),\n",
       "  ('validation', 501),\n",
       "  ('1', 498),\n",
       "  ('map', 496),\n",
       "  ('hibernate', 495),\n",
       "  ('selected', 493),\n",
       "  ('textbox', 492),\n",
       "  ('unable', 491),\n",
       "  ('browser', 486),\n",
       "  ('item', 484),\n",
       "  ('images', 484),\n",
       "  ('link', 481),\n",
       "  ('index', 480),\n",
       "  ('facebook', 477),\n",
       "  ('expression', 475),\n",
       "  ('store', 474),\n",
       "  ('setting', 474),\n",
       "  ('delete', 472),\n",
       "  ('single', 469),\n",
       "  ('template', 468),\n",
       "  ('like', 466),\n",
       "  ('statement', 463),\n",
       "  ('strings', 462),\n",
       "  ('rows', 461),\n",
       "  ('failed', 461),\n",
       "  ('header', 460),\n",
       "  ('replace', 460),\n",
       "  ('loading', 459),\n",
       "  ('login', 454),\n",
       "  ('box', 453),\n",
       "  ('iphone', 452),\n",
       "  ('4', 450),\n",
       "  ('numbers', 449),\n",
       "  ('color', 448),\n",
       "  ('nested', 446),\n",
       "  ('returning', 445),\n",
       "  ('instance', 443),\n",
       "  ('background', 443),\n",
       "  ('print', 443),\n",
       "  ('pdf', 441),\n",
       "  ('parse', 440),\n",
       "  ('char', 440),\n",
       "  ('could', 439),\n",
       "  ('disable', 438),\n",
       "  ('bootstrap', 435),\n",
       "  ('message', 434),\n",
       "  ('module', 433),\n",
       "  ('csv', 433),\n",
       "  ('tag', 426),\n",
       "  ('converting', 424),\n",
       "  ('chrome', 424),\n",
       "  ('x', 421),\n",
       "  ('parent', 419),\n",
       "  ('invalid', 418),\n",
       "  ('returns', 416),\n",
       "  ('local', 414),\n",
       "  ('methods', 409),\n",
       "  ('need', 407),\n",
       "  ('connect', 403),\n",
       "  ('email', 401),\n",
       "  ('changing', 400),\n",
       "  ('trying', 399),\n",
       "  ('functions', 396),\n",
       "  ('response', 396),\n",
       "  ('install', 393),\n",
       "  ('redirect', 390),\n",
       "  ('angular', 387),\n",
       "  ('order', 387),\n",
       "  ('dictionary', 386),\n",
       "  ('arrays', 385),\n",
       "  ('dropdown', 384),\n",
       "  ('classes', 383),\n",
       "  ('generate', 381),\n",
       "  ('folder', 381),\n",
       "  ('submit', 380),\n",
       "  ('bar', 380),\n",
       "  ('pandas', 379),\n",
       "  ('process', 377),\n",
       "  ('columns', 376),\n",
       "  ('checkbox', 375),\n",
       "  ('source', 375),\n",
       "  ('child', 375),\n",
       "  ('integer', 371),\n",
       "  ('count', 369),\n",
       "  ('items', 368),\n",
       "  ('sending', 368),\n",
       "  ('parsing', 368),\n",
       "  ('start', 367),\n",
       "  ('detect', 365),\n",
       "  ('double', 365),\n",
       "  ('hide', 363),\n",
       "  ('jsp', 363),\n",
       "  ('fields', 363),\n",
       "  ('datetime', 363),\n",
       "  ('console', 362),\n",
       "  ('pointer', 359),\n",
       "  ('gridview', 359),\n",
       "  ('selenium', 357),\n",
       "  ('linux', 356),\n",
       "  ('constructor', 355),\n",
       "  ('import', 354),\n",
       "  ('random', 354),\n",
       "  ('7', 354),\n",
       "  ('action', 353),\n",
       "  ('programmatically', 353),\n",
       "  ('collection', 350),\n",
       "  ('instead', 347),\n",
       "  ('version', 344),\n",
       "  ('datagridview', 342),\n",
       "  ('filter', 340),\n",
       "  ('sort', 340),\n",
       "  ('objectivec', 338),\n",
       "  ('website', 336),\n",
       "  ('generic', 335),\n",
       "  ('last', 334),\n",
       "  ('result', 334),\n",
       "  ('build', 333),\n",
       "  ('system', 332),\n",
       "  ('download', 331),\n",
       "  ('split', 330),\n",
       "  ('properties', 330),\n",
       "  ('interface', 329),\n",
       "  ('iframe', 329),\n",
       "  ('nodejs', 329),\n",
       "  ('back', 329),\n",
       "  ('binding', 328),\n",
       "  ('arguments', 328),\n",
       "  ('cell', 328),\n",
       "  ('syntax', 326),\n",
       "  ('5', 326),\n",
       "  ('datatable', 326),\n",
       "  ('xcode', 325),\n",
       "  ('scroll', 325),\n",
       "  ('binary', 323),\n",
       "  ('onclick', 323),\n",
       "  ('external', 321),\n",
       "  ('position', 319),\n",
       "  ('0', 318),\n",
       "  ('socket', 318),\n",
       "  ('execute', 318),\n",
       "  ('rest', 317),\n",
       "  ('called', 316),\n",
       "  ('missing', 316),\n",
       "  ('word', 314),\n",
       "  ('maps', 312),\n",
       "  ('implement', 311),\n",
       "  ('typeerror', 311),\n",
       "  ('byte', 310),\n",
       "  ('whats', 309),\n",
       "  ('copy', 309),\n",
       "  ('extension', 309),\n",
       "  ('refresh', 308),\n",
       "  ('video', 308),\n",
       "  ('menu', 307),\n",
       "  ('match', 306),\n",
       "  ('node', 304),\n",
       "  ('argument', 304),\n",
       "  ('given', 304),\n",
       "  ('wordpress', 303),\n",
       "  ('include', 300),\n",
       "  ('retrieve', 300),\n",
       "  ('regular', 296),\n",
       "  ('accessing', 294),\n",
       "  ('canvas', 292),\n",
       "  ('showing', 292),\n",
       "  ('forms', 292),\n",
       "  ('document', 291),\n",
       "  ('results', 290),\n",
       "  ('ui', 289),\n",
       "  ('runtime', 289),\n",
       "  ('defined', 287),\n",
       "  ('arraylist', 287),\n",
       "  ('handle', 285),\n",
       "  ('drop', 282),\n",
       "  ('apache', 281),\n",
       "  ('group', 281),\n",
       "  ('errors', 281),\n",
       "  ('large', 279),\n",
       "  ('wcf', 277),\n",
       "  ('height', 277),\n",
       "  ('opencv', 277),\n",
       "  ('compare', 277),\n",
       "  ('address', 276),\n",
       "  ('mobile', 276),\n",
       "  ('ie', 276),\n",
       "  ('properly', 275),\n",
       "  ('many', 275),\n",
       "  ('equivalent', 274),\n",
       "  ('member', 274),\n",
       "  ('screen', 273),\n",
       "  ('8', 273),\n",
       "  ('exists', 273),\n",
       "  ('global', 272),\n",
       "  ('plugin', 270),\n",
       "  ('password', 270),\n",
       "  ('expected', 269),\n",
       "  ('vector', 268),\n",
       "  ('jar', 268),\n",
       "  ('maven', 268),\n",
       "  ('events', 268),\n",
       "  ('location', 267),\n",
       "  ('writing', 267),\n",
       "  ('servlet', 267),\n",
       "  ('length', 267),\n",
       "  ('numpy', 267),\n",
       "  ('types', 267),\n",
       "  ('html5', 266),\n",
       "  ('extract', 266),\n",
       "  ('stored', 265),\n",
       "  ('width', 265),\n",
       "  ('dataframe', 262),\n",
       "  ('dialog', 262),\n",
       "  ('certain', 262),\n",
       "  ('close', 262),\n",
       "  ('help', 261),\n",
       "  ('used', 261),\n",
       "  ('range', 260),\n",
       "  ('style', 259),\n",
       "  ('names', 258),\n",
       "  ('handling', 258),\n",
       "  ('prevent', 258),\n",
       "  ('works', 257),\n",
       "  ('automatically', 257),\n",
       "  ('magento', 256),\n",
       "  ('resource', 256),\n",
       "  ('every', 256),\n",
       "  ('fails', 255),\n",
       "  ('cast', 255),\n",
       "  ('tomcat', 255),\n",
       "  ('pattern', 254),\n",
       "  ('warning', 254),\n",
       "  ('created', 254),\n",
       "  ('popup', 253),\n",
       "  ('frame', 253),\n",
       "  ('wrong', 252),\n",
       "  ('displaying', 251),\n",
       "  ('contains', 251),\n",
       "  ('validate', 251),\n",
       "  ('enum', 250),\n",
       "  ('qt', 249),\n",
       "  ('updating', 249),\n",
       "  ('curl', 248),\n",
       "  ('package', 248),\n",
       "  ('stop', 247),\n",
       "  ('testing', 246),\n",
       "  ('must', 246),\n",
       "  ('listview', 246),\n",
       "  ('operator', 245),\n",
       "  ('2d', 244),\n",
       "  ('space', 244),\n",
       "  ('put', 243),\n",
       "  ('authentication', 243),\n",
       "  ('context', 243),\n",
       "  ('conversion', 242),\n",
       "  ('keys', 240),\n",
       "  ('auto', 238),\n",
       "  ('structure', 238),\n",
       "  ('main', 237),\n",
       "  ('callback', 237),\n",
       "  ('exist', 236),\n",
       "  ('end', 236),\n",
       "  ('saving', 236),\n",
       "  ('token', 236),\n",
       "  ('db', 235),\n",
       "  ('long', 235),\n",
       "  ('tab', 235),\n",
       "  ('problems', 235),\n",
       "  ('existing', 234),\n",
       "  ('foreach', 234),\n",
       "  ('block', 232),\n",
       "  ('dll', 232),\n",
       "  ('always', 232),\n",
       "  ('finding', 231),\n",
       "  ('grid', 231),\n",
       "  ('sorting', 231),\n",
       "  ('matplotlib', 230),\n",
       "  ('remote', 230),\n",
       "  ('option', 229),\n",
       "  ('sqlite', 229),\n",
       "  ('buttons', 229),\n",
       "  ('bind', 228),\n",
       "  ('determine', 228),\n",
       "  ('modal', 227),\n",
       "  ('stream', 227),\n",
       "  ('tags', 227),\n",
       "  ('performance', 227),\n",
       "  ('firefox', 227),\n",
       "  ('plot', 226),\n",
       "  ('label', 226),\n",
       "  ('mac', 225),\n",
       "  ('join', 224),\n",
       "  ('uncaught', 224),\n",
       "  ('combobox', 224),\n",
       "  ('decimal', 224),\n",
       "  ('phone', 223),\n",
       "  ('example', 223),\n",
       "  ('radio', 223),\n",
       "  ('chart', 222),\n",
       "  ('attributes', 221),\n",
       "  ('compile', 221),\n",
       "  ('unexpected', 221),\n",
       "  ('dom', 219),\n",
       "  ('correctly', 218),\n",
       "  ('checking', 218),\n",
       "  ('right', 217),\n",
       "  ('tables', 214),\n",
       "  ('base', 214),\n",
       "  ('lines', 214),\n",
       "  ('installing', 214),\n",
       "  ('point', 214),\n",
       "  ('float', 213),\n",
       "  ('mouse', 213),\n",
       "  ('users', 213),\n",
       "  ('support', 211),\n",
       "  ('basic', 211),\n",
       "  ('struct', 210),\n",
       "  ('tree', 209),\n",
       "  ('unit', 208),\n",
       "  ('making', 208),\n",
       "  ('scope', 207),\n",
       "  ('unique', 207),\n",
       "  ('threads', 206),\n",
       "  ('correc"
      ]
     },
     "execution_count": 27,
     "metadata": {},
     "output_type": "execute_result"
    },
    {
     "data": {
      "text/html": [
       "<b>limit_output extension: Maximum message size of 10000 exceeded with 19264 characters</b>"
      ]
     },
     "metadata": {},
     "output_type": "display_data"
    }
   ],
   "source": [
    "len(sorted(words_counts.items(), key=lambda x: x[1], reverse=True)), sorted(words_counts.items(), key=lambda x: x[1], reverse=True)"
   ]
  },
  {
   "cell_type": "markdown",
   "metadata": {},
   "source": [
    "### Transforming text to a vector\n",
    "\n",
    "Machine Learning algorithms work with numeric data and we cannot use the provided text data \"as is\". There are many ways to transform text data to numeric vectors. In this task you will try to use two of them.\n",
    "\n",
    "#### Bag of words\n",
    "\n",
    "One of the well-known approaches is a *bag-of-words* representation. To create this transformation, follow the steps:\n",
    "1. Find *N* most popular words in train corpus and numerate them. Now we have a dictionary of the most popular words.\n",
    "2. For each title in the corpora create a zero vector with the dimension equals to *N*.\n",
    "3. For each text in the corpora iterate over words which are in the dictionary and increase by 1 the corresponding coordinate.\n",
    "\n",
    "Let's try to do it for a toy example. Imagine that we have *N* = 4 and the list of the most popular words is \n",
    "\n",
    "    ['hi', 'you', 'me', 'are']\n",
    "\n",
    "Then we need to numerate them, for example, like this: \n",
    "\n",
    "    {'hi': 0, 'you': 1, 'me': 2, 'are': 3}\n",
    "\n",
    "And we have the text, which we want to transform to the vector:\n",
    "\n",
    "    'hi how are you'\n",
    "\n",
    "For this text we create a corresponding zero vector \n",
    "\n",
    "    [0, 0, 0, 0]\n",
    "    \n",
    "And iterate over all words, and if the word is in the dictionary, we increase the value of the corresponding position in the vector:\n",
    "\n",
    "    'hi':  [1, 0, 0, 0]\n",
    "    'how': [1, 0, 0, 0] # word 'how' is not in our dictionary\n",
    "    'are': [1, 0, 0, 1]\n",
    "    'you': [1, 1, 0, 1]\n",
    "\n",
    "The resulting vector will be \n",
    "\n",
    "    [1, 1, 0, 1]\n",
    "   \n",
    "Implement the described encoding in the function *my_bag_of_words* with the size of the dictionary equals to 5000. To find the most common words use train data. You can test your code using the function *test_my_bag_of_words*."
   ]
  },
  {
   "cell_type": "code",
   "execution_count": 28,
   "metadata": {},
   "outputs": [],
   "source": [
    "DICT_SIZE = 5000\n",
    "sorted_word_count = sorted(words_counts.items(), key=lambda x: x[1], reverse=True)[:DICT_SIZE]\n",
    "INDEX_TO_WORDS = {idx:word for idx, word in enumerate(list(map(lambda x: x[0], sorted_word_count)))}\n",
    "# INDEX_TO_WORDS = sorted(words_counts.keys(), key=lambda x: words_counts[x], reverse=True)[:DICT_SIZE]\n",
    "WORDS_TO_INDEX = {word:i for i, word in INDEX_TO_WORDS.items()}\n",
    "ALL_WORDS = WORDS_TO_INDEX.keys()\n",
    "\n",
    "def my_bag_of_words(text, words_to_index, dict_size):\n",
    "    \"\"\"\n",
    "        text: a string\n",
    "        dict_size: size of the dictionary\n",
    "        \n",
    "        return a vector which is a bag-of-words representation of 'text'\n",
    "    \"\"\"\n",
    "    result_vector = np.zeros(dict_size)\n",
    "    for word in text.split():\n",
    "        if word in words_to_index.keys():\n",
    "            result_vector[words_to_index[word]]+=1\n",
    "    return result_vector"
   ]
  },
  {
   "cell_type": "code",
   "execution_count": 29,
   "metadata": {},
   "outputs": [],
   "source": [
    "def test_my_bag_of_words():\n",
    "    words_to_index = {'hi': 0, 'you': 1, 'me': 2, 'are': 3}\n",
    "    examples = ['hi how are you']\n",
    "    answers = [[1, 1, 0, 1]]\n",
    "    for ex, ans in zip(examples, answers):\n",
    "        if (my_bag_of_words(ex, words_to_index, 4) != ans).any():\n",
    "            return \"Wrong answer for the case: '%s'\" % ex\n",
    "    return 'Basic tests are passed.'"
   ]
  },
  {
   "cell_type": "code",
   "execution_count": 30,
   "metadata": {},
   "outputs": [
    {
     "name": "stdout",
     "output_type": "stream",
     "text": [
      "Basic tests are passed.\n"
     ]
    }
   ],
   "source": [
    "print(test_my_bag_of_words())"
   ]
  },
  {
   "cell_type": "markdown",
   "metadata": {},
   "source": [
    "Now apply the implemented function to all samples (this might take up to a minute):"
   ]
  },
  {
   "cell_type": "code",
   "execution_count": 31,
   "metadata": {},
   "outputs": [],
   "source": [
    "from scipy import sparse as sp_sparse"
   ]
  },
  {
   "cell_type": "code",
   "execution_count": 32,
   "metadata": {},
   "outputs": [
    {
     "name": "stdout",
     "output_type": "stream",
     "text": [
      "X_train shape  (100000, 5000)\n",
      "X_val shape  (30000, 5000)\n",
      "X_test shape  (20000, 5000)\n"
     ]
    }
   ],
   "source": [
    "X_train_mybag = sp_sparse.vstack([sp_sparse.csr_matrix(my_bag_of_words(text, WORDS_TO_INDEX, DICT_SIZE)) for text in X_train])\n",
    "X_val_mybag = sp_sparse.vstack([sp_sparse.csr_matrix(my_bag_of_words(text, WORDS_TO_INDEX, DICT_SIZE)) for text in X_val])\n",
    "X_test_mybag = sp_sparse.vstack([sp_sparse.csr_matrix(my_bag_of_words(text, WORDS_TO_INDEX, DICT_SIZE)) for text in X_test])\n",
    "print('X_train shape ', X_train_mybag.shape)\n",
    "print('X_val shape ', X_val_mybag.shape)\n",
    "print('X_test shape ', X_test_mybag.shape)"
   ]
  },
  {
   "cell_type": "code",
   "execution_count": 33,
   "metadata": {},
   "outputs": [
    {
     "data": {
      "text/plain": [
       "array([0., 0., 0., ..., 0., 0., 0.])"
      ]
     },
     "execution_count": 33,
     "metadata": {},
     "output_type": "execute_result"
    }
   ],
   "source": [
    "my_bag_of_words(X_train[0], WORDS_TO_INDEX, DICT_SIZE)"
   ]
  },
  {
   "cell_type": "code",
   "execution_count": 34,
   "metadata": {},
   "outputs": [
    {
     "data": {
      "text/plain": [
       "<1x5000 sparse matrix of type '<class 'numpy.float64'>'\n",
       "\twith 3 stored elements in Compressed Sparse Row format>"
      ]
     },
     "execution_count": 34,
     "metadata": {},
     "output_type": "execute_result"
    }
   ],
   "source": [
    "sp_sparse.csr_matrix(my_bag_of_words(X_train[0], WORDS_TO_INDEX, DICT_SIZE))"
   ]
  },
  {
   "cell_type": "markdown",
   "metadata": {},
   "source": [
    "As you might notice, we transform the data to sparse representation, to store the useful information efficiently. There are many [types](https://docs.scipy.org/doc/scipy/reference/sparse.html) of such representations, however sklearn algorithms can work only with [csr](https://docs.scipy.org/doc/scipy/reference/generated/scipy.sparse.csr_matrix.html#scipy.sparse.csr_matrix) matrix, so we will use this one."
   ]
  },
  {
   "cell_type": "markdown",
   "metadata": {},
   "source": [
    "**Task 3 (BagOfWords).** For the 11th row in *X_train_mybag* find how many non-zero elements it has. In this task the answer (variable *non_zero_elements_count*) should be a number, e.g. 20."
   ]
  },
  {
   "cell_type": "code",
   "execution_count": 35,
   "metadata": {},
   "outputs": [
    {
     "name": "stdout",
     "output_type": "stream",
     "text": [
      "Current answer for task BagOfWords is:\n",
      " 7...\n"
     ]
    }
   ],
   "source": [
    "row = X_train_mybag[10].toarray()[0]\n",
    "non_zero_elements_count = (row>0).sum()\n",
    "grader.submit_tag('BagOfWords', str(non_zero_elements_count))"
   ]
  },
  {
   "cell_type": "markdown",
   "metadata": {},
   "source": [
    "#### TF-IDF\n",
    "\n",
    "The second approach extends the bag-of-words framework by taking into account total frequencies of words in the corpora. It helps to penalize too frequent words and provide better features space. \n",
    "\n",
    "Implement function *tfidf_features* using class [TfidfVectorizer](http://scikit-learn.org/stable/modules/generated/sklearn.feature_extraction.text.TfidfVectorizer.html) from *scikit-learn*. Use *train* corpus to train a vectorizer. Don't forget to take a look into the arguments that you can pass to it. We suggest that you filter out too rare words (occur less than in 5 titles) and too frequent words (occur more than in 90% of the titles). Also, use bigrams along with unigrams in your vocabulary. "
   ]
  },
  {
   "cell_type": "code",
   "execution_count": 36,
   "metadata": {},
   "outputs": [],
   "source": [
    "from sklearn.feature_extraction.text import TfidfVectorizer"
   ]
  },
  {
   "cell_type": "code",
   "execution_count": 37,
   "metadata": {},
   "outputs": [],
   "source": [
    "def tfidf_features(X_train, X_val, X_test):\n",
    "    \"\"\"\n",
    "        X_train, X_val, X_test — samples        \n",
    "        return TF-IDF vectorized representation of each sample and vocabulary\n",
    "    \"\"\"\n",
    "    # Create TF-IDF vectorizer with a proper parameters choice\n",
    "    # Fit the vectorizer on the train set\n",
    "    # Transform the train, test, and val sets and return the result\n",
    "    \n",
    "    # occur less than in 5 titles\n",
    "    # occur more than in 90% of the titles\n",
    "    # use bigrams along with unigrams\n",
    "    tfidf_vectorizer = TfidfVectorizer(min_df=5, max_df=0.9, ngram_range=(1,2), token_pattern='(\\S+)')\n",
    "    X_train = tfidf_vectorizer.fit_transform(X_train)\n",
    "    X_val = tfidf_vectorizer.transform(X_val)\n",
    "    X_test = tfidf_vectorizer.transform(X_test)\n",
    "    return X_train, X_val, X_test, tfidf_vectorizer.vocabulary_"
   ]
  },
  {
   "cell_type": "markdown",
   "metadata": {},
   "source": [
    "Once you have done text preprocessing, always have a look at the results. Be very careful at this step, because the performance of future models will drastically depend on it. \n",
    "\n",
    "In this case, check whether you have c++ or c# in your vocabulary, as they are obviously important tokens in our tags prediction task:"
   ]
  },
  {
   "cell_type": "code",
   "execution_count": 38,
   "metadata": {},
   "outputs": [],
   "source": [
    "X_train_tfidf, X_val_tfidf, X_test_tfidf, tfidf_vocab = tfidf_features(X_train, X_val, X_test)\n",
    "tfidf_reversed_vocab = {i:word for word,i in tfidf_vocab.items()}"
   ]
  },
  {
   "cell_type": "code",
   "execution_count": 39,
   "metadata": {
    "scrolled": true
   },
   "outputs": [
    {
     "data": {
      "text/plain": [
       "{0: '#',\n",
       " 1: '#1',\n",
       " 2: '#2',\n",
       " 3: '#define',\n",
       " 4: '#ifdef',\n",
       " 5: '#include',\n",
       " 6: '#object',\n",
       " 7: '#object method',\n",
       " 8: '#pragma',\n",
       " 9: '+',\n",
       " 10: '+ ajax',\n",
       " 11: '+ angularjs',\n",
       " 12: '+ c#',\n",
       " 13: '+ devise',\n",
       " 14: '+ hibernate',\n",
       " 15: '+ java',\n",
       " 16: '+ javascript',\n",
       " 17: '+ jquery',\n",
       " 18: '+ mysql',\n",
       " 19: '+ passenger',\n",
       " 20: '+ php',\n",
       " 21: '+ python',\n",
       " 22: '+ rails',\n",
       " 23: '+ spring',\n",
       " 24: '+ sql',\n",
       " 25: '0',\n",
       " 26: '0 0',\n",
       " 27: '0 1',\n",
       " 28: '0 key',\n",
       " 29: '00',\n",
       " 30: '000',\n",
       " 31: '05',\n",
       " 32: '09',\n",
       " 33: '0s',\n",
       " 34: '0xc0000005',\n",
       " 35: '0xc0000005 access',\n",
       " 36: '1',\n",
       " 37: '1 0',\n",
       " 38: '1 2',\n",
       " 39: '1 column',\n",
       " 40: '1 given',\n",
       " 41: '1 hour',\n",
       " 42: '1 minute',\n",
       " 43: '1 mysqli',\n",
       " 44: '1 resource',\n",
       " 45: '1 type',\n",
       " 46: '1 valid',\n",
       " 47: '1 vs',\n",
       " 48: '10',\n",
       " 49: '10 seconds',\n",
       " 50: '100',\n",
       " 51: '1000',\n",
       " 52: '10061',\n",
       " 53: '1024',\n",
       " 54: '1054',\n",
       " 55: '1054 unknown',\n",
       " 56: '106',\n",
       " 57: '109',\n",
       " 58: '11',\n",
       " 59: '110',\n",
       " 60: '111',\n",
       " 61: '1110',\n",
       " 62: '12',\n",
       " 63: '1204',\n",
       " 64: '127',\n",
       " 65: '128',\n",
       " 66: '13',\n",
       " 67: '13 permission',\n",
       " 68: '14',\n",
       " 69: '1404',\n",
       " 70: '15',\n",
       " 71: '15 seconds',\n",
       " 72: '16',\n",
       " 73: '16 bit',\n",
       " 74: '16bit',\n",
       " 75: '17',\n",
       " 76: '18',\n",
       " 77: '187',\n",
       " 78: '19',\n",
       " 79: '192',\n",
       " 80: '193',\n",
       " 81: '1d',\n",
       " 82: '1d array',\n",
       " 83: '1gb',\n",
       " 84: '1st',\n",
       " 85: '2',\n",
       " 86: '2 3',\n",
       " 87: '2 action',\n",
       " 88: '2 arguments',\n",
       " 89: '2 array',\n",
       " 90: '2 arrays',\n",
       " 91: '2 bytes',\n",
       " 92: '2 dates',\n",
       " 93: '2 decimal',\n",
       " 94: '2 different',\n",
       " 95: '2 digit',\n",
       " 96: '2 dimensional',\n",
       " 97: '2 file',\n",
       " 98: '2 form',\n",
       " 99: '2 lists',\n",
       " 100: '2 numbers',\n",
       " 101: '2 parameters',\n",
       " 102: '2 tables',\n",
       " 103: '2 times',\n",
       " 104: '20',\n",
       " 105: '200',\n",
       " 106: '2000',\n",
       " 107: '2003',\n",
       " 108: '2005',\n",
       " 109: '2007',\n",
       " 110: '2008',\n",
       " 111: '2008 r2',\n",
       " 112: '2010',\n",
       " 113: '2010 c++',\n",
       " 114: '2010 express',\n",
       " 115: '2010 project',\n",
       " 116: '2010 visual',\n",
       " 117: '2011',\n",
       " 118: '2012',\n",
       " 119: '2013',\n",
       " 120: '2015',\n",
       " 121: '202',\n",
       " 122: '21',\n",
       " 123: '22',\n",
       " 124: '220',\n",
       " 125: '23',\n",
       " 126: '24',\n",
       " 127: '24 hour',\n",
       " 128: '24 hours',\n",
       " 129: '25',\n",
       " 130: '255',\n",
       " 131: '256',\n",
       " 132: '26',\n",
       " 133: '27',\n",
       " 134: '2d',\n",
       " 135: '2d array',\n",
       " 136: '2d arrays',\n",
       " 137: '2d list',\n",
       " 138: '2d matrix',\n",
       " 139: '2d numpy',\n",
       " 140: '2d vector',\n",
       " 141: '2dimensional',\n",
       " 142: '2dimensional array',\n",
       " 143: '2gb',\n",
       " 144: '2nd',\n",
       " 145: '2x',\n",
       " 146: '3',\n",
       " 147: '3 app',\n",
       " 148: '3 form',\n",
       " 149: '3 javascript',\n",
       " 150: '3 razor',\n",
       " 151: '3 seconds',\n",
       " 152: '30',\n",
       " 153: '30 seconds',\n",
       " 154: '301',\n",
       " 155: '302',\n",
       " 156: '303',\n",
       " 157: '307',\n",
       " 158: '31',\n",
       " 159: '310',\n",
       " 160: '311',\n",
       " 161: '32',\n",
       " 162: '32 bit',\n",
       " 163: '322',\n",
       " 164: '323',\n",
       " 165: '32bit',\n",
       " 166: '33',\n",
       " 167: '34',\n",
       " 168: '35',\n",
       " 169: '36',\n",
       " 170: '360',\n",
       " 171: '365',\n",
       " 172: '3d',\n",
       " 173: '3d array',\n",
       " 174: '3rd',\n",
       " 175: '3rd party',\n",
       " 176: '3x',\n",
       " 177: '4',\n",
       " 178: '4 +',\n",
       " 179: '4 bytes',\n",
       " 180: '4 digits',\n",
       " 181: '4 razor',\n",
       " 182: '40',\n",
       " 183: '400',\n",
       " 184: '400 bad',\n",
       " 185: '401',\n",
       " 186: '401 unauthorized',\n",
       " 187: '403',\n",
       " 188: '403 forbidden',\n",
       " 189: '404',\n",
       " 190: '404 error',\n",
       " 191: '404 found',\n",
       " 192: '404 page',\n",
       " 193: '405',\n",
       " 194: '405 method',\n",
       " 195: '41',\n",
       " 196: '415',\n",
       " 197: '42',\n",
       " 198: '422',\n",
       " 199: '43',\n",
       " 200: '45',\n",
       " 201: '46',\n",
       " 202: '48',\n",
       " 203: '5',\n",
       " 204: '5 application',\n",
       " 205: '5 canvas',\n",
       " 206: '5 minutes',\n",
       " 207: '5 seconds',\n",
       " 208: '5 vnext',\n",
       " 209: '50',\n",
       " 210: '500',\n",
       " 211: '500 error',\n",
       " 212: '500 internal',\n",
       " 213: '502',\n",
       " 214: '503',\n",
       " 215: '504',\n",
       " 216: '51',\n",
       " 217: '510',\n",
       " 218: '52',\n",
       " 219: '53',\n",
       " 220: '54',\n",
       " 221: '55',\n",
       " 222: '56',\n",
       " 223: '5x',\n",
       " 224: '6',\n",
       " 225: '6 beta',\n",
       " 226: '60',\n",
       " 227: '61',\n",
       " 228: '64',\n",
       " 229: '64 bit',\n",
       " 230: '64bit',\n",
       " 231: '64bit windows',\n",
       " 232: '7',\n",
       " 233: '7 days',\n",
       " 234: '70',\n",
       " 235: '71',\n",
       " 236: '75',\n",
       " 237: '8',\n",
       " 238: '8 app',\n",
       " 239: '8 c#',\n",
       " 240: '8 metro',\n",
       " 241: '8 streams',\n",
       " 242: '80',\n",
       " 243: '81',\n",
       " 244: '81 app',\n",
       " 245: '8601',\n",
       " 246: '9',\n",
       " 247: '90',\n",
       " 248: '90 degrees',\n",
       " 249: '_',\n",
       " 250: '__attribute__',\n",
       " 251: '__declspec',\n",
       " 252: '__dopostback',\n",
       " 253: '__file__',\n",
       " 254: '__getitem__',\n",
       " 255: '__init__',\n",
       " 256: '__init__py',\n",
       " 257: '__nsarraym',\n",
       " 258: '_files',\n",
       " 259: '_get',\n",
       " 260: '_id',\n",
       " 261: '_post',\n",
       " 262: '_post array',\n",
       " 263: '_post values',\n",
       " 264: '_request',\n",
       " 265: '_server',\n",
       " 266: '_session',\n",
       " 267: 'abbreviations',\n",
       " 268: 'abc',\n",
       " 269: 'ability',\n",
       " 270: 'able',\n",
       " 271: 'able connect',\n",
       " 272: 'able create',\n",
       " 273: 'able run',\n",
       " 274: 'abort',\n",
       " 275: 'aborted',\n",
       " 276: 'aborting',\n",
       " 277: 'absolute',\n",
       " 278: 'absolute path',\n",
       " 279: 'absolute url',\n",
       " 280: 'absolutely',\n",
       " 281: 'abstract',\n",
       " 282: 'abstract base',\n",
       " 283: 'abstract class',\n",
       " 284: 'abstract classes',\n",
       " 285: 'abstract method',\n",
       " 286: 'accent',\n",
       " 287: 'accented',\n",
       " 288: 'accented characters',\n",
       " 289: 'accents',\n",
       " 290: 'accept',\n",
       " 291: 'acceptable',\n",
       " 292: 'accepted',\n",
       " 293: 'accepting',\n",
       " 294: 'accepts',\n",
       " 295: 'accepts_nested_attributes_for',\n",
       " 296: 'acces',\n",
       " 297: 'accesing',\n",
       " 298: 'access',\n",
       " 299: 'access 2007',\n",
       " 300: 'access array',\n",
       " 301: 'access class',\n",
       " 302: 'access control',\n",
       " 303: 'access data',\n",
       " 304: 'access database',\n",
       " 305: 'access db',\n",
       " 306: 'access denied',\n",
       " 307: 'access dom',\n",
       " 308: 'access element',\n",
       " 309: 'access elements',\n",
       " 310: 'access file',\n",
       " 311: 'access files',\n",
       " 312: 'access global',\n",
       " 313: 'access java',\n",
       " 314: 'access javascript',\n",
       " 315: 'access local',\n",
       " 316: 'access memory',\n",
       " 317: 'access nested',\n",
       " 318: 'access object',\n",
       " 319: 'access parent',\n",
       " 320: 'access php',\n",
       " 321: 'access private',\n",
       " 322: 'access properties',\n",
       " 323: 'access property',\n",
       " 324: 'access request',\n",
       " 325: 'access resource',\n",
       " 326: 'access session',\n",
       " 327: 'access specific',\n",
       " 328: 'access static',\n",
       " 329: 'access table',\n",
       " 330: 'access token',\n",
       " 331: 'access url',\n",
       " 332: 'access user',\n",
       " 333: 'access using',\n",
       " 334: 'access value',\n",
       " 335: 'access variable',\n",
       " 336: 'access variables',\n",
       " 337: 'access via',\n",
       " 338: 'access violation',\n",
       " 339: 'access web',\n",
       " 340: 'accesscontrolalloworigin',\n",
       " 341: 'accesscontrolalloworigin header',\n",
       " 342: 'accessed',\n",
       " 343: 'accessibility',\n",
       " 344: 'accessible',\n",
       " 345: 'accessing',\n",
       " 346: 'accessing elements',\n",
       " 347: 'accessing global',\n",
       " 348: 'accessing parent',\n",
       " 349: 'accessing session',\n",
       " 350: 'accessing variable',\n",
       " 351: 'accessing variables',\n",
       " 352: 'accessor',\n",
       " 353: 'accessory',\n",
       " 354: 'accomplish',\n",
       " 355: 'according',\n",
       " 356: 'accordingly',\n",
       " 357: 'accordion',\n",
       " 358: 'account',\n",
       " 359: 'account using',\n",
       " 360: 'accounts',\n",
       " 361: 'accuracy',\n",
       " 362: 'accurate',\n",
       " 363: 'accurately',\n",
       " 364: 'achieve',\n",
       " 365: 'acl',\n",
       " 366: 'acquire',\n",
       " 367: 'across',\n",
       " 368: 'across different',\n",
       " 369: 'across multiple',\n",
       " 370: 'act',\n",
       " 371: 'acting',\n",
       " 372: 'action',\n",
       " 373: 'action class',\n",
       " 374: 'action method',\n",
       " 375: 'action using',\n",
       " 376: 'actionbar',\n",
       " 377: 'actionlink',\n",
       " 378: 'actionlistener',\n",
       " 379: 'actionperformed',\n",
       " 380: 'actionresult',\n",
       " 381: 'actions',\n",
       " 382: 'actionscript',\n",
       " 383: 'actionscript 3',\n",
       " 384: 'actionviewtemplateerror',\n",
       " 385: 'activate',\n",
       " 386: 'activating',\n",
       " 387: 'activation',\n",
       " 388: 'active',\n",
       " 389: 'active admin',\n",
       " 390: 'active class',\n",
       " 391: 'active directory',\n",
       " 392: 'active record',\n",
       " 393: 'activeadmin',\n",
       " 394: 'actively',\n",
       " 395: 'actively refused',\n",
       " 396: 'activemq',\n",
       " 397: 'activerecord',\n",
       " 398: 'activerecord association',\n",
       " 399: 'activerecord find',\n",
       " 400: 'activerecord model',\n",
       " 401: 'activerecord query',\n",
       " 402: 'activerecordrecordnotfound',\n",
       " 403: 'activex',\n",
       " 404: 'activex control',\n",
       " 405: 'activities',\n",
       " 406: 'activity',\n",
       " 407: 'activity android',\n",
       " 408: 'activity indicator',\n",
       " 409: 'actual',\n",
       " 410: 'actually',\n",
       " 411: 'ad',\n",
       " 412: 'adapt',\n",
       " 413: 'adapter',\n",
       " 414: 'adb',\n",
       " 415: 'add',\n",
       " 416: 'add action',\n",
       " 417: 'add additional',\n",
       " 418: 'add array',\n",
       " 419: 'add attribute',\n",
       " 420: 'add back',\n",
       " 421: 'add background',\n",
       " 422: 'add border',\n",
       " 423: 'add button',\n",
       " 424: 'add buttons',\n",
       " 425: 'add class',\n",
       " 426: 'add click',\n",
       " 427: 'add column',\n",
       " 428: 'add controls',\n",
       " 429: 'add css',\n",
       " 430: 'add current',\n",
       " 431: 'add custom',\n",
       " 432: 'add data',\n",
       " 433: 'add delete',\n",
       " 434: 'add div',\n",
       " 435: 'add dynamic',\n",
       " 436: 'add edit',\n",
       " 437: 'add element',\n",
       " 438: 'add elements',\n",
       " 439: 'add event',\n",
       " 440: 'add external',\n",
       " 441: 'add extra',\n",
       " 442: 'add field',\n",
       " 443: 'add file',\n",
       " 444: 'add form',\n",
       " 445: 'add header',\n",
       " 446: 'add html',\n",
       " 447: 'add image',\n",
       " 448: 'add images',\n",
       " 449: 'add item',\n",
       " 450: 'add items',\n",
       " 451: 'add java',\n",
       " 452: 'add javascript',\n",
       " 453: 'add jquery',\n",
       " 454: 'add library',\n",
       " 455: 'add line',\n",
       " 456: 'add link',\n",
       " 457: 'add list',\n",
       " 458: 'add marker',\n",
       " 459: 'add method',\n",
       " 460: 'add multiple',\n",
       " 461: 'add new',\n",
       " 462: 'add object',\n",
       " 463: 'add onclick',\n",
       " 464: 'add one',\n",
       " 465: 'add property',\n",
       " 466: 'add reference',\n",
       " 467: 'add remove',\n",
       " 468: 'add row',\n",
       " 469: 'add rows',\n",
       " 470: 'add scroll',\n",
       " 471: 'add select',\n",
       " 472: 'add space',\n",
       " 473: 'add string',\n",
       " 474: 'add table',\n",
       " 475: 'add text',\n",
       " 476: 'add textbox',\n",
       " 477: 'add trailing',\n",
       " 478: 'add two',\n",
       " 479: 'add user',\n",
       " 480: 'add value',\n",
       " 481: 'add values',\n",
       " 482: 'add view',\n",
       " 483: 'addclass',\n",
       " 484: 'added',\n",
       " 485: 'addeventlistener',\n",
       " 486: 'addin',\n",
       " 487: 'adding',\n",
       " 488: 'adding additional',\n",
       " 489: 'adding columns',\n",
       " 490: 'adding custom',\n",
       " 491: 'adding data',\n",
       " 492: 'adding elements',\n",
       " 493: 'adding event',\n",
       " 494: 'adding extra',\n",
       " 495: 'adding html',\n",
       " 496: 'adding image',\n",
       " 497: 'adding item',\n",
       " 498: 'adding items',\n",
       " 499: 'adding jar',\n",
       " 500: 'adding multiple',\n",
       " 501: 'adding new',\n",
       " 502: 'adding object',\n",
       " 503: 'adding objects',\n",
       " 504: 'adding removing',\n",
       " 505: 'adding row',\n",
       " 506: 'adding rows',\n",
       " 507: 'adding string',\n",
       " 508: 'adding text',\n",
       " 509: 'adding two',\n",
       " 510: 'adding values',\n",
       " 511: 'addition',\n",
       " 512: 'additional',\n",
       " 513: 'addon',\n",
       " 514: 'address',\n",
       " 515: 'address already',\n",
       " 516: 'address bar',\n",
       " 517: 'address client',\n",
       " 518: 'address php',\n",
       " 519: 'address using',\n",
       " 520: 'addresses',\n",
       " 521: 'adds',\n",
       " 522: 'adjacent',\n",
       " 523: 'adjust',\n",
       " 524: 'adjust height',\n",
       " 525: 'adjust width',\n",
       " 526: 'adjusting',\n",
       " 527: 'admin',\n",
       " 528: 'admin form',\n",
       " 529: 'admin interface',\n",
       " 530: 'admin login',\n",
       " 531: 'admin page',\n",
       " 532: 'admin panel',\n",
       " 533: 'admin site',\n",
       " 534: 'admin user',\n",
       " 535: 'administration',\n",
       " 536: 'administrator',\n",
       " 537: 'admob',\n",
       " 538: 'ado',\n",
       " 539: 'adobe',\n",
       " 540: 'adobe air',\n",
       " 541: 'adonet',\n",
       " 542: 'adonet entity',\n",
       " 543: 'adt',\n",
       " 544: 'advance',\n",
       " 545: 'advanced',\n",
       " 546: 'advantage',\n",
       " 547: 'advantage using',\n",
       " 548: 'advantages',\n",
       " 549: 'advantages disadvantages',\n",
       " 550: 'advantages using',\n",
       " 551: 'advice',\n",
       " 552: 'aes',\n",
       " 553: 'aes encryption',\n",
       " 554: 'aes256',\n",
       " 555: '"
      ]
     },
     "execution_count": 39,
     "metadata": {},
     "output_type": "execute_result"
    },
    {
     "data": {
      "text/html": [
       "<b>limit_output extension: Maximum message size of 10000 exceeded with 19377 characters</b>"
      ]
     },
     "metadata": {},
     "output_type": "display_data"
    }
   ],
   "source": [
    "tfidf_reversed_vocab"
   ]
  },
  {
   "cell_type": "code",
   "execution_count": 44,
   "metadata": {},
   "outputs": [
    {
     "data": {
      "text/plain": [
       "1976"
      ]
     },
     "execution_count": 44,
     "metadata": {},
     "output_type": "execute_result"
    }
   ],
   "source": [
    "tfidf_vocab['c++']"
   ]
  },
  {
   "cell_type": "markdown",
   "metadata": {},
   "source": [
    "If you can't find it, we need to understand how did it happen that we lost them? It happened during the built-in tokenization of TfidfVectorizer. Luckily, we can influence on this process. Get back to the function above and use '(\\S+)' regexp as a *token_pattern* in the constructor of the vectorizer.  "
   ]
  },
  {
   "cell_type": "markdown",
   "metadata": {},
   "source": [
    "Now, use this transormation for the data and check again."
   ]
  },
  {
   "cell_type": "code",
   "execution_count": 41,
   "metadata": {},
   "outputs": [
    {
     "data": {
      "text/plain": [
       "1976"
      ]
     },
     "execution_count": 41,
     "metadata": {},
     "output_type": "execute_result"
    }
   ],
   "source": [
    "tfidf_vocab['c++']"
   ]
  },
  {
   "cell_type": "code",
   "execution_count": 43,
   "metadata": {},
   "outputs": [
    {
     "data": {
      "text/plain": [
       "((30000, 18300), (100000, 18300))"
      ]
     },
     "execution_count": 43,
     "metadata": {},
     "output_type": "execute_result"
    }
   ],
   "source": [
    "X_val_tfidf.shape, X_train_tfidf.shape"
   ]
  },
  {
   "cell_type": "markdown",
   "metadata": {},
   "source": [
    "### MultiLabel classifier\n",
    "\n",
    "As we have noticed before, in this task each example can have multiple tags. To deal with such kind of prediction, we need to transform labels in a binary form and the prediction will be a mask of 0s and 1s. For this purpose it is convenient to use [MultiLabelBinarizer](http://scikit-learn.org/stable/modules/generated/sklearn.preprocessing.MultiLabelBinarizer.html) from *sklearn*."
   ]
  },
  {
   "cell_type": "code",
   "execution_count": 45,
   "metadata": {},
   "outputs": [],
   "source": [
    "from sklearn.preprocessing import MultiLabelBinarizer"
   ]
  },
  {
   "cell_type": "code",
   "execution_count": 46,
   "metadata": {},
   "outputs": [
    {
     "data": {
      "text/plain": [
       "100"
      ]
     },
     "execution_count": 46,
     "metadata": {},
     "output_type": "execute_result"
    }
   ],
   "source": [
    "len(tags_counts)"
   ]
  },
  {
   "cell_type": "code",
   "execution_count": 47,
   "metadata": {},
   "outputs": [
    {
     "data": {
      "text/plain": [
       "(100000,)"
      ]
     },
     "execution_count": 47,
     "metadata": {},
     "output_type": "execute_result"
    }
   ],
   "source": [
    "y_train.shape"
   ]
  },
  {
   "cell_type": "code",
   "execution_count": 48,
   "metadata": {},
   "outputs": [],
   "source": [
    "mlb = MultiLabelBinarizer(classes=sorted(tags_counts.keys()))\n",
    "y_train = mlb.fit_transform(y_train) # (n_samples, n_vocab(or n_features))\n",
    "y_val = mlb.fit_transform(y_val)"
   ]
  },
  {
   "cell_type": "code",
   "execution_count": 49,
   "metadata": {},
   "outputs": [
    {
     "data": {
      "text/plain": [
       "((100000, 100), (30000, 100))"
      ]
     },
     "execution_count": 49,
     "metadata": {},
     "output_type": "execute_result"
    }
   ],
   "source": [
    "y_train.shape, y_val.shape"
   ]
  },
  {
   "cell_type": "markdown",
   "metadata": {},
   "source": [
    "Implement the function *train_classifier* for training a classifier. In this task we suggest to use One-vs-Rest approach, which is implemented in [OneVsRestClassifier](http://scikit-learn.org/stable/modules/generated/sklearn.multiclass.OneVsRestClassifier.html) class. In this approach *k* classifiers (= number of tags) are trained. As a basic classifier, use [LogisticRegression](http://scikit-learn.org/stable/modules/generated/sklearn.linear_model.LogisticRegression.html). It is one of the simplest methods, but often it performs good enough in text classification tasks. It might take some time, because a number of classifiers to train is large."
   ]
  },
  {
   "cell_type": "code",
   "execution_count": 201,
   "metadata": {},
   "outputs": [],
   "source": [
    "from sklearn.multiclass import OneVsRestClassifier\n",
    "from sklearn.linear_model import LogisticRegression, RidgeClassifier"
   ]
  },
  {
   "cell_type": "code",
   "execution_count": 203,
   "metadata": {},
   "outputs": [],
   "source": [
    "def train_classifier(X_train, y_train):\n",
    "    \"\"\"\n",
    "      X_train, y_train — training data\n",
    "      \n",
    "      return: trained classifier\n",
    "    \"\"\"\n",
    "    \n",
    "    # Create and fit LogisticRegression wraped into OneVsRestClassifier.\n",
    "    clf = OneVsRestClassifier(LogisticRegression())\n",
    "    clf.fit(X_train, y_train)\n",
    "    return clf"
   ]
  },
  {
   "cell_type": "markdown",
   "metadata": {},
   "source": [
    "Train the classifiers for different data transformations: *bag-of-words* and *tf-idf*."
   ]
  },
  {
   "cell_type": "code",
   "execution_count": 204,
   "metadata": {},
   "outputs": [],
   "source": [
    "classifier_mybag = train_classifier(X_train_mybag, y_train)\n",
    "classifier_tfidf = train_classifier(X_train_tfidf, y_train)"
   ]
  },
  {
   "cell_type": "markdown",
   "metadata": {},
   "source": [
    "Now you can create predictions for the data. You will need two types of predictions: labels and scores."
   ]
  },
  {
   "cell_type": "code",
   "execution_count": null,
   "metadata": {},
   "outputs": [],
   "source": []
  },
  {
   "cell_type": "code",
   "execution_count": 205,
   "metadata": {},
   "outputs": [],
   "source": [
    "y_val_predicted_labels_mybag = classifier_mybag.predict(X_val_mybag)\n",
    "y_val_predicted_scores_mybag = classifier_mybag.decision_function(X_val_mybag)\n",
    "\n",
    "y_val_predicted_labels_tfidf = classifier_tfidf.predict(X_val_tfidf)\n",
    "y_val_predicted_scores_tfidf = classifier_tfidf.decision_function(X_val_tfidf)"
   ]
  },
  {
   "cell_type": "markdown",
   "metadata": {},
   "source": [
    "Now take a look at how classifier, which uses TF-IDF, works for a few examples:"
   ]
  },
  {
   "cell_type": "code",
   "execution_count": null,
   "metadata": {},
   "outputs": [],
   "source": [
    "y_val_pred_inversed = mlb.inverse_transform(y_val_predicted_labels_tfidf)\n",
    "y_val_inversed = mlb.inverse_transform(y_val)\n",
    "for i in range(3):\n",
    "    print('Title:\\t{}\\nTrue labels:\\t{}\\nPredicted labels:\\t{}\\n\\n'.format(\n",
    "        X_val[i],\n",
    "        ','.join(y_val_inversed[i]),\n",
    "        ','.join(y_val_pred_inversed[i])\n",
    "    ))"
   ]
  },
  {
   "cell_type": "markdown",
   "metadata": {},
   "source": [
    "Now, we would need to compare the results of different predictions, e.g. to see whether TF-IDF transformation helps or to try different regularization techniques in logistic regression. For all these experiments, we need to setup evaluation procedure. "
   ]
  },
  {
   "cell_type": "markdown",
   "metadata": {},
   "source": [
    "### Evaluation\n",
    "\n",
    "To evaluate the results we will use several classification metrics:\n",
    " - [Accuracy](http://scikit-learn.org/stable/modules/generated/sklearn.metrics.accuracy_score.html)\n",
    " - [F1-score](http://scikit-learn.org/stable/modules/generated/sklearn.metrics.f1_score.html)\n",
    " - [Area under ROC-curve](http://scikit-learn.org/stable/modules/generated/sklearn.metrics.roc_auc_score.html)\n",
    " - [Area under precision-recall curve](http://scikit-learn.org/stable/modules/generated/sklearn.metrics.average_precision_score.html#sklearn.metrics.average_precision_score) \n",
    " \n",
    "Make sure you are familiar with all of them. How would you expect the things work for the multi-label scenario? Read about micro/macro/weighted averaging following the sklearn links provided above."
   ]
  },
  {
   "cell_type": "code",
   "execution_count": null,
   "metadata": {
    "collapsed": true
   },
   "outputs": [],
   "source": [
    "from sklearn.metrics import accuracy_score\n",
    "from sklearn.metrics import f1_score\n",
    "from sklearn.metrics import roc_auc_score \n",
    "from sklearn.metrics import average_precision_score\n",
    "from sklearn.metrics import recall_score"
   ]
  },
  {
   "cell_type": "markdown",
   "metadata": {},
   "source": [
    "Implement the function *print_evaluation_scores* which calculates and prints to stdout:\n",
    " - *accuracy*\n",
    " - *F1-score macro/micro/weighted*\n",
    " - *Precision macro/micro/weighted*"
   ]
  },
  {
   "cell_type": "code",
   "execution_count": null,
   "metadata": {
    "collapsed": true
   },
   "outputs": [],
   "source": [
    "def print_evaluation_scores(y_val, predicted):\n",
    "    \n",
    "    ######################################\n",
    "    ######### YOUR CODE HERE #############\n",
    "    ######################################"
   ]
  },
  {
   "cell_type": "code",
   "execution_count": null,
   "metadata": {
    "collapsed": true
   },
   "outputs": [],
   "source": [
    "print('Bag-of-words')\n",
    "print_evaluation_scores(y_val, y_val_predicted_labels_mybag)\n",
    "print('Tfidf')\n",
    "print_evaluation_scores(y_val, y_val_predicted_labels_tfidf)"
   ]
  },
  {
   "cell_type": "markdown",
   "metadata": {},
   "source": [
    "You might also want to plot some generalization of the [ROC curve](http://scikit-learn.org/stable/modules/model_evaluation.html#receiver-operating-characteristic-roc) for the case of multi-label classification. Provided function *roc_auc* can make it for you. The input parameters of this function are:\n",
    " - true labels\n",
    " - decision functions scores\n",
    " - number of classes"
   ]
  },
  {
   "cell_type": "code",
   "execution_count": null,
   "metadata": {
    "collapsed": true
   },
   "outputs": [],
   "source": [
    "from metrics import roc_auc\n",
    "%matplotlib inline"
   ]
  },
  {
   "cell_type": "code",
   "execution_count": null,
   "metadata": {
    "collapsed": true
   },
   "outputs": [],
   "source": [
    "n_classes = len(tags_counts)\n",
    "roc_auc(y_val, y_val_predicted_scores_mybag, n_classes)"
   ]
  },
  {
   "cell_type": "code",
   "execution_count": null,
   "metadata": {
    "collapsed": true
   },
   "outputs": [],
   "source": [
    "n_classes = len(tags_counts)\n",
    "roc_auc(y_val, y_val_predicted_scores_tfidf, n_classes)"
   ]
  },
  {
   "cell_type": "markdown",
   "metadata": {},
   "source": [
    "**Task 4 (MultilabelClassification).** Once we have the evaluation set up, we suggest that you experiment a bit with training your classifiers. We will use *F1-score weighted* as an evaluation metric. Our recommendation:\n",
    "- compare the quality of the bag-of-words and TF-IDF approaches and chose one of them.\n",
    "- for the chosen one, try *L1* and *L2*-regularization techniques in Logistic Regression with different coefficients (e.g. C equal to 0.1, 1, 10, 100).\n",
    "\n",
    "You also could try other improvements of the preprocessing / model, if you want. "
   ]
  },
  {
   "cell_type": "code",
   "execution_count": null,
   "metadata": {
    "collapsed": true
   },
   "outputs": [],
   "source": [
    "######################################\n",
    "######### YOUR CODE HERE #############\n",
    "######################################"
   ]
  },
  {
   "cell_type": "markdown",
   "metadata": {},
   "source": [
    "When you are happy with the quality, create predictions for *test* set, which you will submit to Coursera."
   ]
  },
  {
   "cell_type": "code",
   "execution_count": null,
   "metadata": {
    "collapsed": true
   },
   "outputs": [],
   "source": [
    "test_predictions = ######### YOUR CODE HERE #############\n",
    "test_pred_inversed = mlb.inverse_transform(test_predictions)\n",
    "\n",
    "test_predictions_for_submission = '\\n'.join('%i\\t%s' % (i, ','.join(row)) for i, row in enumerate(test_pred_inversed))\n",
    "grader.submit_tag('MultilabelClassification', test_predictions_for_submission)"
   ]
  },
  {
   "cell_type": "markdown",
   "metadata": {},
   "source": [
    "### Analysis of the most important features"
   ]
  },
  {
   "cell_type": "markdown",
   "metadata": {},
   "source": [
    "Finally, it is usually a good idea to look at the features (words or n-grams) that are used with the largest weigths in your logistic regression model."
   ]
  },
  {
   "cell_type": "markdown",
   "metadata": {},
   "source": [
    "Implement the function *print_words_for_tag* to find them. Get back to sklearn documentation on [OneVsRestClassifier](http://scikit-learn.org/stable/modules/generated/sklearn.multiclass.OneVsRestClassifier.html) and [LogisticRegression](http://scikit-learn.org/stable/modules/generated/sklearn.linear_model.LogisticRegression.html) if needed."
   ]
  },
  {
   "cell_type": "code",
   "execution_count": null,
   "metadata": {
    "collapsed": true
   },
   "outputs": [],
   "source": [
    "def print_words_for_tag(classifier, tag, tags_classes, index_to_words, all_words):\n",
    "    \"\"\"\n",
    "        classifier: trained classifier\n",
    "        tag: particular tag\n",
    "        tags_classes: a list of classes names from MultiLabelBinarizer\n",
    "        index_to_words: index_to_words transformation\n",
    "        all_words: all words in the dictionary\n",
    "        \n",
    "        return nothing, just print top 5 positive and top 5 negative words for current tag\n",
    "    \"\"\"\n",
    "    print('Tag:\\t{}'.format(tag))\n",
    "    \n",
    "    # Extract an estimator from the classifier for the given tag.\n",
    "    # Extract feature coefficients from the estimator. \n",
    "    \n",
    "    ######################################\n",
    "    ######### YOUR CODE HERE #############\n",
    "    ######################################\n",
    "    \n",
    "    top_positive_words = # top-5 words sorted by the coefficiens.\n",
    "    top_negative_words = # bottom-5 words  sorted by the coefficients.\n",
    "    print('Top positive words:\\t{}'.format(', '.join(top_positive_words)))\n",
    "    print('Top negative words:\\t{}\\n'.format(', '.join(top_negative_words)))"
   ]
  },
  {
   "cell_type": "code",
   "execution_count": null,
   "metadata": {
    "collapsed": true
   },
   "outputs": [],
   "source": [
    "print_words_for_tag(classifier_tfidf, 'c', mlb.classes, tfidf_reversed_vocab, ALL_WORDS)\n",
    "print_words_for_tag(classifier_tfidf, 'c++', mlb.classes, tfidf_reversed_vocab, ALL_WORDS)\n",
    "print_words_for_tag(classifier_tfidf, 'linux', mlb.classes, tfidf_reversed_vocab, ALL_WORDS)"
   ]
  },
  {
   "cell_type": "markdown",
   "metadata": {},
   "source": [
    "### Authorization & Submission\n",
    "To submit assignment parts to Cousera platform, please, enter your e-mail and token into variables below. You can generate token on this programming assignment page. <b>Note:</b> Token expires 30 minutes after generation."
   ]
  },
  {
   "cell_type": "code",
   "execution_count": null,
   "metadata": {
    "collapsed": true
   },
   "outputs": [],
   "source": [
    "grader.status()"
   ]
  },
  {
   "cell_type": "code",
   "execution_count": null,
   "metadata": {
    "collapsed": true
   },
   "outputs": [],
   "source": [
    "STUDENT_EMAIL = \"karenye.psu@gmail.com\" \n",
    "STUDENT_TOKEN = \"zDf2bhG6kuVXhpMN\" \n",
    "grader.status()"
   ]
  },
  {
   "cell_type": "markdown",
   "metadata": {},
   "source": [
    "If you want to submit these answers, run cell below"
   ]
  },
  {
   "cell_type": "code",
   "execution_count": null,
   "metadata": {
    "collapsed": true
   },
   "outputs": [],
   "source": [
    "grader.submit(STUDENT_EMAIL, STUDENT_TOKEN)"
   ]
  }
 ],
 "metadata": {
  "kernelspec": {
   "display_name": "Python 3",
   "language": "python",
   "name": "python3"
  },
  "language_info": {
   "codemirror_mode": {
    "name": "ipython",
    "version": 3
   },
   "file_extension": ".py",
   "mimetype": "text/x-python",
   "name": "python",
   "nbconvert_exporter": "python",
   "pygments_lexer": "ipython3",
   "version": "3.5.2"
  },
  "varInspector": {
   "cols": {
    "lenName": 16,
    "lenType": 16,
    "lenVar": 40
   },
   "kernels_config": {
    "python": {
     "delete_cmd_postfix": "",
     "delete_cmd_prefix": "del ",
     "library": "var_list.py",
     "varRefreshCmd": "print(var_dic_list())"
    },
    "r": {
     "delete_cmd_postfix": ") ",
     "delete_cmd_prefix": "rm(",
     "library": "var_list.r",
     "varRefreshCmd": "cat(var_dic_list()) "
    }
   },
   "types_to_exclude": [
    "module",
    "function",
    "builtin_function_or_method",
    "instance",
    "_Feature"
   ],
   "window_display": false
  }
 },
 "nbformat": 4,
 "nbformat_minor": 2
}
