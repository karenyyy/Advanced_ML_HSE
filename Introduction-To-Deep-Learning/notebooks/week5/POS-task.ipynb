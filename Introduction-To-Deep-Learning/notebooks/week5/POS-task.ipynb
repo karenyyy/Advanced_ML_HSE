{
 "cells": [
  {
   "cell_type": "markdown",
   "metadata": {},
   "source": [
    "__This seminar:__ after you're done coding your own recurrent cells, it's time you learn how to train recurrent networks easily with Keras. We'll also learn some tricks on how to use keras layers and model. We also want you to note that this is a non-graded assignment, meaning you are not required to pass it for a certificate.\n",
    "\n",
    "Enough beatin' around the bush, let's get to the task!"
   ]
  },
  {
   "cell_type": "markdown",
   "metadata": {
    "collapsed": true
   },
   "source": [
    "## Part Of Speech Tagging\n",
    "\n",
    "<img src=https://i.stack.imgur.com/6pdIT.png width=320>\n",
    "\n",
    "Unlike our previous experience with language modelling, this time around we learn the mapping between two different kinds of elements.\n",
    "\n",
    "This setting is common for a range of useful problems:\n",
    "* Speech Recognition - processing human voice into text\n",
    "* Part Of Speech Tagging - for morphology-aware search and as an auxuliary task for most NLP problems\n",
    "* Named Entity Recognition - for chat bots and web crawlers\n",
    "* Protein structure prediction - for bioinformatics\n",
    "\n",
    "Our current guest is part-of-speech tagging. As the name suggests, it's all about converting a sequence of words into a sequence of part-of-speech tags. We'll use a reduced tag set for simplicity:\n",
    "\n",
    "### POS-tags\n",
    "- ADJ - adjective (new, good, high, ...)\n",
    "- ADP - adposition\t(on, of, at, ...)\n",
    "- ADV - adverb\t(really, already, still, ...)\n",
    "- CONJ\t- conjunction\t(and, or, but, ...)\n",
    "- DET - determiner, article\t(the, a, some, ...)\n",
    "- NOUN\t- noun\t(year, home, costs, ...)\n",
    "- NUM - numeral\t(twenty-four, fourth, 1991, ...)\n",
    "- PRT -\tparticle (at, on, out, ...)\n",
    "- PRON - pronoun (he, their, her, ...)\n",
    "- VERB - verb (is, say, told, ...)\n",
    "- .\t- punctuation marks\t(. , ;)\n",
    "- X\t- other\t(ersatz, esprit, dunno, ...)"
   ]
  },
  {
   "cell_type": "code",
   "execution_count": 2,
   "metadata": {
    "scrolled": true
   },
   "outputs": [
    {
     "name": "stdout",
     "output_type": "stream",
     "text": [
      "[nltk_data] Downloading package brown to /home/karen/nltk_data...\n",
      "[nltk_data]   Unzipping corpora/brown.zip.\n",
      "[nltk_data] Downloading package universal_tagset to\n",
      "[nltk_data]     /home/karen/nltk_data...\n",
      "[nltk_data]   Unzipping taggers/universal_tagset.zip.\n"
     ]
    }
   ],
   "source": [
    "import nltk\n",
    "import sys\n",
    "import numpy as np\n",
    "nltk.download('brown')\n",
    "nltk.download('universal_tagset')\n",
    "data = nltk.corpus.brown.tagged_sents(tagset='universal')\n",
    "all_tags = ['#EOS#','#UNK#','ADV', 'NOUN', 'ADP', 'PRON', 'DET', '.', 'PRT', 'VERB', 'X', 'NUM', 'CONJ', 'ADJ']\n",
    "\n",
    "data = np.array([ [(word.lower(),tag) for word,tag in sentence] for sentence in data ])"
   ]
  },
  {
   "cell_type": "code",
   "execution_count": 3,
   "metadata": {
    "scrolled": true
   },
   "outputs": [
    {
     "data": {
      "text/plain": [
       "array([list([('the', 'DET'), ('fulton', 'NOUN'), ('county', 'NOUN'), ('grand', 'ADJ'), ('jury', 'NOUN'), ('said', 'VERB'), ('friday', 'NOUN'), ('an', 'DET'), ('investigation', 'NOUN'), ('of', 'ADP'), (\"atlanta's\", 'NOUN'), ('recent', 'ADJ'), ('primary', 'NOUN'), ('election', 'NOUN'), ('produced', 'VERB'), ('``', '.'), ('no', 'DET'), ('evidence', 'NOUN'), (\"''\", '.'), ('that', 'ADP'), ('any', 'DET'), ('irregularities', 'NOUN'), ('took', 'VERB'), ('place', 'NOUN'), ('.', '.')]),\n",
       "       list([('the', 'DET'), ('jury', 'NOUN'), ('further', 'ADV'), ('said', 'VERB'), ('in', 'ADP'), ('term-end', 'NOUN'), ('presentments', 'NOUN'), ('that', 'ADP'), ('the', 'DET'), ('city', 'NOUN'), ('executive', 'ADJ'), ('committee', 'NOUN'), (',', '.'), ('which', 'DET'), ('had', 'VERB'), ('over-all', 'ADJ'), ('charge', 'NOUN'), ('of', 'ADP'), ('the', 'DET'), ('election', 'NOUN'), (',', '.'), ('``', '.'), ('deserves', 'VERB'), ('the', 'DET'), ('praise', 'NOUN'), ('and', 'CONJ'), ('thanks', 'NOUN'), ('of', 'ADP'), ('the', 'DET'), ('city', 'NOUN'), ('of', 'ADP'), ('atlanta', 'NOUN'), (\"''\", '.'), ('for', 'ADP'), ('the', 'DET'), ('manner', 'NOUN'), ('in', 'ADP'), ('which', 'DET'), ('the', 'DET'), ('election', 'NOUN'), ('was', 'VERB'), ('conducted', 'VERB'), ('.', '.')]),\n",
       "       list([('the', 'DET'), ('september-october', 'NOUN'), ('term', 'NOUN'), ('jury', 'NOUN'), ('had', 'VERB'), ('been', 'VERB'), ('charged', 'VERB'), ('by', 'ADP'), ('fulton', 'NOUN'), ('superior', 'ADJ'), ('court', 'NOUN'), ('judge', 'NOUN'), ('durwood', 'NOUN'), ('pye', 'NOUN'), ('to', 'PRT'), ('investigate', 'VERB'), ('reports', 'NOUN'), ('of', 'ADP'), ('possible', 'ADJ'), ('``', '.'), ('irregularities', 'NOUN'), (\"''\", '.'), ('in', 'ADP'), ('the', 'DET'), ('hard-fought', 'ADJ'), ('primary', 'NOUN'), ('which', 'DET'), ('was', 'VERB'), ('won', 'VERB'), ('by', 'ADP'), ('mayor-nominate', 'NOUN'), ('ivan', 'NOUN'), ('allen', 'NOUN'), ('jr.', 'NOUN'), ('.', '.')]),\n",
       "       ...,\n",
       "       list([('the', 'DET'), ('doors', 'NOUN'), ('of', 'ADP'), ('the', 'DET'), ('d', 'NOUN'), ('train', 'NOUN'), ('slid', 'VERB'), ('shut', 'VERB'), (',', '.'), ('and', 'CONJ'), ('as', 'ADP'), ('i', 'PRON'), ('dropped', 'VERB'), ('into', 'ADP'), ('a', 'DET'), ('seat', 'NOUN'), ('and', 'CONJ'), (',', '.'), ('exhaling', 'VERB'), (',', '.'), ('looked', 'VERB'), ('up', 'PRT'), ('across', 'ADP'), ('the', 'DET'), ('aisle', 'NOUN'), (',', '.'), ('the', 'DET'), ('whole', 'ADJ'), ('aviary', 'NOUN'), ('in', 'ADP'), ('my', 'DET'), ('head', 'NOUN'), ('burst', 'VERB'), ('into', 'ADP'), ('song', 'NOUN'), ('.', '.')]),\n",
       "       list([('she', 'PRON'), ('was', 'VERB'), ('a', 'DET'), ('living', 'VERB'), ('doll', 'NOUN'), ('and', 'CONJ'), ('no', 'DET'), ('mistake', 'NOUN'), ('--', '.'), ('the', 'DET'), ('blue-black', 'ADJ'), ('bang', 'NOUN'), (',', '.'), ('the', 'DET'), ('wide', 'ADJ'), ('cheekbones', 'NOUN'), (',', '.'), ('olive-flushed', 'ADJ'), (',', '.'), ('that', 'PRON'), ('betrayed', 'VERB'), ('the', 'DET'), ('cherokee', 'NOUN'), ('strain', 'NOUN'), ('in', 'ADP'), ('her', 'DET'), ('midwestern', 'ADJ'), ('lineage', 'NOUN'), (',', '.'), ('and', 'CONJ'), ('the', 'DET'), ('mouth', 'NOUN'), ('whose', 'DET'), ('only', 'ADJ'), ('fault', 'NOUN'), (',', '.'), ('in', 'ADP'), ('the', 'DET'), (\"novelist's\", 'NOUN'), ('carping', 'VERB'), ('phrase', 'NOUN'), (',', '.'), ('was', 'VERB'), ('that', 'ADP'), ('the', 'DET'), ('lower', 'ADJ'), ('lip', 'NOUN'), ('was', 'VERB'), ('a', 'DET'), ('trifle', 'NOUN'), ('too', 'ADV'), ('voluptuous', 'ADJ'), ('.', '.')]),\n",
       "       list([('from', 'ADP'), ('what', 'DET'), ('i', 'PRON'), ('was', 'VERB'), ('able', 'ADJ'), ('to', 'ADP'), ('gauge', 'NOUN'), ('in', 'ADP'), ('a', 'DET'), ('swift', 'ADJ'), (',', '.'), ('greedy', 'ADJ'), ('glance', 'NOUN'), (',', '.'), ('the', 'DET'), ('figure', 'NOUN'), ('inside', 'ADP'), ('the', 'DET'), ('coral-colored', 'ADJ'), ('boucle', 'NOUN'), ('dress', 'NOUN'), ('was', 'VERB'), ('stupefying', 'VERB'), ('.', '.')])],\n",
       "      dtype=object)"
      ]
     },
     "execution_count": 3,
     "metadata": {},
     "output_type": "execute_result"
    }
   ],
   "source": [
    "data"
   ]
  },
  {
   "cell_type": "code",
   "execution_count": 4,
   "metadata": {},
   "outputs": [],
   "source": [
    "from sklearn.model_selection import train_test_split\n",
    "train_data,test_data = train_test_split(data,test_size=0.25,random_state=42)"
   ]
  },
  {
   "cell_type": "code",
   "execution_count": 5,
   "metadata": {},
   "outputs": [
    {
     "data": {
      "text/plain": [
       "((43005,), (14335,))"
      ]
     },
     "execution_count": 5,
     "metadata": {},
     "output_type": "execute_result"
    }
   ],
   "source": [
    "train_data.shape, test_data.shape"
   ]
  },
  {
   "cell_type": "code",
   "execution_count": 6,
   "metadata": {},
   "outputs": [
    {
     "data": {
      "text/html": [
       "<table><tr><td>NOUN</td><td>ADP</td><td>NOUN</td><td>NOUN</td><td>NOUN</td><td>NOUN</td><td>VERB</td><td>ADV</td><td>VERB</td><td>ADP</td><td>DET</td><td>ADJ</td><td>NOUN</td><td>.</td></tr><td>implementation</td><td>of</td><td>georgia's</td><td>automobile</td><td>title</td><td>law</td><td>was</td><td>also</td><td>recommended</td><td>by</td><td>the</td><td>outgoing</td><td>jury</td><td>.</td><tr></table>"
      ],
      "text/plain": [
       "<IPython.core.display.HTML object>"
      ]
     },
     "metadata": {},
     "output_type": "display_data"
    },
    {
     "data": {
      "text/html": [
       "<table><tr><td>PRON</td><td>VERB</td><td>ADP</td><td>DET</td><td>NOUN</td><td>.</td><td>VERB</td><td>NOUN</td><td>PRT</td><td>VERB</td><td>.</td><td>DET</td><td>NOUN</td><td>.</td></tr><td>it</td><td>urged</td><td>that</td><td>the</td><td>city</td><td>``</td><td>take</td><td>steps</td><td>to</td><td>remedy</td><td>''</td><td>this</td><td>problem</td><td>.</td><tr></table>"
      ],
      "text/plain": [
       "<IPython.core.display.HTML object>"
      ]
     },
     "metadata": {},
     "output_type": "display_data"
    },
    {
     "data": {
      "text/html": [
       "<table><tr><td>NOUN</td><td>VERB</td></tr><td>merger</td><td>proposed</td><tr></table>"
      ],
      "text/plain": [
       "<IPython.core.display.HTML object>"
      ]
     },
     "metadata": {},
     "output_type": "display_data"
    }
   ],
   "source": [
    "from IPython.display import HTML, display\n",
    "def draw(sentence):\n",
    "    words,tags = zip(*sentence)\n",
    "    display(HTML('<table><tr>{tags}</tr>{words}<tr></table>'.format(\n",
    "                words = '<td>{}</td>'.format('</td><td>'.join(words)),\n",
    "                tags = '<td>{}</td>'.format('</td><td>'.join(tags)))))\n",
    "    \n",
    "    \n",
    "draw(data[11])\n",
    "draw(data[10])\n",
    "draw(data[7])"
   ]
  },
  {
   "cell_type": "markdown",
   "metadata": {},
   "source": [
    "### Building vocabularies\n",
    "\n",
    "Just like before, we have to build a mapping from tokens to integer ids. This time around, our model operates on a word level, processing one word per RNN step. This means we'll have to deal with far larger vocabulary.\n",
    "\n",
    "Luckily for us, we only receive those words as input i.e. we don't have to predict them. This means we can have a large vocabulary for free by using word embeddings."
   ]
  },
  {
   "cell_type": "code",
   "execution_count": 7,
   "metadata": {},
   "outputs": [
    {
     "name": "stdout",
     "output_type": "stream",
     "text": [
      "Coverage = 0.92876\n"
     ]
    }
   ],
   "source": [
    "from collections import Counter\n",
    "word_counts = Counter()\n",
    "for sentence in data:\n",
    "    words,tags = zip(*sentence)\n",
    "    word_counts.update(words)\n",
    "\n",
    "all_words = ['#EOS#','#UNK#']+list(list(zip(*word_counts.most_common(10000)))[0])\n",
    "\n",
    "#let's measure what fraction of data words are in the dictionary\n",
    "print(\"Coverage = %.5f\"%(float(sum(word_counts[w] for w in all_words)) / sum(word_counts.values())))"
   ]
  },
  {
   "cell_type": "code",
   "execution_count": 8,
   "metadata": {},
   "outputs": [
    {
     "data": {
      "text/plain": [
       "Counter({'122': 2,\n",
       "         'shrill': 7,\n",
       "         'rhine-westphalia': 1,\n",
       "         'reguli': 1,\n",
       "         'otter': 5,\n",
       "         'airline': 2,\n",
       "         \"painter's\": 3,\n",
       "         'battleground': 2,\n",
       "         'uncousinly': 1,\n",
       "         'invigoration': 2,\n",
       "         'bruce': 4,\n",
       "         'lasso': 2,\n",
       "         'gute': 2,\n",
       "         'incipient': 4,\n",
       "         'druggan-lake': 1,\n",
       "         'symbolists': 1,\n",
       "         'glen': 7,\n",
       "         'expresses': 9,\n",
       "         'infirm': 1,\n",
       "         'bundle': 20,\n",
       "         'ranking': 5,\n",
       "         'ignoramus': 2,\n",
       "         'screwed': 14,\n",
       "         'outback': 3,\n",
       "         'glycols': 1,\n",
       "         \"vermont's\": 2,\n",
       "         'improvised': 3,\n",
       "         'loveliest': 3,\n",
       "         'loft': 2,\n",
       "         'continuance': 6,\n",
       "         'breakables': 1,\n",
       "         'conducive': 2,\n",
       "         'doves': 1,\n",
       "         'indecision': 5,\n",
       "         'dinners': 9,\n",
       "         'juleps': 1,\n",
       "         'consign': 2,\n",
       "         'yrs.': 4,\n",
       "         'degassed': 1,\n",
       "         'sake': 41,\n",
       "         'alternatively': 3,\n",
       "         'handstands': 3,\n",
       "         'glistening': 6,\n",
       "         \"mahzeer's\": 5,\n",
       "         'durable': 12,\n",
       "         'bark': 14,\n",
       "         'moderating': 1,\n",
       "         \"didn't\": 401,\n",
       "         'mondays': 1,\n",
       "         'rotunda': 6,\n",
       "         'gen.': 23,\n",
       "         'series': 130,\n",
       "         'marksmanship': 4,\n",
       "         'boeotian': 1,\n",
       "         'vittorio': 2,\n",
       "         'inter-tribal': 1,\n",
       "         'beans': 9,\n",
       "         'erupt': 2,\n",
       "         'expansiveness': 3,\n",
       "         'bonheur': 1,\n",
       "         'hardy': 42,\n",
       "         'physicists': 2,\n",
       "         'resting': 19,\n",
       "         'livshitz': 2,\n",
       "         'extraterrestrial': 3,\n",
       "         'tenses': 1,\n",
       "         'composites': 1,\n",
       "         'decks': 6,\n",
       "         'sundry': 5,\n",
       "         'old-time': 4,\n",
       "         'uncomfortably': 3,\n",
       "         'unimportant': 9,\n",
       "         'motets': 1,\n",
       "         'anglican': 11,\n",
       "         \"can't\": 169,\n",
       "         'nepal': 1,\n",
       "         'danzig': 1,\n",
       "         'thrashed': 3,\n",
       "         'altruism': 1,\n",
       "         'differentiated': 5,\n",
       "         'timeless': 2,\n",
       "         \"wert's\": 1,\n",
       "         'growling': 1,\n",
       "         'lambeth': 3,\n",
       "         'yum-yum': 1,\n",
       "         'plee-zing': 1,\n",
       "         '11.2': 1,\n",
       "         'ajb': 1,\n",
       "         'pleads': 1,\n",
       "         'abdomen': 6,\n",
       "         'singularly': 1,\n",
       "         'batavia': 3,\n",
       "         'a.m.': 40,\n",
       "         'fountainhead': 1,\n",
       "         'best-gaited': 1,\n",
       "         'intelligible': 11,\n",
       "         'enters': 13,\n",
       "         'hinckley': 1,\n",
       "         'stoic': 3,\n",
       "         'mich.': 4,\n",
       "         'alibi': 8,\n",
       "         'trumps': 1,\n",
       "         \"shafer's\": 1,\n",
       "         'morphemic': 1,\n",
       "         'tiniest': 3,\n",
       "         'pinhead': 1,\n",
       "         'crystallization': 3,\n",
       "         'saturday': 67,\n",
       "         'trousers-pockets': 1,\n",
       "         'assiniboia': 2,\n",
       "         'recurrently': 1,\n",
       "         'imperious': 1,\n",
       "         'cloakrooms': 1,\n",
       "         'snobbery': 4,\n",
       "         'weight-height': 1,\n",
       "         '8,100': 1,\n",
       "         'bubenik': 1,\n",
       "         'indexes': 2,\n",
       "         'drag': 15,\n",
       "         'bernz-o-matic': 1,\n",
       "         'shipyards': 1,\n",
       "         'reflection': 32,\n",
       "         '37,470': 1,\n",
       "         'myers': 3,\n",
       "         \"quake's\": 1,\n",
       "         'analogues': 1,\n",
       "         'steele': 21,\n",
       "         'urine': 1,\n",
       "         '5031': 1,\n",
       "         'chew': 2,\n",
       "         'federalism': 2,\n",
       "         'tying': 5,\n",
       "         'highfield': 1,\n",
       "         'cowbirds': 3,\n",
       "         'kika': 1,\n",
       "         'inter': 2,\n",
       "         'overtones': 4,\n",
       "         'halfback': 10,\n",
       "         '1,450,000': 1,\n",
       "         'combat-inflicted': 1,\n",
       "         'affirmations': 1,\n",
       "         'paycheck': 2,\n",
       "         'moldavian': 1,\n",
       "         'mimieux': 1,\n",
       "         'great': 665,\n",
       "         'pacem': 1,\n",
       "         'winging': 1,\n",
       "         'telomeric': 1,\n",
       "         'headwalls': 2,\n",
       "         'gallup': 1,\n",
       "         'star-spangled': 1,\n",
       "         'rotten': 2,\n",
       "         'unleveled': 1,\n",
       "         'snags': 1,\n",
       "         'bop': 3,\n",
       "         'grossman': 1,\n",
       "         'one-eighth': 2,\n",
       "         'glittered': 1,\n",
       "         'mullen': 2,\n",
       "         'hawkins': 2,\n",
       "         \"rogues'\": 1,\n",
       "         'interact': 2,\n",
       "         '75-minute': 1,\n",
       "         'slaves': 44,\n",
       "         'appearing': 16,\n",
       "         'aggressively': 2,\n",
       "         'gaucherie': 1,\n",
       "         'brett': 4,\n",
       "         'avocado': 10,\n",
       "         'assaults': 4,\n",
       "         'expressway': 10,\n",
       "         'work': 762,\n",
       "         'squandered': 2,\n",
       "         'psychotherapists': 1,\n",
       "         'recordings': 11,\n",
       "         'strung': 4,\n",
       "         \"where're\": 1,\n",
       "         'reckoned': 3,\n",
       "         'evade': 1,\n",
       "         'breakthrough': 6,\n",
       "         'kolpakova': 2,\n",
       "         'bayonet': 6,\n",
       "         'kissed': 15,\n",
       "         'prefaced': 2,\n",
       "         'endorse': 6,\n",
       "         'femme': 1,\n",
       "         'bathtubs': 1,\n",
       "         'autistic': 13,\n",
       "         'sojourners': 1,\n",
       "         'yardage': 2,\n",
       "         'isis': 1,\n",
       "         'abstractive': 1,\n",
       "         'imperfection': 1,\n",
       "         'maht': 1,\n",
       "         'freeholder': 1,\n",
       "         'evolutionists': 1,\n",
       "         'bachelor-type': 1,\n",
       "         'quemoy': 2,\n",
       "         'dams': 3,\n",
       "         'mentioned': 79,\n",
       "         'divided': 55,\n",
       "         '72': 10,\n",
       "         'hockey': 1,\n",
       "         'gainful': 1,\n",
       "         'interspecies': 1,\n",
       "         'sundown': 6,\n",
       "         'bright': 87,\n",
       "         'seagoville': 1,\n",
       "         'cologne': 9,\n",
       "         'trained': 54,\n",
       "         'tremendously': 10,\n",
       "         'pectorals': 1,\n",
       "         'clicked': 8,\n",
       "         'tightly': 15,\n",
       "         'unbalanced': 3,\n",
       "         'upshots': 1,\n",
       "         'preconscious': 1,\n",
       "         'reflectance': 1,\n",
       "         'neal': 4,\n",
       "         'rabaul': 1,\n",
       "         'seventy-four': 1,\n",
       "         \"stanley's\": 4,\n",
       "         'spahn': 5,\n",
       "         'fermentation': 3,\n",
       "         'tizard': 1,\n",
       "         'basic': 171,\n",
       "         'accelerometer': 17,\n",
       "         'warms': 1,\n",
       "         'cadillac': 9,\n",
       "         'densities': 2,\n",
       "         'stooooomp': 1,\n",
       "         'lifeboat': 4,\n",
       "         'indisposed': 3,\n",
       "         '271': 2,\n",
       "         'photocathodes': 2,\n",
       "         'decrees': 5,\n",
       "         'debilitating': 2,\n",
       "         'northward': 5,\n",
       "         'say': 504,\n",
       "         'litigants': 3,\n",
       "         'calisthenics': 4,\n",
       "         'ego': 13,\n",
       "         'ex-president': 2,\n",
       "         \"pianist's\": 4,\n",
       "         'unmatched': 2,\n",
       "         'turandot': 1,\n",
       "         'seven-thirty': 1,\n",
       "         'bettering': 1,\n",
       "         'rayburn-johnson': 1,\n",
       "         '47.1%': 1,\n",
       "         'overpayment': 4,\n",
       "         'gardeners': 1,\n",
       "         'soft-spoken': 1,\n",
       "         'threshold': 15,\n",
       "         'claiming': 16,\n",
       "         'drunkard': 3,\n",
       "         'modifying': 4,\n",
       "         'chances': 24,\n",
       "         'geary': 1,\n",
       "         'upi': 5,\n",
       "         'trauma': 1,\n",
       "         'unite': 10,\n",
       "         'fugual': 1,\n",
       "         'squares': 13,\n",
       "         '$3.5': 2,\n",
       "         'non-supervisory': 3,\n",
       "         'benefit': 63,\n",
       "         'pyrex': 5,\n",
       "         'compartment': 11,\n",
       "         'cross-sectional': 4,\n",
       "         'co-signers': 1,\n",
       "         'majestic': 10,\n",
       "         'thinner': 6,\n",
       "         'unreconstructed': 5,\n",
       "         'banal': 2,\n",
       "         '695': 1,\n",
       "         'megawatt': 2,\n",
       "         'barre-montpelier': 1,\n",
       "         'sochi': 2,\n",
       "         'off-beat': 2,\n",
       "         'dismissal': 7,\n",
       "         'vowels': 3,\n",
       "         'worth-waiting-for': 1,\n",
       "         'irene': 2,\n",
       "         'tardiness': 1,\n",
       "         'feasible': 15,\n",
       "         'moans': 1,\n",
       "         'eye-gouging': 1,\n",
       "         'navels': 1,\n",
       "         'thills': 1,\n",
       "         'skirt': 21,\n",
       "         'entries': 19,\n",
       "         'strafaci': 1,\n",
       "         'chives': 1,\n",
       "         'non-success': 1,\n",
       "         'fairly': 58,\n",
       "         'arrowheads': 1,\n",
       "         'professedly': 3,\n",
       "         'obe': 1,\n",
       "         'corning': 1,\n",
       "         'extricate': 2,\n",
       "         'patina': 1,\n",
       "         'lower': 123,\n",
       "         'shaking': 21,\n",
       "         'spoken': 37,\n",
       "         'onslaughts': 2,\n",
       "         'undaunted': 1,\n",
       "         'patchen': 26,\n",
       "         'metronome': 3,\n",
       "         'minaces': 1,\n",
       "         'caper': 6,\n",
       "         \"catcher's\": 1,\n",
       "         'zabel': 1,\n",
       "         'inviolability': 1,\n",
       "         'outlandish': 1,\n",
       "         'sessions': 26,\n",
       "         'bon': 2,\n",
       "         'temperance': 1,\n",
       "         'catastrophically': 2,\n",
       "         'unexpected': 23,\n",
       "         'boasts': 2,\n",
       "         'florican-my': 1,\n",
       "         'finn': 1,\n",
       "         'wedded': 4,\n",
       "         'libyan': 2,\n",
       "         'yourself': 67,\n",
       "         'drunkenness': 4,\n",
       "         'hester': 3,\n",
       "         'paddle': 1,\n",
       "         'pauson': 2,\n",
       "         \"henley's\": 2,\n",
       "         'inheritors': 1,\n",
       "         'khrush': 1,\n",
       "         '$300,000,000': 1,\n",
       "         'dreadfully': 1,\n",
       "         '1565': 2,\n",
       "         'speakership': 1,\n",
       "         'diversionary': 1,\n",
       "         'preening': 1,\n",
       "         'bystander': 1,\n",
       "         'resumed': 23,\n",
       "         'suitably': 3,\n",
       "         'prewar': 1,\n",
       "         'statue': 17,\n",
       "         'convinced': 50,\n",
       "         'stab': 3,\n",
       "         'stickman': 1,\n",
       "         'hodge-podge': 1,\n",
       "         'morbid': 1,\n",
       "         'sanguineum': 1,\n",
       "         'child-bearing': 1,\n",
       "         'beef': 31,\n",
       "         'tall-growing': 1,\n",
       "         'inland': 4,\n",
       "         'loop': 21,\n",
       "         'overwhelm': 1,\n",
       "         'participating': 15,\n",
       "         'flounders': 1,\n",
       "         'obscenities': 2,\n",
       "         'notebook': 2,\n",
       "         \"y'r\": 1,\n",
       "         'submissive': 4,\n",
       "         'parliamentarians': 1,\n",
       "         'itself': 304,\n",
       "         '24-inch': 1,\n",
       "         'jails': 3,\n",
       "         'religions': 18,\n",
       "         'coloration': 2,\n",
       "         'oregonians': 1,\n",
       "         'uncritically': 1,\n",
       "         'computations': 1,\n",
       "         'clauses': 4,\n",
       "         'mos.': 1,\n",
       "         'optimal': 28,\n",
       "         'lugged': 5,\n",
       "         'shamefacedly': 1,\n",
       "         'nakamura': 3,\n",
       "         'china': 69,\n",
       "         'layoffs': 1,\n",
       "         'core': 43,\n",
       "         \"soloists'\": 1,\n",
       "         'lovers': 10,\n",
       "         'mayor-elect': 1,\n",
       "         'sided': 1,\n",
       "         'errand': 7,\n",
       "         \"bellamy's\": 1,\n",
       "         'eidetic': 1,\n",
       "         'fluid-filled': 1,\n",
       "         'occasionally': 48,\n",
       "         'loud-voiced': 1,\n",
       "         'sour': 3,\n",
       "         'sing-song': 1,\n",
       "         'ferns': 1,\n",
       "         'verb': 4,\n",
       "         '11-5': 1,\n",
       "         'circuit': 23,\n",
       "         'travelled': 4,\n",
       "         'frog': 1,\n",
       "         'buckhannon': 1,\n",
       "         'breathed': 9,\n",
       "         'installations': 16,\n",
       "         'simply': 171,\n",
       "         'irate': 1,\n",
       "         \"santa's\": 1,\n",
       "         '360,000': 1,\n",
       "         'undesirable': 10,\n",
       "         'pasting': 1,\n",
       "         'corona': 1,\n",
       "         'evocations': 2,\n",
       "         'foreheads': 2,\n",
       "         'may': 1402,\n",
       "         'naturally': 70,\n",
       "         'authorit"
      ]
     },
     "execution_count": 8,
     "metadata": {},
     "output_type": "execute_result"
    },
    {
     "data": {
      "text/html": [
       "<b>limit_output extension: Maximum message size of 10000 exceeded with 24120 characters</b>"
      ]
     },
     "metadata": {},
     "output_type": "display_data"
    }
   ],
   "source": [
    "word_counts"
   ]
  },
  {
   "cell_type": "code",
   "execution_count": 9,
   "metadata": {},
   "outputs": [],
   "source": [
    "from collections import defaultdict\n",
    "word_to_id = defaultdict(lambda:1,{word:i for i,word in enumerate(all_words)})\n",
    "tag_to_id = {tag:i for i,tag in enumerate(all_tags)}"
   ]
  },
  {
   "cell_type": "code",
   "execution_count": 10,
   "metadata": {},
   "outputs": [
    {
     "data": {
      "text/plain": [
       "defaultdict(<function __main__.<lambda>>,\n",
       "            {'appeals': 5188,\n",
       "             'couple': 867,\n",
       "             'gavin': 5925,\n",
       "             'nuts': 4758,\n",
       "             'shelf': 7242,\n",
       "             'jig': 9611,\n",
       "             'bundle': 4808,\n",
       "             'played': 1033,\n",
       "             'history': 334,\n",
       "             'screwed': 6307,\n",
       "             'hollow': 7241,\n",
       "             'garibaldi': 6930,\n",
       "             'warfare': 2584,\n",
       "             'appearing': 5848,\n",
       "             'lublin': 6087,\n",
       "             'barrels': 9613,\n",
       "             'dinners': 8507,\n",
       "             'down': 113,\n",
       "             'sake': 2687,\n",
       "             'violent': 3303,\n",
       "             'awake': 4916,\n",
       "             'streetcar': 6829,\n",
       "             'durable': 7023,\n",
       "             'bark': 6308,\n",
       "             'news': 1058,\n",
       "             \"didn't\": 227,\n",
       "             'dialect': 8368,\n",
       "             'gen.': 4297,\n",
       "             'series': 797,\n",
       "             'top': 476,\n",
       "             'solving': 9583,\n",
       "             'american': 173,\n",
       "             'filled': 1092,\n",
       "             'excitement': 3395,\n",
       "             'experts': 2905,\n",
       "             'catcher': 5576,\n",
       "             'planning': 811,\n",
       "             'resting': 5013,\n",
       "             'beef': 3477,\n",
       "             'layer': 7350,\n",
       "             'widely': 2156,\n",
       "             'children': 278,\n",
       "             'unimportant': 8509,\n",
       "             'processed': 7349,\n",
       "             'minneapolis': 8670,\n",
       "             'anglican': 7450,\n",
       "             'no': 60,\n",
       "             'electronics': 3428,\n",
       "             'licked': 8369,\n",
       "             'notify': 9816,\n",
       "             'probably': 372,\n",
       "             'park': 1157,\n",
       "             'curriculum': 5849,\n",
       "             'peripheral': 9614,\n",
       "             'comfortably': 7351,\n",
       "             'shear': 2803,\n",
       "             'her': 43,\n",
       "             'organs': 6461,\n",
       "             'a.m.': 2745,\n",
       "             'intelligible': 7452,\n",
       "             'generously': 9615,\n",
       "             'q': 2411,\n",
       "             'pitched': 9919,\n",
       "             'carriage': 7697,\n",
       "             'monday': 1612,\n",
       "             'alibi': 9201,\n",
       "             'equality': 7352,\n",
       "             'seized': 4230,\n",
       "             'armed': 1862,\n",
       "             'joint': 2865,\n",
       "             'saturday': 1635,\n",
       "             'present': 251,\n",
       "             'pressures': 2928,\n",
       "             'diet': 4627,\n",
       "             'damn': 3389,\n",
       "             'buck': 4859,\n",
       "             'calling': 2500,\n",
       "             'relied': 9817,\n",
       "             'mutual': 3984,\n",
       "             'sipping': 9818,\n",
       "             'guessing': 9612,\n",
       "             'nixon': 4152,\n",
       "             'drag': 6005,\n",
       "             'reflection': 3354,\n",
       "             'bursting': 6964,\n",
       "             'pain': 1230,\n",
       "             'pushed': 2144,\n",
       "             'steele': 4612,\n",
       "             'ernest': 8089,\n",
       "             'drunk': 3008,\n",
       "             'abel': 4962,\n",
       "             'encountered': 3575,\n",
       "             'listener': 8090,\n",
       "             'sanctuary': 9026,\n",
       "             'tank': 7142,\n",
       "             'league': 1584,\n",
       "             'creative': 2280,\n",
       "             'alley': 9819,\n",
       "             'halfback': 7939,\n",
       "             'great': 151,\n",
       "             'energies': 7583,\n",
       "             'security': 1191,\n",
       "             'artificial': 5543,\n",
       "             'plates': 4377,\n",
       "             'farmhouse': 9866,\n",
       "             'glimpse': 5764,\n",
       "             'assemble': 8747,\n",
       "             'slaves': 2509,\n",
       "             'drug': 4268,\n",
       "             'empty': 1722,\n",
       "             'misunderstanding': 7806,\n",
       "             'yelled': 4488,\n",
       "             'reflecting': 5496,\n",
       "             \"you'd\": 3046,\n",
       "             'comment': 2662,\n",
       "             'expressway': 7942,\n",
       "             'work': 133,\n",
       "             'recordings': 7453,\n",
       "             'between': 137,\n",
       "             'preparing': 4574,\n",
       "             'gonzales': 8671,\n",
       "             'disagreement': 7584,\n",
       "             'specified': 3763,\n",
       "             'lot': 824,\n",
       "             'comparing': 8843,\n",
       "             'portion': 1800,\n",
       "             'contrasting': 7658,\n",
       "             'truly': 1974,\n",
       "             'pathology': 3302,\n",
       "             'tries': 6785,\n",
       "             'express': 2677,\n",
       "             'background': 1645,\n",
       "             'certain': 306,\n",
       "             'greeted': 4917,\n",
       "             'thunder': 6378,\n",
       "             'cumulative': 6931,\n",
       "             'divided': 2029,\n",
       "             'stumbling': 9634,\n",
       "             'pirates': 7143,\n",
       "             '72': 7943,\n",
       "             'framing': 8370,\n",
       "             'no.': 1750,\n",
       "             'underneath': 7704,\n",
       "             'brothers': 2717,\n",
       "             'tolerant': 8861,\n",
       "             'destined': 8844,\n",
       "             'alter': 6022,\n",
       "             'bright': 1236,\n",
       "             'southern': 758,\n",
       "             'exports': 7585,\n",
       "             'trained': 2074,\n",
       "             'ideas': 716,\n",
       "             'inevitable': 3284,\n",
       "             'jr.': 1447,\n",
       "             'thereto': 7661,\n",
       "             'sponsors': 8092,\n",
       "             'tightly': 6008,\n",
       "             'relatively': 1275,\n",
       "             'budget': 1892,\n",
       "             'desert': 4661,\n",
       "             'disposal': 4918,\n",
       "             'hawk': 6379,\n",
       "             'picasso': 6469,\n",
       "             'basic': 590,\n",
       "             'accelerometer': 5434,\n",
       "             'edition': 2973,\n",
       "             'cadillac': 8511,\n",
       "             'championship': 9637,\n",
       "             'prone': 6553,\n",
       "             'constructive': 6088,\n",
       "             'eventually': 2172,\n",
       "             't.': 3854,\n",
       "             'discovered': 1489,\n",
       "             'developing': 2157,\n",
       "             'curse': 7698,\n",
       "             'assure': 3009,\n",
       "             'say': 183,\n",
       "             'haste': 9028,\n",
       "             'alarm': 5858,\n",
       "             'argued': 3671,\n",
       "             'ego': 6630,\n",
       "             'planetary': 4662,\n",
       "             'profound': 3902,\n",
       "             'prospect': 4084,\n",
       "             'ordinary': 1521,\n",
       "             'patrons': 8668,\n",
       "             'threshold': 6009,\n",
       "             'science': 794,\n",
       "             'claiming': 5686,\n",
       "             'hidden': 4919,\n",
       "             'chances': 4181,\n",
       "             'unite': 7945,\n",
       "             'disclosed': 6380,\n",
       "             'read': 570,\n",
       "             'comic': 8674,\n",
       "             'royal': 2309,\n",
       "             'precisely': 2310,\n",
       "             'benefit': 1742,\n",
       "             'compartment': 7454,\n",
       "             'due': 727,\n",
       "             'inevitably': 2933,\n",
       "             'tense': 6158,\n",
       "             'capitalism': 6617,\n",
       "             'simplified': 8530,\n",
       "             'twins': 7153,\n",
       "             'withdrew': 8845,\n",
       "             'folks': 5259,\n",
       "             'soviet': 805,\n",
       "             'revival': 9962,\n",
       "             'feasible': 6010,\n",
       "             'spring': 834,\n",
       "             'ash': 7586,\n",
       "             'translated': 5934,\n",
       "             'meant': 1075,\n",
       "             '2:35': 9029,\n",
       "             'batting': 6170,\n",
       "             'males': 5063,\n",
       "             'needless': 7466,\n",
       "             'juniors': 3480,\n",
       "             'barton': 4120,\n",
       "             'radius': 9027,\n",
       "             'earthquakes': 8846,\n",
       "             'extra': 2248,\n",
       "             'lower': 855,\n",
       "             'shaking': 4613,\n",
       "             'remember': 750,\n",
       "             'cook': 2368,\n",
       "             'fabrics': 3650,\n",
       "             'adding': 4532,\n",
       "             'extruded': 9144,\n",
       "             'claims': 1469,\n",
       "             'patchen': 3930,\n",
       "             'garson': 8803,\n",
       "             'deduction': 7353,\n",
       "             'minimal': 3855,\n",
       "             'sessions': 3931,\n",
       "             'decision': 889,\n",
       "             'unexpected': 4298,\n",
       "             'differently': 5926,\n",
       "             'unknown': 2359,\n",
       "             'derive': 6831,\n",
       "             'loading': 7587,\n",
       "             'yourself': 1636,\n",
       "             'lalaurie': 5575,\n",
       "             'adequately': 5765,\n",
       "             'embrace': 6842,\n",
       "             'golf': 3203,\n",
       "             'plow': 7243,\n",
       "             'acre': 7987,\n",
       "             'collector': 9261,\n",
       "             'policy': 432,\n",
       "             'perhaps': 317,\n",
       "             'repel': 9395,\n",
       "             'hardy': 2626,\n",
       "             'dusk': 9030,\n",
       "             'boom': 9617,\n",
       "             'access': 4205,\n",
       "             'convinced': 2222,\n",
       "             'minor': 1923,\n",
       "             'decreased': 9229,\n",
       "             'stretching': 5637,\n",
       "             'cerebral': 9618,\n",
       "             'defendants': 8093,\n",
       "             'clarity': 3719,\n",
       "             'presumably': 2766,\n",
       "             'participating': 6011,\n",
       "             'bluff': 9396,\n",
       "             'cosmic': 5316,\n",
       "             'ma': 5156,\n",
       "             'plug': 4349,\n",
       "             'via': 2322,\n",
       "             'parameters': 9824,\n",
       "             'itself': 318,\n",
       "             'disturbing': 5835,\n",
       "             'essex': 7258,\n",
       "             'living': 512,\n",
       "             'religions': 5210,\n",
       "             'across': 342,\n",
       "             'churchyard': 9825,\n",
       "             'sands': 8184,\n",
       "             'optimal': 3716,\n",
       "             'believed': 1408,\n",
       "             'stravinsky': 9786,\n",
       "             'china': 1590,\n",
       "             'core': 2568,\n",
       "             'might': 150,\n",
       "             'eighty': 7713,\n",
       "             'couples': 6992,\n",
       "             'clocks': 9826,\n",
       "             'lone': 9651,\n",
       "             'applause': 6381,\n",
       "             'parents': 1183,\n",
       "             'softly': 3501,\n",
       "             \"one's\": 1704,\n",
       "             'occasionally': 2297,\n",
       "             'keeps': 4760,\n",
       "             'election': 1415,\n",
       "             'challenging': 7187,\n",
       "             'luxury': 4761,\n",
       "             'spare': 4419,\n",
       "             'circuit': 4299,\n",
       "             'regional': 2645,\n",
       "             'athlete': 8675,\n",
       "             'breathed': 8512,\n",
       "             'installations': 5688,\n",
       "             'simply': 591,\n",
       "             'bombs': 3141,\n",
       "             'specially': 9031,\n",
       "             'ludie': 6932,\n",
       "             'cleveland': 5577,\n",
       "             'rivers': 5498,\n",
       "             'undesirable': 8411,\n",
       "             \"it's\": 320,\n",
       "             'may': 82,\n",
       "             'naturally': 1550,\n",
       "             'achieve': 2197,\n",
       "             'runs': 2052,\n",
       "             'proclamation': 6309,\n",
       "             'channels': 4379,\n",
       "             'run': 454,\n",
       "             'grimly': 7714,\n",
       "             'jenny': 9418,\n",
       "             'gossip': 6728,\n",
       "             'iliad': 6554,\n",
       "             'stunned': 9619,\n",
       "             'steps': 892,\n",
       "             \"hasn't\": 4920,\n",
       "             'stocks': 5380,\n",
       "             'cohesive': 7916,\n",
       "             'paused': 3794,\n",
       "             'receive': 1431,\n",
       "             'distinguish': 5157,\n",
       "             'told': 222,\n",
       "             'social-class': 9827,\n",
       "             'roare"
      ]
     },
     "execution_count": 10,
     "metadata": {},
     "output_type": "execute_result"
    },
    {
     "data": {
      "text/html": [
       "<b>limit_output extension: Maximum message size of 10000 exceeded with 29879 characters</b>"
      ]
     },
     "metadata": {},
     "output_type": "display_data"
    }
   ],
   "source": [
    "word_to_id"
   ]
  },
  {
   "cell_type": "code",
   "execution_count": 11,
   "metadata": {},
   "outputs": [
    {
     "data": {
      "text/plain": [
       "{'#EOS#': 0,\n",
       " '#UNK#': 1,\n",
       " '.': 7,\n",
       " 'ADJ': 13,\n",
       " 'ADP': 4,\n",
       " 'ADV': 2,\n",
       " 'CONJ': 12,\n",
       " 'DET': 6,\n",
       " 'NOUN': 3,\n",
       " 'NUM': 11,\n",
       " 'PRON': 5,\n",
       " 'PRT': 8,\n",
       " 'VERB': 9,\n",
       " 'X': 10}"
      ]
     },
     "execution_count": 11,
     "metadata": {},
     "output_type": "execute_result"
    }
   ],
   "source": [
    "tag_to_id"
   ]
  },
  {
   "cell_type": "markdown",
   "metadata": {},
   "source": [
    "convert words and tags into fixed-size matrix"
   ]
  },
  {
   "cell_type": "code",
   "execution_count": 12,
   "metadata": {},
   "outputs": [],
   "source": [
    "def to_matrix(lines,token_to_id,max_len=None,pad=0,dtype='int32',time_major=False):\n",
    "    \"\"\"Converts a list of names into rnn-digestable matrix with paddings added after the end\"\"\"\n",
    "    \n",
    "    max_len = max_len or max(map(len,lines))\n",
    "    matrix = np.empty([len(lines),max_len],dtype)\n",
    "    matrix.fill(pad)\n",
    "\n",
    "    for i in range(len(lines)):\n",
    "        line_ix = list(map(token_to_id.__getitem__,lines[i]))[:max_len]\n",
    "        matrix[i,:len(line_ix)] = line_ix\n",
    "\n",
    "    return matrix.T if time_major else matrix"
   ]
  },
  {
   "cell_type": "code",
   "execution_count": 13,
   "metadata": {},
   "outputs": [
    {
     "name": "stdout",
     "output_type": "stream",
     "text": [
      "(('the', 'doors', 'of', 'the', 'd', 'train', 'slid', 'shut', ',', 'and', 'as', 'i', 'dropped', 'into', 'a', 'seat', 'and', ',', 'exhaling', ',', 'looked', 'up', 'across', 'the', 'aisle', ',', 'the', 'whole', 'aviary', 'in', 'my', 'head', 'burst', 'into', 'song', '.'), ('she', 'was', 'a', 'living', 'doll', 'and', 'no', 'mistake', '--', 'the', 'blue-black', 'bang', ',', 'the', 'wide', 'cheekbones', ',', 'olive-flushed', ',', 'that', 'betrayed', 'the', 'cherokee', 'strain', 'in', 'her', 'midwestern', 'lineage', ',', 'and', 'the', 'mouth', 'whose', 'only', 'fault', ',', 'in', 'the', \"novelist's\", 'carping', 'phrase', ',', 'was', 'that', 'the', 'lower', 'lip', 'was', 'a', 'trifle', 'too', 'voluptuous', '.'), ('from', 'what', 'i', 'was', 'able', 'to', 'gauge', 'in', 'a', 'swift', ',', 'greedy', 'glance', ',', 'the', 'figure', 'inside', 'the', 'coral-colored', 'boucle', 'dress', 'was', 'stupefying', '.')) (('DET', 'NOUN', 'ADP', 'DET', 'NOUN', 'NOUN', 'VERB', 'VERB', '.', 'CONJ', 'ADP', 'PRON', 'VERB', 'ADP', 'DET', 'NOUN', 'CONJ', '.', 'VERB', '.', 'VERB', 'PRT', 'ADP', 'DET', 'NOUN', '.', 'DET', 'ADJ', 'NOUN', 'ADP', 'DET', 'NOUN', 'VERB', 'ADP', 'NOUN', '.'), ('PRON', 'VERB', 'DET', 'VERB', 'NOUN', 'CONJ', 'DET', 'NOUN', '.', 'DET', 'ADJ', 'NOUN', '.', 'DET', 'ADJ', 'NOUN', '.', 'ADJ', '.', 'PRON', 'VERB', 'DET', 'NOUN', 'NOUN', 'ADP', 'DET', 'ADJ', 'NOUN', '.', 'CONJ', 'DET', 'NOUN', 'DET', 'ADJ', 'NOUN', '.', 'ADP', 'DET', 'NOUN', 'VERB', 'NOUN', '.', 'VERB', 'ADP', 'DET', 'ADJ', 'NOUN', 'VERB', 'DET', 'NOUN', 'ADV', 'ADJ', '.'), ('ADP', 'DET', 'PRON', 'VERB', 'ADJ', 'ADP', 'NOUN', 'ADP', 'DET', 'ADJ', '.', 'ADJ', 'NOUN', '.', 'DET', 'NOUN', 'ADP', 'DET', 'ADJ', 'NOUN', 'NOUN', 'VERB', 'VERB', '.'))\n",
      "Word ids:\n",
      "[[   2 3084    5    2 2237 1330 4237 2431    3    6   19   26 1067   69\n",
      "     8 2083    6    3    1    3  266   65  342    2    1    3    2  315\n",
      "     1    9   87  216 3291   69 1568    4    0    0    0    0    0    0\n",
      "     0    0    0    0    0    0    0    0    0    0    0]\n",
      " [  45   12    8  512 8109    6   60 3230   39    2    1    1    3    2\n",
      "   849    1    3    1    3   10 9813    2    1 3458    9   43    1    1\n",
      "     3    6    2 1050  385   73 4569    3    9    2    1    1 3213    3\n",
      "    12   10    2  855 5425   12    8 8888  121    1    4]\n",
      " [  33   64   26   12  443    7 7062    9    8 3327    3    1 2761    3\n",
      "     2  463  571    2    1    1 1644   12    1    4    0    0    0    0\n",
      "     0    0    0    0    0    0    0    0    0    0    0    0    0    0\n",
      "     0    0    0    0    0    0    0    0    0    0    0]]\n",
      "Tag ids:\n",
      "[[ 6  3  4  6  3  3  9  9  7 12  4  5  9  4  6  3 12  7  9  7  9  8  4  6\n",
      "   3  7  6 13  3  4  6  3  9  4  3  7  0  0  0  0  0  0  0  0  0  0  0  0\n",
      "   0  0  0  0  0]\n",
      " [ 5  9  6  9  3 12  6  3  7  6 13  3  7  6 13  3  7 13  7  5  9  6  3  3\n",
      "   4  6 13  3  7 12  6  3  6 13  3  7  4  6  3  9  3  7  9  4  6 13  3  9\n",
      "   6  3  2 13  7]\n",
      " [ 4  6  5  9 13  4  3  4  6 13  7 13  3  7  6  3  4  6 13  3  3  9  9  7\n",
      "   0  0  0  0  0  0  0  0  0  0  0  0  0  0  0  0  0  0  0  0  0  0  0  0\n",
      "   0  0  0  0  0]]\n"
     ]
    }
   ],
   "source": [
    "batch_words,batch_tags = zip(*[zip(*sentence) for sentence in data[-3:]])\n",
    "print(batch_words, batch_tags)\n",
    "print(\"Word ids:\")\n",
    "print(to_matrix(batch_words,word_to_id))\n",
    "print(\"Tag ids:\")\n",
    "print(to_matrix(batch_tags,tag_to_id))"
   ]
  },
  {
   "cell_type": "markdown",
   "metadata": {
    "collapsed": true
   },
   "source": [
    "### Build model\n",
    "\n",
    "Unlike our previous lab, this time we'll focus on a high-level keras interface to recurrent neural networks. It is as simple as you can get with RNN, allbeit somewhat constraining for complex tasks like seq2seq.\n",
    "\n",
    "By default, all keras RNNs apply to a whole sequence of inputs and produce a sequence of hidden states `(return_sequences=True` or just the last hidden state `(return_sequences=False)`. All the recurrence is happening under the hood.\n",
    "\n",
    "At the top of our model we need to apply a Dense layer to each time-step independently. As of now, by default keras.layers.Dense would apply once to all time-steps concatenated. We use __keras.layers.TimeDistributed__ to modify Dense layer so that it would apply across both batch and time axes."
   ]
  },
  {
   "cell_type": "code",
   "execution_count": 14,
   "metadata": {},
   "outputs": [
    {
     "name": "stderr",
     "output_type": "stream",
     "text": [
      "/home/karen/.local/lib/python3.5/site-packages/h5py/__init__.py:36: FutureWarning: Conversion of the second argument of issubdtype from `float` to `np.floating` is deprecated. In future, it will be treated as `np.float64 == np.dtype(float).type`.\n",
      "  from ._conv import register_converters as _register_converters\n",
      "Using TensorFlow backend.\n"
     ]
    },
    {
     "name": "stdout",
     "output_type": "stream",
     "text": [
      "WARNING:tensorflow:From /home/karen/.local/lib/python3.5/site-packages/keras/backend/tensorflow_backend.py:1247: calling reduce_sum (from tensorflow.python.ops.math_ops) with keep_dims is deprecated and will be removed in a future version.\n",
      "Instructions for updating:\n",
      "keep_dims is deprecated, use keepdims instead\n"
     ]
    }
   ],
   "source": [
    "import keras\n",
    "import keras.layers as L\n",
    "\n",
    "model = keras.models.Sequential()\n",
    "model.add(L.InputLayer([None],dtype='int32'))\n",
    "model.add(L.Embedding(len(all_words),50))\n",
    "model.add(L.SimpleRNN(64,return_sequences=True))\n",
    "\n",
    "#add top layer that predicts tag probabilities\n",
    "stepwise_dense = L.Dense(len(all_tags),activation='softmax')\n",
    "stepwise_dense = L.TimeDistributed(stepwise_dense)\n",
    "model.add(stepwise_dense)"
   ]
  },
  {
   "cell_type": "markdown",
   "metadata": {},
   "source": [
    "__Training:__ in this case we don't want to prepare the whole training dataset in advance. __The main cause is that the length of every batch depends on the maximum sentence length within the batch.__ This leaves us two options: use custom training code as in previous seminar or use generators.\n",
    "\n",
    "Keras models have a __`model.fit_generator`__ method that accepts a python generator yielding one batch at a time. But first we need to implement such generator:"
   ]
  },
  {
   "cell_type": "code",
   "execution_count": 15,
   "metadata": {},
   "outputs": [],
   "source": [
    "from keras.utils.np_utils import to_categorical\n",
    "BATCH_SIZE=32\n",
    "def generate_batches(sentences,batch_size=BATCH_SIZE,max_len=None,pad=0):\n",
    "    assert isinstance(sentences,np.ndarray),\"Make sure sentences is q numpy array\"\n",
    "    while True:\n",
    "        indices = np.random.permutation(np.arange(len(sentences)))\n",
    "        for start in range(0,len(indices)-1,batch_size):\n",
    "            batch_indices = indices[start:start+batch_size]\n",
    "            batch_words,batch_tags = [],[]\n",
    "            for sent in sentences[batch_indices]:\n",
    "                words,tags = zip(*sent)\n",
    "                batch_words.append(words)\n",
    "                batch_tags.append(tags)\n",
    "\n",
    "            batch_words = to_matrix(batch_words,word_to_id,max_len,pad)\n",
    "            batch_tags = to_matrix(batch_tags,tag_to_id,max_len,pad)\n",
    "\n",
    "            batch_tags_1hot = to_categorical(batch_tags,len(all_tags)).reshape(batch_tags.shape+(-1,))\n",
    "            yield batch_words,batch_tags_1hot"
   ]
  },
  {
   "cell_type": "markdown",
   "metadata": {},
   "source": [
    "__Callbacks:__ Another thing we need is to measure model performance. The tricky part is not to count accuracy after sentence ends (on padding) and making sure we count all the validation data exactly once.\n",
    "\n",
    "While it isn't impossible to persuade Keras to do all of that, we may as well write our own callback that does that.\n",
    "Keras callbacks allow you to write a custom code to be ran once every epoch or every minibatch. We'll define one via LambdaCallback"
   ]
  },
  {
   "cell_type": "code",
   "execution_count": 16,
   "metadata": {},
   "outputs": [],
   "source": [
    "def compute_test_accuracy(model):\n",
    "    test_words,test_tags = zip(*[zip(*sentence) for sentence in test_data])\n",
    "    print(test_words, test_tags)\n",
    "    test_words,test_tags = to_matrix(test_words,word_to_id),to_matrix(test_tags,tag_to_id)\n",
    "    print(test_words, test_tags)\n",
    "    \n",
    "    #predict tag probabilities of shape [batch,time,n_tags]\n",
    "    predicted_tag_probabilities = model.predict(test_words,verbose=1)\n",
    "    predicted_tags = predicted_tag_probabilities.argmax(axis=-1)\n",
    "\n",
    "    #compute accurary excluding padding\n",
    "    numerator = np.sum(np.logical_and((predicted_tags == test_tags),(test_words != 0)))\n",
    "    denominator = np.sum(test_words != 0)\n",
    "    return float(numerator)/denominator\n",
    "\n",
    "\n",
    "class EvaluateAccuracy(keras.callbacks.Callback):\n",
    "    def on_epoch_end(self,epoch,logs=None):\n",
    "        sys.stdout.flush()\n",
    "        print(\"\\nMeasuring validation accuracy...\")\n",
    "        acc = compute_test_accuracy(self.model)\n",
    "        print(\"\\nValidation accuracy: %.5f\\n\"%acc)\n",
    "        sys.stdout.flush()\n",
    "        "
   ]
  },
  {
   "cell_type": "code",
   "execution_count": 17,
   "metadata": {},
   "outputs": [
    {
     "name": "stdout",
     "output_type": "stream",
     "text": [
      "WARNING:tensorflow:From /home/karen/.local/lib/python3.5/site-packages/keras/backend/tensorflow_backend.py:1349: calling reduce_mean (from tensorflow.python.ops.math_ops) with keep_dims is deprecated and will be removed in a future version.\n",
      "Instructions for updating:\n",
      "keep_dims is deprecated, use keepdims instead\n",
      "Epoch 1/5\n",
      " 228/1343 [====>.........................] - ETA: 22s - loss: 0.90"
     ]
    },
    {
     "data": {
      "text/html": [
       "<b>limit_output extension: Maximum message size of 10000 exceeded with 10131 characters</b>"
      ]
     },
     "metadata": {},
     "output_type": "display_data"
    }
   ],
   "source": [
    "model.compile('adam','categorical_crossentropy')\n",
    "\n",
    "model.fit_generator(generate_batches(train_data),len(train_data)/BATCH_SIZE,\n",
    "                    callbacks=[EvaluateAccuracy()], epochs=5,)"
   ]
  },
  {
   "cell_type": "markdown",
   "metadata": {},
   "source": [
    "Measure final accuracy on the whole test set."
   ]
  },
  {
   "cell_type": "code",
   "execution_count": 18,
   "metadata": {},
   "outputs": [
    {
     "name": "stderr",
     "output_type": "stream",
     "text": [
      "IOPub data rate exceeded.\n",
      "The notebook server will temporarily stop sending output\n",
      "to the client in order to avoid crashing it.\n",
      "To change this limit, set the config variable\n",
      "`--NotebookApp.iopub_data_rate_limit`.\n",
      "\n",
      "Current values:\n",
      "NotebookApp.iopub_data_rate_limit=1000000.0 (bytes/sec)\n",
      "NotebookApp.rate_limit_window=3.0 (secs)\n",
      "\n"
     ]
    },
    {
     "name": "stdout",
     "output_type": "stream",
     "text": [
      "13120/14335 [==========================>...] - ETA: "
     ]
    },
    {
     "data": {
      "text/html": [
       "<b>limit_output extension: Maximum message size of 10000 exceeded with 10032 characters</b>"
      ]
     },
     "metadata": {},
     "output_type": "display_data"
    }
   ],
   "source": [
    "acc = compute_test_accuracy(model)\n",
    "print(\"Final accuracy: %.5f\"%acc)\n",
    "\n",
    "assert acc>0.94, \"Keras has gone on a rampage again, please contact course staff.\""
   ]
  },
  {
   "cell_type": "markdown",
   "metadata": {},
   "source": [
    "### Task I: getting all bidirectional\n",
    "\n",
    "Since we're analyzing a full sequence, it's legal for us to look into future data.\n",
    "\n",
    "A simple way to achieve that is to go both directions at once, making a __bidirectional RNN__.\n",
    "\n",
    "In Keras you can achieve that both manually (using two LSTMs and Concatenate) and by using __`keras.layers.Bidirectional`__. \n",
    "\n",
    "This one works just as `TimeDistributed` we saw before: you wrap it around a recurrent layer (SimpleRNN now and LSTM/GRU later) and it actually creates two layers under the hood.\n",
    "\n",
    "Your first task is to use such a layer our POS-tagger."
   ]
  },
  {
   "cell_type": "code",
   "execution_count": 19,
   "metadata": {},
   "outputs": [],
   "source": [
    "#Define a model that utilizes bidirectional SimpleRNN\n",
    "model = keras.models.Sequential()\n",
    "\n",
    "model.add(L.InputLayer([None],dtype='int32'))\n",
    "model.add(L.Embedding(len(all_words),50))\n",
    "model.add(L.Bidirectional(L.SimpleRNN(64,return_sequences=True)))\n",
    "\n",
    "#add top layer that predicts tag probabilities\n",
    "stepwise_dense = L.Dense(len(all_tags),activation='softmax')\n",
    "stepwise_dense = L.TimeDistributed(stepwise_dense)\n",
    "model.add(stepwise_dense)"
   ]
  },
  {
   "cell_type": "code",
   "execution_count": 20,
   "metadata": {},
   "outputs": [
    {
     "name": "stdout",
     "output_type": "stream",
     "text": [
      "Epoch 1/5\n",
      " 183/1343 [===>..........................] - ETA: 30s - loss: 0.76"
     ]
    },
    {
     "data": {
      "text/html": [
       "<b>limit_output extension: Maximum message size of 10000 exceeded with 10097 characters</b>"
      ]
     },
     "metadata": {},
     "output_type": "display_data"
    }
   ],
   "source": [
    "model.compile('adam','categorical_crossentropy')\n",
    "\n",
    "model.fit_generator(generate_batches(train_data),len(train_data)/BATCH_SIZE,\n",
    "                    callbacks=[EvaluateAccuracy()], epochs=5,)"
   ]
  },
  {
   "cell_type": "code",
   "execution_count": 21,
   "metadata": {},
   "outputs": [
    {
     "name": "stderr",
     "output_type": "stream",
     "text": [
      "IOPub data rate exceeded.\n",
      "The notebook server will temporarily stop sending output\n",
      "to the client in order to avoid crashing it.\n",
      "To change this limit, set the config variable\n",
      "`--NotebookApp.iopub_data_rate_limit`.\n",
      "\n",
      "Current values:\n",
      "NotebookApp.iopub_data_rate_limit=1000000.0 (bytes/sec)\n",
      "NotebookApp.rate_limit_window=3.0 (secs)\n",
      "\n"
     ]
    },
    {
     "name": "stdout",
     "output_type": "stream",
     "text": [
      " 9600/14335 [===================>..........] - ETA: "
     ]
    },
    {
     "data": {
      "text/html": [
       "<b>limit_output extension: Maximum message size of 10000 exceeded with 10091 characters</b>"
      ]
     },
     "metadata": {},
     "output_type": "display_data"
    }
   ],
   "source": [
    "acc = compute_test_accuracy(model)\n",
    "print(\"\\nFinal accuracy: %.5f\"%acc)\n",
    "\n",
    "assert acc>0.96, \"Bidirectional RNNs are better than this!\"\n",
    "print(\"Well done!\")"
   ]
  },
  {
   "cell_type": "markdown",
   "metadata": {},
   "source": [
    "### Task II: now go and improve it\n",
    "\n",
    "You guesses it. We're now gonna ask you to come up with a better network.\n",
    "\n",
    "Here's a few tips:\n",
    "\n",
    "* __Go beyond SimpleRNN__: there's `keras.layers.LSTM` and `keras.layers.GRU`\n",
    "  * If you want to use a custom recurrent Cell, read [this](https://keras.io/layers/recurrent/#rnn)\n",
    "  * You can also use 1D Convolutions (`keras.layers.Conv1D`). They are often as good as recurrent layers but with less overfitting.\n",
    "* __Stack more layers__: if there is a common motif to this course it's about stacking layers\n",
    "  * You can just add recurrent and 1dconv layers on top of one another and keras will understand it\n",
    "  * Just remember that bigger networks may need more epochs to train\n",
    "* __Gradient clipping__: If your training isn't as stable as you'd like, set `clipnorm` in your optimizer.\n",
    "  * Which is to say, it's a good idea to watch over your loss curve at each minibatch. Try tensorboard callback or something similar.\n",
    "* __Regularization__: you can apply dropouts as usuall but also in an RNN-specific way\n",
    "  * `keras.layers.Dropout` works inbetween RNN layers\n",
    "  * Recurrent layers also have `recurrent_dropout` parameter\n",
    "* __More words!__: You can obtain greater performance by expanding your model's input dictionary from 5000 to up to every single word!\n",
    "  * Just make sure your model doesn't overfit due to so many parameters.\n",
    "  * Combined with regularizers or pre-trained word-vectors this could be really good cuz right now our model is blind to >5% of words.\n",
    "* __The most important advice__: don't cram in everything at once!\n",
    "  * If you stuff in a lot of modiffications, some of them almost inevitably gonna be detrimental and you'll never know which of them are.\n",
    "  * Try to instead go in small iterations and record experiment results to guide further search.\n",
    "  \n",
    "There's some advanced stuff waiting at the end of the notebook.\n",
    "  \n",
    "Good hunting!"
   ]
  },
  {
   "cell_type": "code",
   "execution_count": 22,
   "metadata": {},
   "outputs": [],
   "source": [
    "#Define a model that utilizes bidirectional SimpleRNN\n",
    "model = keras.models.Sequential()\n",
    "model.add(L.InputLayer([None],dtype='int32'))\n",
    "model.add(L.Embedding(len(all_words),50))\n",
    "model.add(L.Bidirectional(L.GRU(128,return_sequences=True,activation='relu')))\n",
    "model.add(L.Dropout(0.5))\n",
    "model.add(L.Bidirectional(L.GRU(64,return_sequences=True,activation='relu')))\n",
    "model.add(L.Dropout(0.5))\n",
    "\n",
    "#add top layer that predicts tag probabilities\n",
    "stepwise_dense = L.Dense(len(all_tags),activation='softmax')\n",
    "stepwise_dense = L.TimeDistributed(stepwise_dense)\n",
    "model.add(stepwise_dense)"
   ]
  },
  {
   "cell_type": "code",
   "execution_count": 23,
   "metadata": {},
   "outputs": [
    {
     "name": "stdout",
     "output_type": "stream",
     "text": [
      "Epoch 1/5\n",
      "  72/1343 [>.............................] - ETA: 2:39 - loss: 1.27"
     ]
    },
    {
     "data": {
      "text/html": [
       "<b>limit_output extension: Maximum message size of 10000 exceeded with 10099 characters</b>"
      ]
     },
     "metadata": {},
     "output_type": "display_data"
    }
   ],
   "source": [
    "#feel free to change anything here\n",
    "\n",
    "model.compile('adam','categorical_crossentropy')\n",
    "\n",
    "model.fit_generator(generate_batches(train_data),len(train_data)/BATCH_SIZE,\n",
    "                    callbacks=[EvaluateAccuracy()], epochs=5,)"
   ]
  },
  {
   "cell_type": "code",
   "execution_count": 24,
   "metadata": {},
   "outputs": [
    {
     "name": "stdout",
     "output_type": "stream",
     "text": [
      "(('open', 'market', 'policy'), ('and', 'you', 'think', 'you', 'have', 'language', 'problems', '.'), ('mae', 'entered', 'the', 'room', 'from', 'the', 'hallway', 'to', 'the', 'kitchen', '.'), ('this', 'will', 'permit', 'you', 'to', 'get', 'a', 'rough', 'estimate', 'of', 'how', 'much', 'the', 'materials', 'for', 'the', 'shell', 'will', 'cost', '.'), ('the', 'multifigure', '``', 'traveling', 'carnival', \"''\", ',', 'in', 'which', 'action', 'is', 'vivified', 'by', 'lighting', ';', ';'), ('they', 'are', 'in', 'general', 'those', 'fears', 'that', 'once', 'seemed', 'to', 'have', 'been', 'amenable', 'to', 'prayer', 'or', 'ritual', '.'), ('yet', 'they', 'are', 'written', ';', ';'), ('the', 'plantation', 'was', 'sold', 'in', 'january', ',', '1845', ',', 'and', 'palfrey', 'thought', 'the', 'new', 'owner', 'ought', 'to', 'pay', 'his', 'people', 'two', \"months'\", 'wages', '.'), ('this', 'is', 'the', 'end', 'of', 'the', 'line', \"''\", '.'), ('the', 'rules', 'and', 'policies', 'to', 'be', 'applied', 'in', 'this', 'process', 'of', 'course', 'must', 'be', 'based', 'on', 'objectives', 'which', 'represent', 'what', 'is', 'to', 'be', 'desired', 'if', 'radio', 'service', 'is', 'to', 'be', 'of', 'maximum', 'use', 'to', 'the', 'nation', '.'), ('a', 'mirror', 'is', 'mounted', 'on', 'each', 'accelerometer', 'so', 'that', 'the', 'plane', 'of', 'the', 'mirror', 'is', 'perpendicular', 'to', 'the', 'sensitive', 'axis', 'of', 'the', 'unit', '.'), ('she', 'stayed', 'away', 'for', 'ten', 'days', '.'), ('``', \"i'd\", 'druther', 'stay', 'here', 'and', 'watch', 'the', 'girls', \"''\", ',', 'charles', 'grinned', '.'), ('said', 'trenchard', ',', 'otherwise', 'hawk', '.'), ('wexler', 'has', 'denied', 'repeatedly', 'that', 'coercion', 'was', 'used', 'in', 'questioning', '.'), ('referring', 'further', 'to', 'the', \"foundation's\", 'officers', ',', 'dr.', 'james', 'f.', 'mathias', ',', 'for', 'eleven', 'years', 'our', 'discerning', 'colleague', 'as', 'associate', 'secretary', ',', 'was', 'promoted', 'to', 'be', 'secretary', '.'), ('``', 'jackson', 'recruited', 'his', 'critters', ',', 'and', 'him', 'and', 'me', 'fixed', 'up', 'his', 'wagon', 'while', 'we', 'was', 'waiting', 'for', 'you', 'to', 'catch', 'up', '.'), ('he', 'might', 'have', 'been', 'anywhere', 'or', 'nowhere', '.'), ('in', 'a', 'fraction', 'of', 'a', 'second', 'the', 'pickup', 'truck', 'hurtled', 'by', 'on', 'the', 'other', 'side', '.'), ('and', 'if', 'we', 'do', 'not', 'aspire', 'to', 'too', 'much', ',', 'it', 'is', 'also', 'within', 'our', 'capacity', '.'), ('``', 'there', 'was', 'only', 'one', 'power', 'control', '--', 'a', 'valve', 'to', 'adjust', 'the', 'fuel', 'flow', '.'), ('both', 'cars', 'were', 'slightly', 'damaged', '.'), ('in', 'the', 'field', 'of', 'political', 'values', ',', 'it', 'is', 'certainly', 'true', 'that', 'students', 'are', 'not', 'radical', ',', 'not', 'rebels', 'against', 'their', 'parents', 'or', 'their', 'peers', '.'), ('``', 'i', 'will', 'go', \"''\", '.'), ('an', 'interregnum', 'ensues', 'in', 'which', 'not', 'men', 'but', 'ideas', 'compete', 'for', 'existence', '.'), ('do', 'you', 'protect', 'your', 'holiday', 'privileges', 'with', 'an', 'attendance', 'requirement', 'both', 'before', 'and', 'after', 'the', 'holiday', '?', '?'), ('being', 'an', 'intelligent', 'man', ',', 'john', 'must', 'have', 'guessed', 'what', 'everyone', 'thought', 'about', 'edythe', ',', 'but', 'he', 'never', 'let', 'on', 'by', 'so', 'much', 'as', 'a', 'brave', 'smile', '.'), ('he', 'sat', 'down', 'next', 'to', 'a', 'heavily-upholstered', 'blonde', ',', 'but', 'she', 'was', 'cleaned', 'out', 'in', 'twenty', 'minutes', '.'), ('for', 'them', ',', 'in', 'the', 'grim', 'words', 'of', 'a', 'once-popular', 'song', ',', 'love', 'and', 'marriage', 'go', 'together', 'like', 'a', 'horse', 'and', 'carriage', '.'), ('the', 'voice', 'had', 'music', 'in', 'it', '.'), ('one', 'night', ',', 'mama', 'came', 'home', 'practically', 'in', 'a', 'state', 'of', 'shock', '.'), ('welch', 'was', 'wild', 'with', 'delight', '.'), ('to', 'further', 'increase', 'back', 'flexibility', ',', 'work', 'on', 'the', 'back', 'circle', '.'), ('in', '1913', 'an', 'abortive', 'provision', 'was', 'made', 'for', 'the', 'stay', 'of', 'federal', 'injunction', 'proceedings', 'upon', 'institution', 'of', 'state', 'court', 'test', 'cases', '.'), ('and', 'you', 'also', 'got', 'this', 'little', 'spark', 'in', 'your', 'bird-brain', 'that', 'tells', 'you', 'to', 'turn', 'around', 'before', 'you', 'drown', 'yourself', '.'), ('i', \"didn't\", 'hurry', 'though', 'it', 'was', 'cold', 'and', 'the', 'pedersen', 'kid', 'was', 'in', 'the', 'kitchen', '.'), ('otherwise', ',', 'you', 'may', 'be', 'saddled', 'with', 'a', 'good-size', 'milk', 'bill', 'by', 'milk', 'drinkers', '.'), ('in', 'a', 'letter', 'to', 'the', 'american', 'friends', 'service', ',', 'dr.', 'schweitzer', 'wrote', ':'), ('apparently', 'sensing', 'this', ',', 'and', 'realizing', 'that', 'it', 'gave', 'him', 'an', 'advantage', ',', 'jess', 'became', 'bold', '.'), ('pilot', 'plant', 'operations'), ('in', 'his', 'recognition', 'of', 'his', 'impersonal', 'self', 'the', 'dancer', 'moves', ',', 'and', 'this', 'self', ',', 'in', 'the', '``', 'first', 'revealed', 'stroke', 'of', 'its', 'existence', \"''\", ',', 'states', 'the', 'theme', 'from', 'which', 'all', 'else', 'must', 'follow', '.'), ('``', \"it's\", 'a', 'sublease', '.'), ('is', 'this', 'site', 'available', '?', '?'), ('the', 'paper', 'affords', 'excellent', 'practice', 'for', 'students', 'interested', 'in', 'the', 'field', 'of', 'journalism', '.'), ('i', 'say', 'the', 'late', 'seventeenth', 'century', 'because', 'racine', '(', 'whom', 'lessing', 'did', 'not', 'really', 'know', ')', 'stands', 'on', 'the', 'far', 'side', 'of', 'the', 'chasm', '.'), ('fosterite', 'bishops', ',', 'after', 'secret', 'conclave', ',', 'announced', 'the', \"church's\", 'second', 'major', 'miracle', ':', 'supreme', 'bishop', 'digby', 'had', 'been', 'translated', 'bodily', 'to', 'heaven', 'and', 'spot-promoted', 'to', 'archangel', ',', 'ranking', 'with-but-after', 'archangel', 'foster', '.'), ('he', 'identified', 'the', 'man', 'as', 'lewis', 'martin', 'parker', ',', '59', ',', 'a', 'farmer', 'of', 'hartselle', ',', 'ala.', '.'), ('it', 'reappears', ',', 'in', 'whole', 'or', 'part', ',', 'whenever', 'a', 'new', 'crisis', 'exposes', 'the', 'reality', ':', 'in', 'cuba', 'last', 'spring', '(', 'with', 'which', 'the', 'dominican', 'events', 'of', 'last', 'month', 'should', 'be', 'paired', ')', ';', ';'), ('extend', 'your', 'feet', 'forward', 'and', 'backward', 'until', 'you', 'are', 'in', 'a', 'deep', 'leg', 'split', '.'), ('a', 'certain', 'skepticism', 'about', 'the', 'coming', 'of', 'americans', 'is', 'to', 'be', 'expected', 'in', 'many', 'quarters', '.'), ('the', 'crux', 'of', 'ecumenical', 'advance', 'is', 'an', 'even', 'more', 'personalized', 'matter', 'than', 'the', 'relation', 'between', 'congregations', 'in', 'the', 'same', 'community', '.'), ('issue', 'no.', '5', '.'), ('but', 'this', 'was', 'only', 'the', 'middle', 'of', 'july', '.'), ('``', 'gyp', 'carmer', \"couldn't\", 'have', 'known', 'about', \"colcord's\", 'money', 'unless', 'he', 'was', 'told', '--', 'and', 'who', 'else', 'would', 'have', 'told', 'him', \"''\", '?', '?'), ('perhaps', 'he', 'had', 'better', 'have', 'someone', 'help', 'him', 'put', 'up', 'the', 'pegboard', 'and', 'build', 'the', 'workbench', '--', 'someone', 'who', 'knew', 'what', 'he', 'was', 'about', '.'), ('last', 'year', ',', 'we', 'probably', 'would', 'have', 'given', 'him', '$700', 'for', 'a', 'comparable', 'machine', \"''\", '.'), ('however', ',', 'she', 'really', 'does', 'not', 'know', 'how', 'to', 'match', 'the', 'quantity', 'of', 'dollars', 'given', 'away', 'by', 'a', 'quality', 'of', 'leadership', 'that', 'is', 'basically', 'needed', '.'), ('despite', 'extensive', 'attempts', 'to', 'obtain', 'highly', 'pure', 'reagents', ',', 'serious', 'difficulty', 'was', 'experienced', 'in', 'obtaining', 'reproducible', 'rates', 'of', 'reaction', '.'), ('at', 'fifteen', 'he', \"didn't\", 'care', 'that', 'he', 'had', 'no', 'mother', ',', 'that', 'he', \"couldn't\", 'remember', 'her', 'face', 'or', 'her', 'touch', ';', ';'), ('even', 'after', 'the', 'incident', 'between', 'bang-jensen', 'and', 'shann', 'in', 'the', \"delegates'\", 'lounge', 'and', 'this', 'was', 'not', 'the', 'way', 'the', 'chicago', 'tribune', 'presented', 'it', \"''\", '.'), ('in', 'order', 'to', 'attract', 'new', 'industries', ',', '15', 'states', 'or', 'more', 'are', 'issuing', 'tax', 'free', 'bonds', 'to', 'build', 'government', 'owned', 'plants', 'which', 'are', 'leased', 'to', 'private', 'enterprise', '.'), ('(', 'each', \"state's\", 'unadjusted', 'allotment', 'for', 'any', 'fiscal', 'year', ',', 'which', 'exceeds', 'its', 'minimum', 'allotment', 'described', 'in', 'item', '13', 'below', 'by', 'a', 'percentage', 'greater', 'than', 'one', 'and', 'one-half', 'times', 'the', 'percentage', 'by', 'which', 'the', 'sum', 'being', 'allotted', 'exceeds', '$23,000,000', ',', 'must', 'be', 'reduced', 'by', 'the', 'amount', 'of', 'the', 'excess', '.'), ('but', 'a', 'historian', 'might', 'put', 'his', 'finger', 'on', 'a', 'specific', 'man', 'and', 'date', ',', 'and', 'hold', 'out', 'the', 'hope', 'that', 'the', 'troubles', 'will', 'sometime', 'pass', 'away', '.'), ('very', 'small', 'concentrations', 'of', 'these', 'hydrides', 'should', 'be', 'detectable', ';', ';'), ('do', 'something', \"''\", '!', '!'), ('of', 'course', 'the', 'principal', 'factor', 'in', 'the', 'whole', 'experience', 'was', 'the', 'kind', 'of', 'education', 'he', 'received', '.'), ('this', 'will', 'help', 'him', 'to', 'get', 'out', 'of', 'his', 'little', 'tackle', 'shop', '.'), ('he', 'came', 'to', 'the', 'edge', 'of', 'the', 'veranda', ',', 'peered', 'down', 'at', 'them', 'with', 'his', 'hand', 'on', 'his', 'gun', '.'), (\"mississippi's\", 'relations', 'with', 'the', 'national', 'democratic', 'party', 'will', 'be', 'at', 'a', 'crossroads', 'during', '1961', ',', 'with', 'the', 'first', 'democratic', 'president', 'in', 'eight', 'years', 'in'"
     ]
    },
    {
     "data": {
      "text/html": [
       "<b>limit_output extension: Maximum message size of 10000 exceeded with 2435477 characters</b>"
      ]
     },
     "metadata": {},
     "output_type": "display_data"
    }
   ],
   "source": [
    "acc = compute_test_accuracy(model)\n",
    "print(\"\\nFinal accuracy: %.5f\"%acc)\n",
    "\n",
    "if acc >= 0.99:\n",
    "    print(\"Awesome! Sky was the limit and yet you scored even higher!\")\n",
    "elif acc >= 0.98:\n",
    "    print(\"Excellent! Whatever dark magic you used, it certainly did it's trick.\")\n",
    "elif acc >= 0.97:\n",
    "    print(\"Well done! If this was a graded assignment, you would have gotten a 100% score.\")\n",
    "elif acc > 0.96:\n",
    "    print(\"Just a few more iterations!\")\n",
    "else:\n",
    "    print(\"There seems to be something broken in the model. Unless you know what you're doing, try taking bidirectional RNN and adding one enhancement at a time to see where's the problem.\")"
   ]
  },
  {
   "cell_type": "markdown",
   "metadata": {},
   "source": [
    "```\n",
    "\n",
    "```\n",
    "\n",
    "```\n",
    "\n",
    "```\n",
    "\n",
    "```\n",
    "\n",
    "```\n",
    "\n",
    "```\n",
    "\n",
    "```\n",
    "\n",
    "```\n",
    "\n",
    "```\n",
    "\n",
    "```\n",
    "\n",
    "```\n",
    "\n",
    "\n",
    "#### Some advanced stuff\n",
    "Here there are a few more tips on how to improve training that are a bit trickier to impliment. We strongly suggest that you try them _after_ you've got a good initial model.\n",
    "* __Use pre-trained embeddings__: you can use pre-trained weights from [there](http://ahogrammer.com/2017/01/20/the-list-of-pretrained-word-embeddings/) to kickstart your Embedding layer.\n",
    "  * Embedding layer has a matrix W (layer.W) which contains word embeddings for each word in the dictionary. You can just overwrite them with tf.assign.\n",
    "  * When using pre-trained embeddings, pay attention to the fact that model's dictionary is different from your own.\n",
    "  * You may want to switch trainable=False for embedding layer in first few epochs as in regular fine-tuning.  \n",
    "* __More efficient baching__: right now TF spends a lot of time iterating over \"0\"s\n",
    "  * This happens because batch is always padded to the length of a longest sentence\n",
    "  * You can speed things up by pre-generating batches of similar lengths and feeding it with randomly chosen pre-generated batch.\n",
    "  * This technically breaks the i.i.d. assumption, but it works unless you come up with some insane rnn architectures.\n",
    "* __Structured loss functions__: since we're tagging the whole sequence at once, we might as well train our network to do so.\n",
    "  * There's more than one way to do so, but we'd recommend starting with [Conditional Random Fields](http://blog.echen.me/2012/01/03/introduction-to-conditional-random-fields/)\n",
    "  * You could plug CRF as a loss function and still train by backprop. There's even some neat tensorflow [implementation](https://www.tensorflow.org/api_guides/python/contrib.crf) for you.\n"
   ]
  },
  {
   "cell_type": "code",
   "execution_count": null,
   "metadata": {},
   "outputs": [],
   "source": []
  }
 ],
 "metadata": {
  "kernelspec": {
   "display_name": "Python 3",
   "language": "python",
   "name": "python3"
  },
  "language_info": {
   "codemirror_mode": {
    "name": "ipython",
    "version": 3
   },
   "file_extension": ".py",
   "mimetype": "text/x-python",
   "name": "python",
   "nbconvert_exporter": "python",
   "pygments_lexer": "ipython3",
   "version": "3.5.2"
  },
  "latex_envs": {
   "LaTeX_envs_menu_present": true,
   "autoclose": false,
   "autocomplete": true,
   "bibliofile": "biblio.bib",
   "cite_by": "apalike",
   "current_citInitial": 1,
   "eqLabelWithNumbers": true,
   "eqNumInitial": 1,
   "hotkeys": {
    "equation": "Ctrl-E",
    "itemize": "Ctrl-I"
   },
   "labels_anchors": false,
   "latex_user_defs": false,
   "report_style_numbering": false,
   "user_envs_cfg": false
  }
 },
 "nbformat": 4,
 "nbformat_minor": 1
}
