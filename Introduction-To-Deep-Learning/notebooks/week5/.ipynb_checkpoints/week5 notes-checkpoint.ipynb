{
 "cells": [
  {
   "cell_type": "markdown",
   "metadata": {
    "heading_collapsed": true
   },
   "source": [
    "## Motivation for recurrent layers"
   ]
  },
  {
   "cell_type": "markdown",
   "metadata": {
    "hidden": true
   },
   "source": [
    "![](../../images/35.png)\n",
    "\n",
    "![](../../images/36.png)\n",
    "\n",
    "> Question 1\n",
    "\n",
    "How many weights are there in the first layer of the MLP? Do not forget about the bias vector!\n",
    "\n",
    "hidden neurons: 100\n",
    "\n",
    "window width: 100\n",
    "\n",
    "word embeddings size: 100\n",
    "\n",
    "\n",
    "- 10 100\n",
    "\n",
    "- 10 000\n",
    "\n",
    "- __1 000 100__\n",
    "\n",
    "__There are 100*100 inputs to the first layer of the MLP: 100 elements for each word in the window. Therefore the weight matrix contains 1M parameters. Additionally, the bias vector contains 100 parameters.__\n",
    "\n",
    "- 1 000 000\n",
    "\n",
    "\n",
    "![](../../images/37.png)\n",
    "\n",
    "![](../../images/38.png)\n",
    "\n",
    "\n",
    "> Question 2\n",
    "\n",
    "How many weights are there in the first layer of the MLP? Do not forget about the bias vector.\n",
    "\n",
    "hidden neurons: 100\n",
    "\n",
    "word embeddings size: 100\n",
    "\n",
    "we transfer hidden neurons of the first layer between time steps\n",
    "\n",
    "- __20 100__\n",
    "\n",
    "__There are 200 inputs to the first layer of the MLP: 100 from the current input and 100 from the previous hidden state. Therefore the weight matrix contains 200*100 parameters. Additionally, the bias vector contains 100 parameters.__\n",
    "\n",
    "- 10 100\n",
    "\n",
    "- 10 200\n",
    "\n",
    "- 20 200\n",
    "\n",
    "\n",
    "\n",
    "Takeaways:\n",
    "\n",
    "![](../../images/39.png)\n"
   ]
  },
  {
   "cell_type": "markdown",
   "metadata": {
    "heading_collapsed": true
   },
   "source": [
    "## Simple RNN and Backpropagation"
   ]
  },
  {
   "cell_type": "markdown",
   "metadata": {
    "hidden": true
   },
   "source": [
    "![](../../images/40.png)\n",
    "\n",
    "![](../../images/41.png)\n",
    "\n",
    "![](../../images/42.png)\n",
    "\n",
    "\n",
    "> Note:\n",
    "\n",
    "All weights are shared across time steps\n",
    "\n",
    "\n",
    "![](../../images/43.png)\n",
    "\n",
    "![](../../images/44.png)\n",
    "\n",
    "\n",
    "![](../../images/45.png)\n",
    "\n",
    "\n",
    "![](../../images/46.png)\n",
    "\n",
    "![](../../images/47.png)\n",
    "\n",
    "\n",
    "![](../../images/48.png)\n",
    "\n",
    "\n",
    "\n",
    "\n"
   ]
  },
  {
   "cell_type": "markdown",
   "metadata": {
    "heading_collapsed": true
   },
   "source": [
    "## The training of RNN"
   ]
  },
  {
   "cell_type": "markdown",
   "metadata": {
    "hidden": true
   },
   "source": [
    "### To train an RNN we need to backprop through layers and time\n",
    "\n",
    "\n",
    "![](../../images/49.png)\n",
    "\n",
    "\n",
    "__The more steps between the time moments k and t, the more elements are in this product__\n",
    "\n",
    "> Gradient Vanishing and Exploding !!\n",
    "\n",
    "- Values of these Jacobian matrices have particularly severe impact on the contribution from faraway steps\n",
    "\n",
    "![](../../images/50.png)\n",
    "\n",
    "![](../../images/51.png)\n",
    "\n",
    "![](../../images/52.png)\n",
    "\n",
    "\n"
   ]
  },
  {
   "cell_type": "markdown",
   "metadata": {
    "heading_collapsed": true
   },
   "source": [
    "## Dealing with vanishing and exploding gradients"
   ]
  },
  {
   "cell_type": "markdown",
   "metadata": {
    "hidden": true
   },
   "source": [
    "\n",
    "### Gradient Exploding\n",
    "\n",
    "![](../../images/53.png)\n",
    "\n",
    "![](../../images/54.png)\n",
    "\n",
    "![](../../images/55.png)\n",
    "\n",
    "### Gradient Vanishing\n",
    "\n",
    "![](../../images/56.png)\n",
    "\n",
    "![](../../images/57.png)\n",
    "\n",
    "\n",
    "> How can we deal with gradient vanishing and exploding?\n",
    "\n",
    "- LSTM, GRU\n",
    "- RELU activation function\n",
    "- Initialization of the recurrent weight matrix\n",
    "- Skip connections\n",
    "\n",
    "\n",
    "\n",
    "#### Property of orthogonal matrix\n",
    "\n",
    "![](../../images/58.png)\n",
    "\n",
    "So no matter how many times we perform repeated matrix multiplication, the resulting matrix does not explode or vanish.\n",
    "\n",
    "\n",
    "- Initialize W with an orthogonal matrix\n",
    "- Use orthogonal W through the whole training\n",
    "\n",
    "----\n",
    "\n",
    "In this way the second part of the Jacobian doesn't cause the vanishing gradient problem, at least on the first iterations of the training.\n",
    "\n",
    "\n",
    "\n",
    "__In this case, the network has a chance to find long range dependencies in the data.__\n",
    "\n",
    "----\n",
    "\n",
    "There are some approaches that utilize the properties of orthogonal matrices, not just for a proper initialization, but also for the parameterization of the weights for the whole training process.\n",
    "\n",
    "----\n",
    "__Takeaways:__\n",
    "\n",
    "- Exploding gradients are easy to detect but it is not clear how to detect vanishing gradients\n",
    "- Exploding gradients: \n",
    "    - gradient clipping \n",
    "    - truncated BPTT\n",
    "- Vanishing gradients:\n",
    "    - ReLU nonlinearity\n",
    "    - orthogonal initialization of the recurrent weights\n",
    "    - skip connection\n",
    "\n",
    "\n",
    "\n",
    "\n"
   ]
  },
  {
   "cell_type": "markdown",
   "metadata": {
    "heading_collapsed": true
   },
   "source": [
    "## Modern RNNs: LSTM"
   ]
  },
  {
   "cell_type": "markdown",
   "metadata": {
    "hidden": true
   },
   "source": [
    "![](../../images/59.png)\n",
    "\n",
    "When we do a back-prop on such layer, __gradient needs to go through non-linearity__ and __for multiplication by weight matrix W__, both can cause `gradient vanishing`\n",
    "\n",
    "\n",
    "### So the main idea is to create a short way for the gradients result any non-linearities or multiplications.\n",
    "\n",
    "\n",
    "- All sorts of LSTM propose to do it by adding a new separately way through recurrent layer --> __Interal memory C__ (__which other layers on the network do not have access to__)\n",
    "\n",
    "\n",
    "- At each step of LSTM, we compute not only the vector of hidden units H but also a vector of memory c on the same dimension\n",
    "\n",
    "As the result, we have two ways through such layer:\n",
    "\n",
    "- one between $H_{t-1}$ and $H_t$\n",
    "- second between the memory cells $C_{t-1}$ and $C_t$\n",
    "\n",
    "![](../../images/60.png)\n",
    "\n",
    "\n",
    "\n",
    "![](../../images/61.png)\n",
    "\n",
    "\n",
    "![](../../images/62.png)\n",
    "\n",
    "![](../../images/63.png)\n",
    "\n",
    "\n",
    "\n",
    "### For the Gates, we use only the sigmoid non-linearity\n",
    "\n",
    "It is important because we want the elements on the gates to take values from 0 to 1\n",
    "\n",
    "- value 1 --> open gate\n",
    "- value 0 --> close gate\n",
    "\n",
    "So if we multiply some info by the gate vector, we either get the same info or zero or some value in between\n",
    "\n",
    "\n",
    "![](../../images/64.png)\n",
    "\n",
    "![](../../images/66.png)\n",
    "\n",
    "\n",
    "\n",
    "- the input gate controls what to store in the memory\n",
    "- the __information vector__ g is multiplied by the input gate and then added to the memory\n",
    "- the output gate controld what to read from the memory and return to the outer \n",
    "\n",
    "\n",
    "![](../../images/65.png)\n",
    "\n",
    "![](../../images/67.png)\n",
    "\n",
    "- memory cell c are multiplied by the output gate and then returned as a new hidden units\n",
    "\n",
    "> How does help with the gradient vanishing problem?\n",
    "\n",
    "__There's not only one way through the recurrent layer __\n",
    "\n",
    "\n",
    "\n",
    "And the important thing is there is at least one short way for the information and for the gradients between memory cells $C_{t-1}$ and $C_t$. There is no any non-linearity or multiplication on this way.\n",
    "\n",
    "\n",
    "So if we calculate the Jacobian of $C_t$ with respect to $C_{t-1}$, __it's equal to 1!! So there's no vanishing problem anymore__\n",
    "\n",
    "\n",
    "![](../../images/69.png)\n",
    "\n",
    "![](../../images/68.png)\n",
    "\n",
    "\n",
    "\n",
    "Memory C has faint capacities so the values will be a mess after a lot of time steps. We need to be able to erase the cache info from memory from time to time, and  the __forget gate__ will help us do it, especially with long sequences.\n",
    "\n",
    "\n",
    "\n",
    "![](../../images/70.png)\n",
    "\n",
    "\n",
    "![](../../images/71.png)\n",
    "\n",
    "\n",
    "Forget gate is very important to long sequences, because of which we now have multiplication on the short way through the LSTM. \n",
    "\n",
    "So if we compute the Jacobian of $C_t$ with respect to $C_{t-1}$, it is equal to $F_t$ now (not 1) and the Forget Gate $F_t$ takes values from 0 to 1. So it is usually less than one and may cause vanishing gradient problem\n",
    "\n",
    "To do this, the proper initialization could be used.\n",
    "\n",
    "If the base of the forget gate is __initialized with high positive numbers, then the forget gate at first iteration with training is almost equal to one__\n",
    "\n",
    "\n",
    "__At the beginning, LSTM doesn't forget and can't find long range dependencies in the data. And later it learns to forget if it's necessary__\n",
    "\n",
    "\n",
    "\n",
    "\n",
    "\n",
    "\n",
    "\n",
    "\n",
    "\n",
    "\n",
    "\n",
    "\n",
    "\n",
    "\n",
    "\n",
    "\n",
    "\n",
    "\n",
    "\n"
   ]
  },
  {
   "cell_type": "markdown",
   "metadata": {
    "hidden": true
   },
   "source": [
    "### Intuition about how LSTM behave in practice "
   ]
  },
  {
   "cell_type": "markdown",
   "metadata": {
    "hidden": true
   },
   "source": [
    "\n",
    "![](../../images/72.png)\n",
    "\n",
    "\n",
    "![](../../images/73.png)\n",
    "\n",
    "\n",
    "Because of these different regimes, LSTM can work with the information more accurately, for example, when the simple RNN read something from data, it outputs the info at each time step and gradually forgets it each time. At the same situation, LSTM can carry the info much longer from time and outputs it only in the particular time steps\n",
    "\n",
    "\n",
    "\n",
    "![](../../images/74.png)\n",
    "\n",
    "\n",
    "> Takeaways:\n",
    "\n",
    "- LSTM has a lot of advantages compared with the simple RNN \n",
    "- __but LSTM has 4 times more parameters because each gate and the info left in g has its own set of parameters V, W and b__\n",
    "- which make LSTM less efficient in terms of memory and time and also makes the GRU architecture more likely \n",
    "\n"
   ]
  },
  {
   "cell_type": "markdown",
   "metadata": {
    "heading_collapsed": true
   },
   "source": [
    "## GRU"
   ]
  },
  {
   "cell_type": "markdown",
   "metadata": {
    "hidden": true
   },
   "source": [
    "\n",
    "The GRU layer doesn't contain an additional internal memory, but it also contains two gates that are called the reset and update gates.\n",
    "- these gates are computed in the same manner as the ones from LSTM so they're equal to the sigmoid function or the linear combination of the inputs.\n",
    "    - as a result, they can take queries from 0 to 1\n",
    "- there's other gate controls which part of the hidden units from the previous time step we use as an input to the information vector g\n",
    "    - it acts quite similar to an input gate in the LSTM. \n",
    "\n",
    "\n",
    "\n",
    "![](../../images/75.png)\n",
    "\n",
    "\n",
    "![](../../images/76.png)\n",
    "\n",
    "![](../../images/77.png)\n",
    "\n",
    "\n",
    "- The update gate controls the balance between the storing the previous values of the hidden units and  the writing the new info into hidden units __so it works as a combination of inputs and forget gates from the LSTM__\n",
    "\n",
    "The gradient vanishing problem in GRU is very similar to the one in LSTM. \n",
    "\n",
    "\n",
    "__Here we have a short way layer with only one multiplication by the update gate. The short way is actually an identity keep connection from $H_{t-1}$ to $H_t$__\n",
    "\n",
    "![](../../images/79.png)\n",
    "\n",
    "> Question: \n",
    "\n",
    "![](../../images/78.png)\n",
    "\n",
    "\n",
    "\n",
    "![](../../images/80.png)\n",
    "\n",
    "\n",
    "\n",
    "__We should initialize the base vector on the update gate with some high positive numbers, so that in the beginning of the training, the gradients go through these multiplications very easy and network is capable to find long range dependencies in the data__\n",
    "\n",
    "\n",
    "but we should not use not too high numbers here, since if the update gate is open, then the GRU layer does not pay much attention to the inputs X.\n",
    "\n",
    "\n",
    "### Rule of thumb\n",
    "\n",
    "![](../../images/81.png)\n",
    "\n",
    "\n",
    "### Or use a multi-layer RNN so we can stack several recurrent layers\n",
    "\n",
    "\n",
    "![](../../images/82.png)\n",
    "\n"
   ]
  },
  {
   "cell_type": "markdown",
   "metadata": {},
   "source": [
    "## Practical use cases for RNNs\n"
   ]
  },
  {
   "cell_type": "markdown",
   "metadata": {},
   "source": [
    "![](../../images/83.png)\n",
    "\n",
    "![](../../images/84.png)\n",
    "\n",
    "![](../../images/85.png)\n",
    "\n",
    "![](../../images/86.png)\n",
    "\n",
    "![](../../images/87.png)\n",
    "\n",
    "\n",
    "![](../../images/88.png)\n",
    "\n",
    "![](../../images/89.png)\n",
    "\n"
   ]
  }
 ],
 "metadata": {
  "kernelspec": {
   "display_name": "Python 3",
   "language": "python",
   "name": "python3"
  },
  "language_info": {
   "codemirror_mode": {
    "name": "ipython",
    "version": 3
   },
   "file_extension": ".py",
   "mimetype": "text/x-python",
   "name": "python",
   "nbconvert_exporter": "python",
   "pygments_lexer": "ipython3",
   "version": "3.5.2"
  },
  "latex_envs": {
   "LaTeX_envs_menu_present": true,
   "autoclose": false,
   "autocomplete": true,
   "bibliofile": "biblio.bib",
   "cite_by": "apalike",
   "current_citInitial": 1,
   "eqLabelWithNumbers": true,
   "eqNumInitial": 1,
   "hotkeys": {
    "equation": "Ctrl-E",
    "itemize": "Ctrl-I"
   },
   "labels_anchors": false,
   "latex_user_defs": false,
   "report_style_numbering": false,
   "user_envs_cfg": false
  }
 },
 "nbformat": 4,
 "nbformat_minor": 2
}
