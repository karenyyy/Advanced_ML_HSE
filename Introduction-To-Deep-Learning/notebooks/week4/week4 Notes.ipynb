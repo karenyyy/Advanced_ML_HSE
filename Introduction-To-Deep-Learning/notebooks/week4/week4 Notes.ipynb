{
 "cells": [
  {
   "cell_type": "markdown",
   "metadata": {
    "heading_collapsed": true
   },
   "source": [
    "## Intro to Unsupervised Learning\n"
   ]
  },
  {
   "cell_type": "markdown",
   "metadata": {
    "heading_collapsed": true,
    "hidden": true
   },
   "source": [
    "### Autoencoder"
   ]
  },
  {
   "cell_type": "markdown",
   "metadata": {
    "hidden": true
   },
   "source": [
    "![](../../images/9.png)\n",
    "\n",
    "![](../../images/10.png)\n",
    "\n",
    "![](../../images/11.png)\n",
    "\n",
    "\n",
    "> Question 1:\n",
    "\n",
    "What could possible go wrong with such autoencoder where the \"code\" is longer than the original data.\n",
    "\n",
    "- __Autoencoder can learn in such a way that doesn't produce good features__ \n",
    "\n",
    "- Autoencoder's computation graph is invalid\n",
    "\n",
    "- It is impossible to do backpropagation through such autoencoder\n",
    "\n",
    "- Autoencoder can't minimize MSE as efficiently as before\n",
    "\n",
    "\n",
    "![](../../images/12.png)\n",
    "\n",
    "#### Sparse Encoder -- use L1\n",
    "\n",
    "![](../../images/13.png)\n",
    "\n",
    "\n",
    "\n",
    "> Question 2:\n",
    "\n",
    "What happens when you regularize neural network weights with L1 regularization?\n",
    "\n",
    "L1 regularization means adding sum of absolute values of weights to the loss function.\n",
    "\n",
    "- Some weights may end up going to infinity\n",
    "\n",
    "- __Some weights may end up being exactly zero__\n",
    "\n",
    "- You can no longer train your network with backprop\n",
    "\n",
    "- Network tends to have smaller loss on training data\n",
    "\n",
    "#### Denoizing  Autoencoder -- use Dropout\n",
    "\n",
    "![](../../images/14.png)\n",
    "\n",
    "\n",
    "#### Denoizing  Autoencoder -- use Dropout to remove input data\n",
    "\n",
    "![](../../images/15.png)\n",
    "\n",
    "\n",
    "\n",
    "![](../../images/16.png)\n",
    "\n",
    "\n"
   ]
  },
  {
   "cell_type": "markdown",
   "metadata": {
    "heading_collapsed": true
   },
   "source": [
    "## Natural language processing primer"
   ]
  },
  {
   "cell_type": "markdown",
   "metadata": {
    "hidden": true
   },
   "source": [
    "\n",
    "\n",
    "![](../../images/17.png)\n",
    "\n",
    "![](../../images/18.png)\n",
    "\n",
    "![](../../images/19.png)\n",
    "\n",
    "### Embeddings\n",
    "\n",
    "Map data into a lower dimension space while preserving structure, MDS, LLE, __TSNE__, etc.\n",
    "\n",
    "TSNE: \n",
    "\n",
    "![](../../images/20.png)\n",
    "\n",
    "\n",
    "\n",
    "\n",
    "\n",
    "\n"
   ]
  },
  {
   "cell_type": "markdown",
   "metadata": {
    "hidden": true
   },
   "source": [
    "### Word2Vec"
   ]
  },
  {
   "cell_type": "markdown",
   "metadata": {
    "hidden": true
   },
   "source": [
    "![](../../images/21.png)\n",
    "\n",
    "\n",
    "> Question 1:\n",
    "\n",
    "What do you get if you compute a dot-product of a row-vector with one-hot encoding of a word[id=1337], named A, with arbitrary vector of weights named W?\n",
    "\n",
    "- A[1337]\n",
    "\n",
    "- A[0]\n",
    "\n",
    "- W[0]\n",
    "\n",
    "- __W[1337]__\n",
    "\n",
    "- Zero\n",
    "\n",
    "> Question 2:\n",
    "\n",
    "What is the result of multiplying row-vector A of one-hot encoded word id1337 by a matrix W of arbitrary weights of shape [num_words, num_units]?\n",
    "\n",
    "- __A row in W matrix, W[1337]__\n",
    "\n",
    "- A column in W matrix, W[:,1337]\n",
    "\n",
    "- A single number, W[1337,1337]\n",
    "\n",
    "- Exactly the matrix W\n",
    "\n",
    "- Exactly the vector A\n",
    "\n",
    "![](../../images/23.png)\n",
    "\n",
    "\n",
    "----\n",
    "Takeaway:\n",
    "\n",
    "- the matrix takes one-hot vector representation of one word, multiplies it by a matrix of weight\n",
    "    - it is basically the idea that we have these matrix, and for each kind of mini batch, for one word, we take the corresponding row of the matrix, then send it forward along the network\n",
    " \n",
    "- the second layer tries to take this representation, this word vector, to predict the neighboring words via dense layer, basically, by affine transformation\n",
    "\n",
    "- __If two words correspond to the same context, it's beneficial for the model to assign them to similar vectors. Therefore this kind of second matrix will be able to map them into similar contexts automatically__\n",
    "\n",
    "\n",
    "- We train this model by simply taking samples from the dataset, taking just sentences basically, then picking one word out of that sentence and using that word as the input, this is the middle word here. Now all other words in the sentence are considered as kind of target reference answer for our model and it tries to predict them. \n",
    "\n",
    "- __Once it converges, we can more or less count on this first matrix being the word representation we actually want__\n",
    "\n",
    "----\n",
    "\n",
    "#### This is not the only way to train word2vec. Another popular variation of this model is we could try to flip the model -- \n",
    "\n",
    "### Skip Gram Model -- take surrounding words and predict the middle word\n",
    "\n",
    "![](../../images/24.png)\n",
    "\n",
    "\n",
    "Which part of word2vec model would take most time to compute?\n",
    "\n",
    "For simplicity, assume that you compute it on modern CPU as of year 2017, your vocabulary contains 100 000 words and hidden vector size is 1000\n",
    "\n",
    "- Computing softmax given the predicted logits\n",
    "\n",
    "- Building one-hot vector from word id\n",
    "\n",
    "- Multiplying word vector by the right matrix\n",
    "\n",
    "- All steps are equally computationally heavy\n",
    "\n",
    "- __Multiplying one-hot encoded word by the left matrix__\n",
    "\n",
    "\n",
    "\n",
    "#### More word embedding\n",
    "\n",
    "- Faster softmax:\n",
    "    - Hierarchial softmax, negative samples\n",
    "- Alternative models:\n",
    "    - Glove\n",
    "- Sentence level:\n",
    "    - Doc2vec, skip-thought(RNN)\n",
    "    \n",
    "\n",
    "\n",
    "\n",
    "\n",
    "\n",
    "\n",
    "\n",
    "\n"
   ]
  },
  {
   "cell_type": "markdown",
   "metadata": {},
   "source": [
    "## Generative Adversarial Networks"
   ]
  },
  {
   "cell_type": "markdown",
   "metadata": {
    "heading_collapsed": true
   },
   "source": [
    "### Generative models 101"
   ]
  },
  {
   "cell_type": "markdown",
   "metadata": {
    "hidden": true
   },
   "source": [
    "![](../../images/25.png)\n",
    "\n",
    "![](../../images/26.png)\n",
    "\n",
    "> Question 1\n",
    "\n",
    "Which of those image representations is least sensitive to small shifts of objects on an image?\n",
    "\n",
    "- Image pixels in RGB format\n",
    "\n",
    "- Image pixels in CMYK format\n",
    "\n",
    "- Activation of first layer of a convolutional network trained on imagenet\n",
    "\n",
    "- __Activation of pre-final layer of a convolutional network trained on imagenet__\n",
    "\n",
    "- Image pixels in RGB after x2 super-resolution (linear interpolation)\n",
    "\n",
    "\n",
    "\n",
    "### Mean Squared Error\n",
    "\n",
    "#### Pixelwise MSE\n",
    "\n",
    "__A `cat on the left` is closer to `dog on the left` than to `cat on the right`__\n",
    "\n",
    "we may want to avoid this effect\n",
    "\n",
    "\n",
    "> Can we obtain image representation that is less sensitive to small shifts?\n",
    "\n",
    "### Sketch: using pre-trained nets\n",
    "\n",
    "![](../../images/27.png)\n",
    "\n",
    "\n",
    "$$L = || f(img) - f(Gen(seed))||$$\n",
    "\n",
    "----\n",
    "Takeaways:\n",
    "\n",
    "- The features in the intermediate layers usually contain elements like textures, edges, blobs, etc. When we go deep into the network, they contain high level semantic information, __EXCEPT FOR ORIENTATION AND POSITION (Introduce CapsNet in later notes)__\n",
    "\n",
    "> The trick with position here is that it doesn't actually depend on where on your image the cat is, if we try to classify it, it's still a cat. __So it's convenient for a network to learn features that don't change \n",
    "much if the cat's position kind of changes slightly__\n",
    "\n",
    "\n",
    "So we can take some intermediate layer deep enough in the network, and use the activations of the layer, apply squared error of these activations as the target metric.\n",
    "\n",
    "\n",
    "__We use the previously trained classifier as another kind of specially trained metric to train a different model__\n",
    "\n",
    "\n",
    "\n",
    "\n"
   ]
  },
  {
   "cell_type": "markdown",
   "metadata": {
    "heading_collapsed": true
   },
   "source": [
    "### Generative Adversarial Networks"
   ]
  },
  {
   "cell_type": "markdown",
   "metadata": {
    "hidden": true
   },
   "source": [
    "The idea of GAN is to train a model specifically to tell us whether a generated image is good enough or not\n",
    "\n",
    "----\n",
    "#### Two Networks\n",
    "\n",
    "- Generator\n",
    "    - it inputs some kind of scene, like random noise and some parameters like object orientation and features\n",
    "    - it outputs some generated images as close as possible to the groundtruth image\n",
    "    - At first, the output is random noise\n",
    "    - the entire generator is differentiable \n",
    "    \n",
    "- Discriminator\n",
    "    - discriminates between real and generated images output from the Generator\n",
    "    - At first, the distinguishing is very easy because the Generator is producing rubbish (__random initialization__)\n",
    "\n",
    "\n",
    "__In GAN, we train Discriminator in order to train Generator__\n",
    "\n",
    "![](../../images/28.png)\n",
    "\n",
    "\n",
    "Takeaway:\n",
    "- The Discriminator is a neural network, so it's usually differentiable, so it can train \n",
    "- The goal is to tune the generator in a way that tries to fool the discriminator, and then base on the discriminator's decision, we then adjust the generative mode, so that the image becomes more real in the eye of the discriminator\n",
    "- Through back propagation, we can get gradients that tell the generator how to  fool discriminator to tune the generator to produce better images to certain accuracy that the discriminator can no longer distinguish between real and generated images\n",
    "\n",
    "> Question 2\n",
    "\n",
    "So far we did this:\n",
    "\n",
    "(0) initialize generator and discriminator weights at random\n",
    "\n",
    "(1) train discriminator on to classify actual images against images generated by [untrained] generator\n",
    "\n",
    "(2) train generator to generate images that fool discriminator into believing they're real\n",
    "\n",
    "What's our logical next step?\n",
    "\n",
    "- Train discriminator again on same data as before\n",
    "\n",
    "- Train generator again to make discriminator believe it's fake again\n",
    "\n",
    "- __Train discriminator again on images generated by updated generator__\n",
    "\n",
    "\n",
    "- Train generator again on same data as before\n",
    "\n",
    "![](../../images/29.png)\n",
    "\n",
    "$$L_G = -\\log [1-Disc(Gen(seed))] \\rightarrow min$$\n",
    "\n",
    "![](../../images/30.png)\n",
    "\n",
    "$$L_D = -\\log [1-Disc(real)] - \\log Disc(Gen(seed))\\rightarrow max$$\n",
    "\n",
    "Algorithm\n",
    "    - sample noise z and images x\n",
    "    - for k in 1 to K\n",
    "        - train `discriminator(x)`,`discriminator(generator(z))`\n",
    "    - for m in 1 to M\n",
    "        - train `generator(z)`\n",
    "\n",
    "\n",
    "Result analysis:\n",
    "\n",
    "- generator and discriminator compete with each other\n",
    "- if one of these 2 wins, basically this means that we have to start the entire process all over again\n",
    "    - if discriminator wins, then it's kind of sigmoid probability estimate of images being fake or real, it's already near 0 or near 1 which means that __the gradients vanish__ since the sigmoid has a very small variance near the activation of 1 or 0. \n",
    "    - if generator wins, i.e. if generator is constantly able to train faster than discriminator, then the situation is even worse. __Because not only does it stop learning, it starts learning all the wrong things, making it fast enough to fool discriminator, discriminator is not able to give it clear gradients of how to improve__\n",
    "- Goal: must find a equilibrium!!\n",
    "- Ideal scenario:\n",
    "    - the whole process terminates when Generator wins after a large number of steps\n",
    "- ideal generator should perfect mimic\n",
    "the data distribution, be indistinguishable\n",
    "\n",
    "    \n",
    "    \n",
    "\n"
   ]
  },
  {
   "cell_type": "markdown",
   "metadata": {},
   "source": [
    "### Applications of adversarial approach"
   ]
  },
  {
   "cell_type": "markdown",
   "metadata": {},
   "source": [
    "Two domains\n",
    "- mnist digits vs. actual digits on photos\n",
    "\n",
    "The first domain is labeled, the second is not\n",
    "\n",
    "Goal: to tag for the real-world dataset\n",
    "\n",
    "\n",
    "![](../../images/31.png)\n",
    "\n",
    "![](../../images/32.png)\n",
    "\n",
    "\n",
    "![](../../images/33.png)\n",
    "\n",
    "> Question \n",
    "\n",
    "If you trained a discriminator network to distinguish between features on training & test images and it easily achieved 100% accuracy: the discriminator can perfectly tell featrues(train_images) from features(test_domain_images).\n",
    "\n",
    "Which of the following is true?\n",
    "\n",
    "- Features can be easily discriminated, therefore they are likely very useful for the main classification problem.\n",
    "\n",
    "- Discriminator achieves 100% accuracy, therefore the main classifier should also get good accuracy on test set.\n",
    "\n",
    "- Classifier behaves differently on test data, therefore it overfitted to training data.\n",
    "\n",
    "\n",
    "----\n",
    "\n",
    "\n",
    "### Domain adaptation\n",
    "\n",
    "__Idea: discriminator should not be able to distinguish features on two domains__\n",
    "\n",
    "\n",
    "\n",
    "$$-\\log P(real | h(x_{real})) - \\log [1-P(real | h(x_{mc}))] \\rightarrow \\min_{discriminator}$$\n",
    "\n",
    "$$L_{classifier} (y_{mc}, y(h(x_{mc}))) - \\log P(real | h(x_{mc})) \\rightarrow \\min_{classifier}$$\n",
    "\n",
    "\n",
    "\n",
    "Example: Art style transfer network structure\n",
    "\n",
    "- Extract texture from reference image\n",
    "- Extract content from original image\n",
    "\n",
    "\n",
    "![](../../images/34.png)\n",
    "\n",
    "\n",
    "> Question \n",
    "\n",
    "How can you get features that represent an image content (i.e. what objects are there on the image) without capturing it's texture & artistic style?\n",
    "\n",
    "- The exact same way you obtain texture features.\n",
    "\n",
    "- RGB pixel values would do\n",
    "\n",
    "- __Somewhere among the final layers of a CNN__\n",
    "\n",
    "\n",
    "\n",
    "\n",
    "\n",
    "\n"
   ]
  },
  {
   "cell_type": "markdown",
   "metadata": {
    "heading_collapsed": true
   },
   "source": [
    "### Additional note: CapsNet (regarding the orientation and position)"
   ]
  },
  {
   "cell_type": "code",
   "execution_count": 1,
   "metadata": {
    "hidden": true
   },
   "outputs": [
    {
     "ename": "NameError",
     "evalue": "name 'wdde' is not defined",
     "output_type": "error",
     "traceback": [
      "\u001b[0;31m---------------------------------------------------------------------------\u001b[0m",
      "\u001b[0;31mNameError\u001b[0m                                 Traceback (most recent call last)",
      "\u001b[0;32m<ipython-input-1-7e1710af7a56>\u001b[0m in \u001b[0;36m<module>\u001b[0;34m()\u001b[0m\n\u001b[0;32m----> 1\u001b[0;31m \u001b[0mwdde\u001b[0m\u001b[0;34m\u001b[0m\u001b[0m\n\u001b[0m",
      "\u001b[0;31mNameError\u001b[0m: name 'wdde' is not defined"
     ]
    }
   ],
   "source": [
    "wdde"
   ]
  },
  {
   "cell_type": "code",
   "execution_count": null,
   "metadata": {
    "hidden": true
   },
   "outputs": [],
   "source": []
  }
 ],
 "metadata": {
  "kernelspec": {
   "display_name": "Python 3",
   "language": "python",
   "name": "python3"
  },
  "language_info": {
   "codemirror_mode": {
    "name": "ipython",
    "version": 3
   },
   "file_extension": ".py",
   "mimetype": "text/x-python",
   "name": "python",
   "nbconvert_exporter": "python",
   "pygments_lexer": "ipython3",
   "version": "3.5.2"
  },
  "latex_envs": {
   "LaTeX_envs_menu_present": true,
   "autoclose": false,
   "autocomplete": true,
   "bibliofile": "biblio.bib",
   "cite_by": "apalike",
   "current_citInitial": 1,
   "eqLabelWithNumbers": true,
   "eqNumInitial": 1,
   "hotkeys": {
    "equation": "Ctrl-E",
    "itemize": "Ctrl-I"
   },
   "labels_anchors": false,
   "latex_user_defs": false,
   "report_style_numbering": false,
   "user_envs_cfg": false
  }
 },
 "nbformat": 4,
 "nbformat_minor": 2
}
