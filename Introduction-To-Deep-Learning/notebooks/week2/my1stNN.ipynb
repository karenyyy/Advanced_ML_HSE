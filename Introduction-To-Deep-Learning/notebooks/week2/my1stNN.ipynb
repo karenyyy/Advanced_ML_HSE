{
  "nbformat": 4,
  "nbformat_minor": 0,
  "metadata": {
    "colab": {
      "name": "my1stNN.ipynb",
      "version": "0.3.2",
      "views": {},
      "default_view": {},
      "provenance": [
        {
          "file_id": "1dsQfB7wLG63j5FaC2hjSXX1HRekHRbnq",
          "timestamp": 1532408824309
        }
      ],
      "collapsed_sections": []
    },
    "kernelspec": {
      "display_name": "Python 3",
      "language": "python",
      "name": "python3"
    }
  },
  "cells": [
    {
      "metadata": {
        "id": "rGZT-q1D_dbN",
        "colab_type": "text"
      },
      "cell_type": "markdown",
      "source": [
        "### Loading data"
      ]
    },
    {
      "metadata": {
        "id": "0d95CoXxDjzu",
        "colab_type": "code",
        "colab": {
          "autoexec": {
            "startup": false,
            "wait_interval": 0
          }
        }
      },
      "cell_type": "code",
      "source": [
        "import numpy as np\n",
        "import tensorflow as tf\n",
        "from tensorflow.python.framework import ops"
      ],
      "execution_count": 0,
      "outputs": []
    },
    {
      "metadata": {
        "id": "m9bPIKSX9gn1",
        "colab_type": "code",
        "colab": {
          "autoexec": {
            "startup": false,
            "wait_interval": 0
          },
          "base_uri": "https://localhost:8080/",
          "height": 300
        },
        "outputId": "992a2b9b-0beb-48f5-ec8f-481e4b63ab00",
        "executionInfo": {
          "status": "ok",
          "timestamp": 1532409293164,
          "user_tz": 240,
          "elapsed": 1260,
          "user": {
            "displayName": "Jiarong Ye",
            "photoUrl": "//lh4.googleusercontent.com/-q7b8noGUXEk/AAAAAAAAAAI/AAAAAAAAAPE/c6ZjOOV9LiQ/s50-c-k-no/photo.jpg",
            "userId": "110838105291424103468"
          }
        }
      },
      "cell_type": "code",
      "source": [
        "from preprocessed_mnist import load_dataset\n",
        "X_train, y_train, X_val, y_val, X_test, y_test = load_dataset()\n",
        "print(X_train.shape, y_train.shape)\n",
        "import matplotlib.pyplot as plt\n",
        "%matplotlib inline\n",
        "plt.imshow(X_train[0], cmap=\"Greys\");"
      ],
      "execution_count": 2,
      "outputs": [
        {
          "output_type": "stream",
          "text": [
            "Using TensorFlow backend.\n"
          ],
          "name": "stderr"
        },
        {
          "output_type": "stream",
          "text": [
            "(50000, 28, 28) (50000,)\n"
          ],
          "name": "stdout"
        },
        {
          "output_type": "display_data",
          "data": {
            "image/png": "[encoded data removed]",
            "text/plain": [
              "<matplotlib.figure.Figure at 0x7fc031176278>"
            ]
          },
          "metadata": {
            "tags": []
          }
        }
      ]
    },
    {
      "metadata": {
        "id": "Adrgt6f29gpA",
        "colab_type": "text"
      },
      "cell_type": "markdown",
      "source": [
        "### Defining Hyperparameters"
      ]
    },
    {
      "metadata": {
        "id": "cAyYnRuR9gpW",
        "colab_type": "code",
        "colab": {
          "autoexec": {
            "startup": false,
            "wait_interval": 0
          }
        }
      },
      "cell_type": "code",
      "source": [
        "n_classes = 10\n",
        "learning_rate = 0.0001\n",
        "keep_prob = 0.5\n",
        "starter_learning_rate = 0.00036\n",
        "num_epochs = 1000\n",
        "mini_batch_size = 64\n",
        "\n",
        "n_train = X_train.shape[0]\n",
        "n_valid = X_val.shape[0]\n",
        "n_test = X_test.shape[0]"
      ],
      "execution_count": 0,
      "outputs": []
    },
    {
      "metadata": {
        "id": "gcxjNMT9E9A1",
        "colab_type": "text"
      },
      "cell_type": "markdown",
      "source": [
        "### Data preprocessing"
      ]
    },
    {
      "metadata": {
        "id": "59UW7PJOE8nN",
        "colab_type": "code",
        "colab": {
          "autoexec": {
            "startup": false,
            "wait_interval": 0
          },
          "base_uri": "https://localhost:8080/",
          "height": 34
        },
        "outputId": "36722d24-3b70-4b8e-daf1-b40929574c4e",
        "executionInfo": {
          "status": "ok",
          "timestamp": 1532409294035,
          "user_tz": 240,
          "elapsed": 235,
          "user": {
            "displayName": "Jiarong Ye",
            "photoUrl": "//lh4.googleusercontent.com/-q7b8noGUXEk/AAAAAAAAAAI/AAAAAAAAAPE/c6ZjOOV9LiQ/s50-c-k-no/photo.jpg",
            "userId": "110838105291424103468"
          }
        }
      },
      "cell_type": "code",
      "source": [
        "X_train = X_train.reshape(n_train, -1).T\n",
        "X_val = X_val.reshape(n_valid, -1).T\n",
        "X_test = X_test.reshape(n_test, -1).T\n",
        "X_train.shape"
      ],
      "execution_count": 4,
      "outputs": [
        {
          "output_type": "execute_result",
          "data": {
            "text/plain": [
              "(784, 50000)"
            ]
          },
          "metadata": {
            "tags": []
          },
          "execution_count": 4
        }
      ]
    },
    {
      "metadata": {
        "id": "nNgzIOFpb6q2",
        "colab_type": "code",
        "colab": {
          "autoexec": {
            "startup": false,
            "wait_interval": 0
          },
          "base_uri": "https://localhost:8080/",
          "height": 34
        },
        "outputId": "b2a29438-df3a-4125-8c00-ac583cfdf957",
        "executionInfo": {
          "status": "ok",
          "timestamp": 1532409294563,
          "user_tz": 240,
          "elapsed": 200,
          "user": {
            "displayName": "Jiarong Ye",
            "photoUrl": "//lh4.googleusercontent.com/-q7b8noGUXEk/AAAAAAAAAAI/AAAAAAAAAPE/c6ZjOOV9LiQ/s50-c-k-no/photo.jpg",
            "userId": "110838105291424103468"
          }
        }
      },
      "cell_type": "code",
      "source": [
        "n_features = X_train.shape[0]\n",
        "n_features"
      ],
      "execution_count": 5,
      "outputs": [
        {
          "output_type": "execute_result",
          "data": {
            "text/plain": [
              "784"
            ]
          },
          "metadata": {
            "tags": []
          },
          "execution_count": 5
        }
      ]
    },
    {
      "metadata": {
        "id": "YvngkCgRHH-K",
        "colab_type": "code",
        "colab": {
          "autoexec": {
            "startup": false,
            "wait_interval": 0
          }
        }
      },
      "cell_type": "code",
      "source": [
        "def convert_to_one_hot(y, n_classes):\n",
        "    y = np.eye(n_classes)[y]\n",
        "    return y"
      ],
      "execution_count": 0,
      "outputs": []
    },
    {
      "metadata": {
        "id": "hJWfF24jI9h0",
        "colab_type": "code",
        "colab": {
          "autoexec": {
            "startup": false,
            "wait_interval": 0
          },
          "base_uri": "https://localhost:8080/",
          "height": 34
        },
        "outputId": "d90188b0-4f6a-45a1-f7c5-6c1716bfb714",
        "executionInfo": {
          "status": "ok",
          "timestamp": 1532409295419,
          "user_tz": 240,
          "elapsed": 249,
          "user": {
            "displayName": "Jiarong Ye",
            "photoUrl": "//lh4.googleusercontent.com/-q7b8noGUXEk/AAAAAAAAAAI/AAAAAAAAAPE/c6ZjOOV9LiQ/s50-c-k-no/photo.jpg",
            "userId": "110838105291424103468"
          }
        }
      },
      "cell_type": "code",
      "source": [
        "one_hot_y_train = convert_to_one_hot(y_train, n_classes).T\n",
        "one_hot_y_val = convert_to_one_hot(y_val, n_classes).T\n",
        "one_hot_y_test = convert_to_one_hot(y_test, n_classes).T\n",
        "one_hot_y_train.shape, one_hot_y_val.shape, one_hot_y_test.shape"
      ],
      "execution_count": 7,
      "outputs": [
        {
          "output_type": "execute_result",
          "data": {
            "text/plain": [
              "((10, 50000), (10, 10000), (10, 10000))"
            ]
          },
          "metadata": {
            "tags": []
          },
          "execution_count": 7
        }
      ]
    },
    {
      "metadata": {
        "id": "nubrAJgqC9jb",
        "colab_type": "text"
      },
      "cell_type": "markdown",
      "source": [
        "### Data Generator"
      ]
    },
    {
      "metadata": {
        "id": "H5cG3rzlC86X",
        "colab_type": "code",
        "colab": {
          "autoexec": {
            "startup": false,
            "wait_interval": 0
          }
        }
      },
      "cell_type": "code",
      "source": [
        "def generate_mini_batches(X, y, mini_batch_size, n_train):\n",
        "  mini_batches = []\n",
        "  index = np.random.permutation(n_train)\n",
        "  shuffled_X = X[:, index]\n",
        "  shuffled_y = y[:, index]\n",
        "  batches = n_train//mini_batch_size\n",
        "  for i in range(batches):\n",
        "    mini_batch_X = shuffled_X[:, i*mini_batch_size:(i+1)*mini_batch_size]\n",
        "    mini_batch_y = shuffled_y[:, i*mini_batch_size:(i+1)*mini_batch_size]  \n",
        "    mini_batches.append((mini_batch_X, mini_batch_y))\n",
        "  mini_batches.append((shuffled_X[:, batches*mini_batch_size:], shuffled_y[:, batches*mini_batch_size:]))\n",
        "  return mini_batches"
      ],
      "execution_count": 0,
      "outputs": []
    },
    {
      "metadata": {
        "id": "gzlXYUcDGLxe",
        "colab_type": "code",
        "colab": {
          "autoexec": {
            "startup": false,
            "wait_interval": 0
          },
          "base_uri": "https://localhost:8080/",
          "height": 34
        },
        "outputId": "5ec917f2-3c16-4c9f-a7c2-ec2090b1fc07",
        "executionInfo": {
          "status": "ok",
          "timestamp": 1532409296687,
          "user_tz": 240,
          "elapsed": 665,
          "user": {
            "displayName": "Jiarong Ye",
            "photoUrl": "//lh4.googleusercontent.com/-q7b8noGUXEk/AAAAAAAAAAI/AAAAAAAAAPE/c6ZjOOV9LiQ/s50-c-k-no/photo.jpg",
            "userId": "110838105291424103468"
          }
        }
      },
      "cell_type": "code",
      "source": [
        "mini_batches = generate_mini_batches(X_train, one_hot_y_train, mini_batch_size, n_train)\n",
        "len(mini_batches), len(mini_batches[0]), len(mini_batches[0][0]), len(mini_batches[0][1]), len(mini_batches[0][0][0]), len(mini_batches[0][1][0])"
      ],
      "execution_count": 9,
      "outputs": [
        {
          "output_type": "execute_result",
          "data": {
            "text/plain": [
              "(782, 2, 784, 10, 64, 64)"
            ]
          },
          "metadata": {
            "tags": []
          },
          "execution_count": 9
        }
      ]
    },
    {
      "metadata": {
        "id": "mySkWzMV9gpw",
        "colab_type": "text"
      },
      "cell_type": "markdown",
      "source": [
        "### Defining Inputs and Outputs "
      ]
    },
    {
      "metadata": {
        "id": "6KmhHoYK-Vpx",
        "colab_type": "code",
        "colab": {
          "autoexec": {
            "startup": false,
            "wait_interval": 0
          }
        }
      },
      "cell_type": "code",
      "source": [
        "def initialize_placeholders():\n",
        "  X = tf.placeholder(shape=[n_features, None], dtype=tf.float32, name='X')\n",
        "  y = tf.placeholder(shape=[n_classes, None], dtype=tf.float32, name='y')\n",
        "  return X, y"
      ],
      "execution_count": 0,
      "outputs": []
    },
    {
      "metadata": {
        "id": "O8OuezYg-XDU",
        "colab_type": "text"
      },
      "cell_type": "markdown",
      "source": [
        "### Defining Model Parameters and Other Variables"
      ]
    },
    {
      "metadata": {
        "id": "vtEezU2R-miH",
        "colab_type": "code",
        "colab": {
          "autoexec": {
            "startup": false,
            "wait_interval": 0
          }
        }
      },
      "cell_type": "code",
      "source": [
        "def initialize_parameters():\n",
        "  W1 = tf.get_variable(\"W1\", [128, 784], initializer = tf.contrib.layers.xavier_initializer(seed = 1))\n",
        "  b1 = tf.get_variable(\"b1\", [128,1], initializer = tf.zeros_initializer())\n",
        "  W2 = tf.get_variable(\"W2\", [128, 128], initializer = tf.contrib.layers.xavier_initializer(seed = 1))\n",
        "  b2 = tf.get_variable(\"b2\", [128,1], initializer = tf.zeros_initializer())\n",
        "  W3 = tf.get_variable(\"W3\", [10, 128], initializer = tf.contrib.layers.xavier_initializer(seed = 1))\n",
        "  b3 = tf.get_variable(\"b3\", [10,1], initializer = tf.zeros_initializer())\n",
        "  \n",
        "  parameters = {\"W1\": W1,\n",
        "                \"b1\": b1,\n",
        "                \"W2\": W2,\n",
        "                \"b2\": b2,\n",
        "                \"W3\": W3,\n",
        "                \"b3\": b3\n",
        "               }\n",
        "  \n",
        "  return parameters"
      ],
      "execution_count": 0,
      "outputs": []
    },
    {
      "metadata": {
        "id": "GGLbBGe0-nHF",
        "colab_type": "text"
      },
      "cell_type": "markdown",
      "source": [
        "### Defining Inference of the Model\n",
        "\n"
      ]
    },
    {
      "metadata": {
        "id": "5rMYO6ldM6OA",
        "colab_type": "code",
        "colab": {
          "autoexec": {
            "startup": false,
            "wait_interval": 0
          }
        }
      },
      "cell_type": "code",
      "source": [
        "def forward_propagation(X, y, parameters):\n",
        "  W1, b1, W2, b2, W3, b3 = parameters['W1'], parameters['b1'], parameters['W2'], parameters['b2'], parameters['W3'], parameters['b3']\n",
        "  Z1 = tf.add(tf.matmul(W1, X), b1)\n",
        "  A1 = tf.nn.relu(Z1)\n",
        "  Z2 = tf.add(tf.matmul(W2, A1), b2)\n",
        "  A2 = tf.nn.relu(Z2)\n",
        "  #A2 = tf.nn.dropout(A2, keep_prob)\n",
        "  Z3 = tf.add(tf.matmul(W3, A2), b3)\n",
        "  return Z3"
      ],
      "execution_count": 0,
      "outputs": []
    },
    {
      "metadata": {
        "id": "guMQVu-b-8rx",
        "colab_type": "text"
      },
      "cell_type": "markdown",
      "source": [
        "### Defining Loss"
      ]
    },
    {
      "metadata": {
        "id": "hymYZhpP_D_7",
        "colab_type": "code",
        "colab": {
          "autoexec": {
            "startup": false,
            "wait_interval": 0
          }
        }
      },
      "cell_type": "code",
      "source": [
        "def compute_loss(Z, y):\n",
        "  logits = tf.transpose(Z)\n",
        "  labels = tf.transpose(y)\n",
        "  return tf.reduce_mean(tf.nn.softmax_cross_entropy_with_logits(logits=logits, labels=labels))"
      ],
      "execution_count": 0,
      "outputs": []
    },
    {
      "metadata": {
        "id": "PU1CjZ9R_pl7",
        "colab_type": "text"
      },
      "cell_type": "markdown",
      "source": [
        "### Training"
      ]
    },
    {
      "metadata": {
        "id": "vDjNeRcH_qhG",
        "colab_type": "code",
        "colab": {
          "autoexec": {
            "startup": false,
            "wait_interval": 0
          }
        }
      },
      "cell_type": "code",
      "source": [
        "def model():\n",
        "  ops.reset_default_graph()\n",
        "  costs = []\n",
        "  X, y = initialize_placeholders()\n",
        "  parameters = initialize_parameters()\n",
        "  Z3 = forward_propagation(X, y, parameters)\n",
        "  cost = compute_loss(Z3, y)\n",
        "  #global_step = tf.Variable(0, trainable=False)\n",
        "  #learning_rate = tf.train.exponential_decay(learning_rate, global_step, 100, 0.85, staircase=True)\n",
        "  optimizer = tf.train.AdamOptimizer(learning_rate).minimize(cost)\n",
        "  \n",
        "  init = tf.global_variables_initializer()\n",
        "  \n",
        "  sess = tf.InteractiveSession()\n",
        "  sess.run(init)\n",
        "  \n",
        "  for epoch in range(num_epochs):\n",
        "    epoch_cost = 0\n",
        "    num_minibatches = int(n_train / mini_batch_size) \n",
        "    mini_batches = generate_mini_batches(X_train, one_hot_y_train, mini_batch_size, n_train)\n",
        "    \n",
        "    for mini_batch in mini_batches:\n",
        "      (mini_batch_X, mini_batch_y) = mini_batch\n",
        "      _, minibatch_cost = sess.run([optimizer, cost], feed_dict={X:mini_batch_X,\n",
        "                                           y:mini_batch_y})\n",
        "      epoch_cost+= minibatch_cost/num_minibatches \n",
        "    \n",
        "    if epoch % 50 == 0:\n",
        "      print (\"Cost after epoch %i: %f\" % (epoch, epoch_cost))\n",
        "    if epoch %5 ==0:\n",
        "      costs.append(epoch_cost)\n",
        "    \n",
        "  plt.plot(costs)\n",
        "  plt.ylabel('cost')\n",
        "  plt.xlabel('iterations (per tens)')\n",
        "  plt.title(\"Cost Convergence\")\n",
        "  plt.show()\n",
        "  \n",
        "  parameters = sess.run(parameters)\n",
        "  \n",
        "  accuracy = tf.reduce_mean(tf.cast(tf.equal(tf.arg_max(A3), tf.arg_max(y)), dtype=tf.float32))\n",
        "  \n",
        "  \n",
        "  print (\"Train Accuracy:\", accuracy.eval({X: X_train, Y: Y_train}))\n",
        "  print (\"Validation Accuracy:\", accuracy.eval({X: X_val, Y: Y_val}))\n",
        "  \n",
        "  return parameters"
      ],
      "execution_count": 0,
      "outputs": []
    },
    {
      "metadata": {
        "id": "WpWsby9ZWNMH",
        "colab_type": "code",
        "colab": {
          "autoexec": {
            "startup": false,
            "wait_interval": 0
          },
          "base_uri": "https://localhost:8080/",
          "height": 354
        },
        "outputId": "fc069302-d0b8-4888-c283-f54277d644c0"
      },
      "cell_type": "code",
      "source": [
        "parameters = model()"
      ],
      "execution_count": 0,
      "outputs": [
        {
          "output_type": "stream",
          "text": [
            "WARNING:tensorflow:From <ipython-input-13-95cd178ecc6f>:4: softmax_cross_entropy_with_logits (from tensorflow.python.ops.nn_ops) is deprecated and will be removed in a future version.\n",
            "Instructions for updating:\n",
            "\n",
            "Future major versions of TensorFlow will allow gradients to flow\n",
            "into the labels input on backprop by default.\n",
            "\n",
            "See @{tf.nn.softmax_cross_entropy_with_logits_v2}.\n",
            "\n",
            "Cost after epoch 0: 0.766582\n",
            "Cost after epoch 50: 0.005448\n",
            "Cost after epoch 100: 0.000136\n",
            "Cost after epoch 150: 0.000016\n",
            "Cost after epoch 200: 0.000003\n",
            "Cost after epoch 250: 0.000001\n",
            "Cost after epoch 300: 0.000002\n",
            "Cost after epoch 350: 0.000000\n",
            "Cost after epoch 400: 0.000000\n",
            "Cost after epoch 450: 0.000000\n"
          ],
          "name": "stdout"
        }
      ]
    }
  ]
}